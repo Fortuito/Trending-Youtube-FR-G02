{
 "cells": [
  {
   "cell_type": "markdown",
   "metadata": {},
   "source": [
    "Trending YouTube Video Statistics Analysis Para Francia G02"
   ]
  },
  {
   "cell_type": "markdown",
   "metadata": {},
   "source": [
    "Objetivo\n",
    "Desarrollar una propuesta de análisis y analítica a partir de un conjunto de datos, aplicando lametodología CRISP-DM"
   ]
  },
  {
   "cell_type": "markdown",
   "metadata": {},
   "source": [
    "LIMPIEZA DE DATOS\n",
    "\n",
    "1. Los datos de cada país se encuentran en archivos individuales en formato CSV y la descripciónde sus categorías en un archivo de tipo JSON\n",
    "\n",
    "2. Este conjunto de datos, ha sido modificado incorporándole cuatro nuevas columnas:\n",
    "\n",
    "    • state\n",
    "\n",
    "    • lat\n",
    "\n",
    "    • lon\n",
    "\n",
    "    • geometry\n",
    "\n",
    "3. Se debe comprender el negocio y realizar la inspeccion de los datos, verificar su calidad, limpiar los datos y preprocesar los datos.\n",
    "\n",
    "4. El dataset limpio estara dentro de la carpeta 'data' llamado 'clean_FR.csv'"
   ]
  },
  {
   "cell_type": "markdown",
   "metadata": {},
   "source": [
    "PREGUNTAS A RESPONDER\n",
    "\n",
    "POR CATEGORIA DE VIDEO\n",
    "1. ¿Qué categorías de videos son las de mayor tendencia?\n",
    "2. ¿Qué categorías de videos son los que más gustan? ¿Y las que menos gustan?\n",
    "3. ¿Qué categorías de videos tienen la mejor proporción (ratio) de “Me gusta” / “No megusta”?\n",
    "4. ¿Qué categorías de videos tienen la mejor proporción (ratio) de “Vistas” /“Comentarios”?\n",
    "\n",
    "POR EL TIEMPO TRANSCURRIDO\n",
    "\n",
    "5. ¿Cómo ha cambiado el volumen de los videos en tendencia a lo largo del tiempo?\n",
    "\n",
    "POR CANALES DE YOUTUBE\n",
    "\n",
    "6. ¿Qué Canales de YouTube son tendencia más frecuentemente? ¿Y cuáles con menos frecuencia?\n",
    "\n",
    "POR GEOGRAFIA DEL PAIS\n",
    "\n",
    "7. ¿En qué Estados se presenta el mayor número de “Vistas”, “Me gusta” y “No me gusta”?\n",
    "\n",
    "ADICIONALMENTE AL CLIENTE LE GUSTARIA CONOCER\n",
    "\n",
    "8. ¿Es factible predecir el número de “Vistas” o “Me gusta” o “No me gusta”?\n",
    "9. ¿Los videos en tendencia son los que mayor cantidad de comentarios positivos reciben?"
   ]
  },
  {
   "cell_type": "markdown",
   "metadata": {},
   "source": [
    "LIMPIEZA DE DATOS CODIGO"
   ]
  },
  {
   "cell_type": "code",
   "execution_count": 2,
   "metadata": {},
   "outputs": [],
   "source": [
    "import numpy as np\n",
    "import pandas as pd\n",
    "import statsmodels.api as sm\n",
    "import matplotlib.pyplot as plt\n",
    "import seaborn as sns\n",
    "%matplotlib inline\n"
   ]
  },
  {
   "cell_type": "code",
   "execution_count": 3,
   "metadata": {},
   "outputs": [],
   "source": [
    "#Importar data\n",
    "\n",
    "FR_df=pd.read_csv(\"FRvideos_cc50_202101.csv\")"
   ]
  },
  {
   "cell_type": "code",
   "execution_count": 4,
   "metadata": {},
   "outputs": [],
   "source": [
    "#Importar el json y extraer la data que nos interesa\n",
    "import json\n",
    "FR_category={}\n",
    "with open(\"FR_category_id.json\") as f:\n",
    "    FR_data=json.load(f)\n",
    "for i in list(pd.DataFrame(FR_data['items']).id.values):\n",
    "    FR_category[i]=pd.DataFrame(FR_data['items'])[pd.DataFrame(FR_data['items']).id==i].snippet.values[0]['title']"
   ]
  },
  {
   "cell_type": "code",
   "execution_count": 5,
   "metadata": {},
   "outputs": [],
   "source": [
    "#vemos la informacion de toda la informacion de las columnas\n",
    "pd.set_option('display.max_columns', None)\n",
    "pd.set_option('display.max_rows', None)\n",
    "pd.set_option('display.max_colwidth', None)"
   ]
  },
  {
   "cell_type": "code",
   "execution_count": 6,
   "metadata": {},
   "outputs": [
    {
     "data": {
      "text/html": [
       "<div>\n",
       "<style scoped>\n",
       "    .dataframe tbody tr th:only-of-type {\n",
       "        vertical-align: middle;\n",
       "    }\n",
       "\n",
       "    .dataframe tbody tr th {\n",
       "        vertical-align: top;\n",
       "    }\n",
       "\n",
       "    .dataframe thead th {\n",
       "        text-align: right;\n",
       "    }\n",
       "</style>\n",
       "<table border=\"1\" class=\"dataframe\">\n",
       "  <thead>\n",
       "    <tr style=\"text-align: right;\">\n",
       "      <th></th>\n",
       "      <th>video_id</th>\n",
       "      <th>trending_date</th>\n",
       "      <th>title</th>\n",
       "      <th>channel_title</th>\n",
       "      <th>category_id</th>\n",
       "      <th>publish_time</th>\n",
       "      <th>tags</th>\n",
       "      <th>views</th>\n",
       "      <th>likes</th>\n",
       "      <th>dislikes</th>\n",
       "      <th>comment_count</th>\n",
       "      <th>thumbnail_link</th>\n",
       "      <th>comments_disabled</th>\n",
       "      <th>ratings_disabled</th>\n",
       "      <th>video_error_or_removed</th>\n",
       "      <th>description</th>\n",
       "      <th>state</th>\n",
       "      <th>lat</th>\n",
       "      <th>lon</th>\n",
       "      <th>geometry</th>\n",
       "    </tr>\n",
       "  </thead>\n",
       "  <tbody>\n",
       "    <tr>\n",
       "      <th>3281</th>\n",
       "      <td>_VXs7NSl96o</td>\n",
       "      <td>17.30.11</td>\n",
       "      <td>Gauvain Sers - Dans mes poches (En attendant le clip)</td>\n",
       "      <td>GauvainSersVEVO</td>\n",
       "      <td>10</td>\n",
       "      <td>2017-11-29T16:00:06.000Z</td>\n",
       "      <td>gauvain sers\"|\"renaud\"|\"chanson\"|\"dans mes poches\"|\"clip\"|\"pourvu\"|\"casquette\"|\"creuse\"|\"video\"|\"nouvel album\"|\"chanson a texte\"|\"chanson francaise\"|\"amelie poulain\"|\"jeunet</td>\n",
       "      <td>3859</td>\n",
       "      <td>194</td>\n",
       "      <td>4</td>\n",
       "      <td>13</td>\n",
       "      <td>https://i.ytimg.com/vi/_VXs7NSl96o/default.jpg</td>\n",
       "      <td>False</td>\n",
       "      <td>False</td>\n",
       "      <td>False</td>\n",
       "      <td>PREMIER ALBUM DISPONIBLE : https://GauvainSers.lnk.to/PourvuAlbum \\n\\nGauvain Sers en concert \\nToutes les dates sur le site &amp; réseaux: \\nhttp://www.gauvainsers.com \\nhttp://www.facebook.com/gauvainsers \\nhttp://www.twitter.com/gauvainsers \\nhttp://www.instagram.com/gauvainsers \\n\\nTOUR : Limouzart Productions - bertrand@limouzart.com - http://www.limouzart.com \\nMANAGEMENT : Bellevue Music - contact@bellevuemusic.net - http://www.bellevuemusic.net\\n\\nMusic video by Gauvain Sers performing Dans mes poches. (C) 2017 Mercury Music Group\\n\\nhttp://vevo.ly/6MrmU8</td>\n",
       "      <td>Nord Pas De Calais</td>\n",
       "      <td>50.283325</td>\n",
       "      <td>2.783334</td>\n",
       "      <td>POINT (2.783333698 50.28332481)</td>\n",
       "    </tr>\n",
       "    <tr>\n",
       "      <th>1234</th>\n",
       "      <td>J7zof4I8Wx4</td>\n",
       "      <td>17.20.11</td>\n",
       "      <td>Sarounette : RANGER SA CHAMBRE</td>\n",
       "      <td>Sarounette *</td>\n",
       "      <td>10</td>\n",
       "      <td>2017-11-19T08:35:11.000Z</td>\n",
       "      <td>sarounette\"|\"ranger sa chambre\"|\"comptines\"|\"ludique\"|\"chanteuse pour enfants\"|\"anne sylvaistre\"|\"henry dès</td>\n",
       "      <td>10376</td>\n",
       "      <td>144</td>\n",
       "      <td>67</td>\n",
       "      <td>0</td>\n",
       "      <td>https://i.ytimg.com/vi/J7zof4I8Wx4/default.jpg</td>\n",
       "      <td>True</td>\n",
       "      <td>False</td>\n",
       "      <td>False</td>\n",
       "      <td>PAROLE DE LA CHANSON RANGER SA CHAMBRE :\\n\\nMes enfants quel est ce désordre ?\\nTout est sorti et tout déborde\\nCette chambre c’est le far West\\nMais ou est passé ta veste ?!\\n\\nRemettez tout dans les placards\\nRefaites les lits et les tiroirs\\nVous êtes des chenapans\\nMais faites plaisir à Maman\\n\\nRefrain :\\nEt 1 et 2 et 3 et 4 Je veux que l’on m’épate\\nEt 5 et 6 et 7 et 8  Que vous rangiez très vite\\nEt 9 et 10 et 11 et 12   il faut que tout le monde bouge\\nVous avez enfin terminé ? C’est l’heure du goûter ! \\n\\n\\nMais c'est magnifique, super, c'est extraordinaire !!! Mais??\\n\\nMais que vois-je là petits brigands\\nTout est caché sous le divan\\nVous vous êtes moqués de moi\\nLa c’est sûr vous êtes les rois\\n\\nPromis si vous vous dépêchez\\nVous aurez droit a un bon gouter\\nAvec des œufs pleins de surprises\\nEt des escargots en réglisse\\n\\n\\nRefrain :\\nEt 1 et 2 et 3 et 4 Je veux que l’on m’épate\\nEt 5 et 6 et 7 et 8  Que vous rangiez très vite\\nEt 9 et 10 et 11 et 12   il faut que tout le monde bouge\\nVous avez enfin terminé ? C’est l’heure du gouter !! \\n\\nRefrain :\\nEt 1 et 2 et 3 et 4 Je veux que l’on m’épate\\nEt 5 et 6 et 7 et 8  Que vous rangiez très vite\\nEt 9 et 10 et 11 et 12   il faut que tout le monde bouge\\nVous avez enfin terminé ? C’est l’heure du gouter !! Ouéééé\\n\\nPour nous suivre : \\n\\nFacebook : page sarounette\\n\\nInstagram : sarounette_chansons\\n\\nContact : sarounette.contact@gmail.com</td>\n",
       "      <td>Lorraine</td>\n",
       "      <td>48.683681</td>\n",
       "      <td>6.200024</td>\n",
       "      <td>POINT (6.200024372 48.68368085)</td>\n",
       "    </tr>\n",
       "    <tr>\n",
       "      <th>27813</th>\n",
       "      <td>pLj5xMCDYx8</td>\n",
       "      <td>18.04.04</td>\n",
       "      <td>Barbara détruit Abdel - Blanche jette son alliance, les photos avec Nicolas à la poubelle</td>\n",
       "      <td>Samia &amp; Nouveautés</td>\n",
       "      <td>22</td>\n",
       "      <td>2018-04-03T16:00:05.000Z</td>\n",
       "      <td>Plus belle la vie\"|\"PBLV\"|\"Plus belle la vie spoilers\"|\"Intrigues\"|\"Actu\"|\"Spoilers\"|\"en avance\"|\"résumé\"|\"Nouveautés</td>\n",
       "      <td>2838</td>\n",
       "      <td>9</td>\n",
       "      <td>2</td>\n",
       "      <td>0</td>\n",
       "      <td>https://i.ytimg.com/vi/pLj5xMCDYx8/default.jpg</td>\n",
       "      <td>False</td>\n",
       "      <td>False</td>\n",
       "      <td>False</td>\n",
       "      <td>Découvrez le résumé détaillé de Plus belle la vie du jeudi 5 avril 2018\\n\\n★ Veuillez aimer, commenter et vous inscrire!\\n\\nhttps://twitter.com/pblvofficiel \\nhttps://www.facebook.com/plusbellelavie \\nhttps://www.instagram.com/pblvofficiel \\nRetrouvez les épisodes en exclusivité sur https://pluzzvad.francetv.fr/\\n\\nLa source &amp; Read more at:\\n★http://www.pblv-plusbellelavie.fr\\n★http://www.nouveautes-tele.com/\\n★https://www.telestar.fr/\\n★http://www.toutelatele.com/\\n(Thanks To The Writers For Their Hard Work) \\n\\nTrack: Different Heaven - Nekozilla [NCS Release]\\nMusic provided by NoCopyrightSounds. \\nWatch: https://youtu.be/6FNHe3kf8_s\\nDownload this track for FREE: http://bit.ly/different_heaven_nekozilla\\n\\nContact: thomasedison@soaps-s.com</td>\n",
       "      <td>Provence Alpes Cote D'azur</td>\n",
       "      <td>43.519991</td>\n",
       "      <td>5.449993</td>\n",
       "      <td>POINT (5.449992634 43.51999086)</td>\n",
       "    </tr>\n",
       "  </tbody>\n",
       "</table>\n",
       "</div>"
      ],
      "text/plain": [
       "          video_id trending_date   \n",
       "3281   _VXs7NSl96o      17.30.11  \\\n",
       "1234   J7zof4I8Wx4      17.20.11   \n",
       "27813  pLj5xMCDYx8      18.04.04   \n",
       "\n",
       "                                                                                           title   \n",
       "3281                                       Gauvain Sers - Dans mes poches (En attendant le clip)  \\\n",
       "1234                                                              Sarounette : RANGER SA CHAMBRE   \n",
       "27813  Barbara détruit Abdel - Blanche jette son alliance, les photos avec Nicolas à la poubelle   \n",
       "\n",
       "            channel_title  category_id              publish_time   \n",
       "3281      GauvainSersVEVO           10  2017-11-29T16:00:06.000Z  \\\n",
       "1234         Sarounette *           10  2017-11-19T08:35:11.000Z   \n",
       "27813  Samia & Nouveautés           22  2018-04-03T16:00:05.000Z   \n",
       "\n",
       "                                                                                                                                                                                tags   \n",
       "3281   gauvain sers\"|\"renaud\"|\"chanson\"|\"dans mes poches\"|\"clip\"|\"pourvu\"|\"casquette\"|\"creuse\"|\"video\"|\"nouvel album\"|\"chanson a texte\"|\"chanson francaise\"|\"amelie poulain\"|\"jeunet  \\\n",
       "1234                                                                     sarounette\"|\"ranger sa chambre\"|\"comptines\"|\"ludique\"|\"chanteuse pour enfants\"|\"anne sylvaistre\"|\"henry dès   \n",
       "27813                                                          Plus belle la vie\"|\"PBLV\"|\"Plus belle la vie spoilers\"|\"Intrigues\"|\"Actu\"|\"Spoilers\"|\"en avance\"|\"résumé\"|\"Nouveautés   \n",
       "\n",
       "       views  likes  dislikes  comment_count   \n",
       "3281    3859    194         4             13  \\\n",
       "1234   10376    144        67              0   \n",
       "27813   2838      9         2              0   \n",
       "\n",
       "                                       thumbnail_link  comments_disabled   \n",
       "3281   https://i.ytimg.com/vi/_VXs7NSl96o/default.jpg              False  \\\n",
       "1234   https://i.ytimg.com/vi/J7zof4I8Wx4/default.jpg               True   \n",
       "27813  https://i.ytimg.com/vi/pLj5xMCDYx8/default.jpg              False   \n",
       "\n",
       "       ratings_disabled  video_error_or_removed   \n",
       "3281              False                   False  \\\n",
       "1234              False                   False   \n",
       "27813             False                   False   \n",
       "\n",
       "                                                                                                                                                                                                                                                                                                                                                                                                                                                                                                                                                                                                                                                                                                                                                                                                                                                                                                                                                                                                                                                                                                                                                                                                                                                                                                                                                                                                                                                                               description   \n",
       "3281                                                                                                                                                                                                                                                                                                                                                                                                                                                                                                                                                                                                                                                                                                                                                                                                                                                                                                 PREMIER ALBUM DISPONIBLE : https://GauvainSers.lnk.to/PourvuAlbum \\n\\nGauvain Sers en concert \\nToutes les dates sur le site & réseaux: \\nhttp://www.gauvainsers.com \\nhttp://www.facebook.com/gauvainsers \\nhttp://www.twitter.com/gauvainsers \\nhttp://www.instagram.com/gauvainsers \\n\\nTOUR : Limouzart Productions - bertrand@limouzart.com - http://www.limouzart.com \\nMANAGEMENT : Bellevue Music - contact@bellevuemusic.net - http://www.bellevuemusic.net\\n\\nMusic video by Gauvain Sers performing Dans mes poches. (C) 2017 Mercury Music Group\\n\\nhttp://vevo.ly/6MrmU8  \\\n",
       "1234   PAROLE DE LA CHANSON RANGER SA CHAMBRE :\\n\\nMes enfants quel est ce désordre ?\\nTout est sorti et tout déborde\\nCette chambre c’est le far West\\nMais ou est passé ta veste ?!\\n\\nRemettez tout dans les placards\\nRefaites les lits et les tiroirs\\nVous êtes des chenapans\\nMais faites plaisir à Maman\\n\\nRefrain :\\nEt 1 et 2 et 3 et 4 Je veux que l’on m’épate\\nEt 5 et 6 et 7 et 8  Que vous rangiez très vite\\nEt 9 et 10 et 11 et 12   il faut que tout le monde bouge\\nVous avez enfin terminé ? C’est l’heure du goûter ! \\n\\n\\nMais c'est magnifique, super, c'est extraordinaire !!! Mais??\\n\\nMais que vois-je là petits brigands\\nTout est caché sous le divan\\nVous vous êtes moqués de moi\\nLa c’est sûr vous êtes les rois\\n\\nPromis si vous vous dépêchez\\nVous aurez droit a un bon gouter\\nAvec des œufs pleins de surprises\\nEt des escargots en réglisse\\n\\n\\nRefrain :\\nEt 1 et 2 et 3 et 4 Je veux que l’on m’épate\\nEt 5 et 6 et 7 et 8  Que vous rangiez très vite\\nEt 9 et 10 et 11 et 12   il faut que tout le monde bouge\\nVous avez enfin terminé ? C’est l’heure du gouter !! \\n\\nRefrain :\\nEt 1 et 2 et 3 et 4 Je veux que l’on m’épate\\nEt 5 et 6 et 7 et 8  Que vous rangiez très vite\\nEt 9 et 10 et 11 et 12   il faut que tout le monde bouge\\nVous avez enfin terminé ? C’est l’heure du gouter !! Ouéééé\\n\\nPour nous suivre : \\n\\nFacebook : page sarounette\\n\\nInstagram : sarounette_chansons\\n\\nContact : sarounette.contact@gmail.com   \n",
       "27813                                                                                                                                                                                                                                                                                                                                                                                                                                                                                                                                                                                                                                                                                                    Découvrez le résumé détaillé de Plus belle la vie du jeudi 5 avril 2018\\n\\n★ Veuillez aimer, commenter et vous inscrire!\\n\\nhttps://twitter.com/pblvofficiel \\nhttps://www.facebook.com/plusbellelavie \\nhttps://www.instagram.com/pblvofficiel \\nRetrouvez les épisodes en exclusivité sur https://pluzzvad.francetv.fr/\\n\\nLa source & Read more at:\\n★http://www.pblv-plusbellelavie.fr\\n★http://www.nouveautes-tele.com/\\n★https://www.telestar.fr/\\n★http://www.toutelatele.com/\\n(Thanks To The Writers For Their Hard Work) \\n\\nTrack: Different Heaven - Nekozilla [NCS Release]\\nMusic provided by NoCopyrightSounds. \\nWatch: https://youtu.be/6FNHe3kf8_s\\nDownload this track for FREE: http://bit.ly/different_heaven_nekozilla\\n\\nContact: thomasedison@soaps-s.com   \n",
       "\n",
       "                            state        lat       lon   \n",
       "3281           Nord Pas De Calais  50.283325  2.783334  \\\n",
       "1234                     Lorraine  48.683681  6.200024   \n",
       "27813  Provence Alpes Cote D'azur  43.519991  5.449993   \n",
       "\n",
       "                              geometry  \n",
       "3281   POINT (2.783333698 50.28332481)  \n",
       "1234   POINT (6.200024372 48.68368085)  \n",
       "27813  POINT (5.449992634 43.51999086)  "
      ]
     },
     "execution_count": 6,
     "metadata": {},
     "output_type": "execute_result"
    }
   ],
   "source": [
    "FR_df.sample(3)"
   ]
  },
  {
   "cell_type": "code",
   "execution_count": 7,
   "metadata": {},
   "outputs": [
    {
     "data": {
      "text/plain": [
       "video_id                     0\n",
       "trending_date                0\n",
       "title                        0\n",
       "channel_title                0\n",
       "category_id                  0\n",
       "publish_time                 0\n",
       "tags                         0\n",
       "views                        0\n",
       "likes                        0\n",
       "dislikes                     0\n",
       "comment_count                0\n",
       "thumbnail_link               0\n",
       "comments_disabled            0\n",
       "ratings_disabled             0\n",
       "video_error_or_removed       0\n",
       "description               2912\n",
       "state                        0\n",
       "lat                          0\n",
       "lon                          0\n",
       "geometry                     0\n",
       "dtype: int64"
      ]
     },
     "execution_count": 7,
     "metadata": {},
     "output_type": "execute_result"
    }
   ],
   "source": [
    "#valores nulos en cada columna\n",
    "FR_df.isnull().sum()"
   ]
  },
  {
   "cell_type": "code",
   "execution_count": 8,
   "metadata": {},
   "outputs": [
    {
     "data": {
      "text/html": [
       "<div>\n",
       "<style scoped>\n",
       "    .dataframe tbody tr th:only-of-type {\n",
       "        vertical-align: middle;\n",
       "    }\n",
       "\n",
       "    .dataframe tbody tr th {\n",
       "        vertical-align: top;\n",
       "    }\n",
       "\n",
       "    .dataframe thead th {\n",
       "        text-align: right;\n",
       "    }\n",
       "</style>\n",
       "<table border=\"1\" class=\"dataframe\">\n",
       "  <thead>\n",
       "    <tr style=\"text-align: right;\">\n",
       "      <th></th>\n",
       "      <th>category_id</th>\n",
       "      <th>views</th>\n",
       "      <th>likes</th>\n",
       "      <th>dislikes</th>\n",
       "      <th>comment_count</th>\n",
       "      <th>lat</th>\n",
       "      <th>lon</th>\n",
       "    </tr>\n",
       "  </thead>\n",
       "  <tbody>\n",
       "    <tr>\n",
       "      <th>count</th>\n",
       "      <td>40724.000000</td>\n",
       "      <td>4.072400e+04</td>\n",
       "      <td>4.072400e+04</td>\n",
       "      <td>4.072400e+04</td>\n",
       "      <td>4.072400e+04</td>\n",
       "      <td>40724.000000</td>\n",
       "      <td>40724.000000</td>\n",
       "    </tr>\n",
       "    <tr>\n",
       "      <th>mean</th>\n",
       "      <td>20.123809</td>\n",
       "      <td>4.199219e+05</td>\n",
       "      <td>1.738886e+04</td>\n",
       "      <td>8.149624e+02</td>\n",
       "      <td>1.832453e+03</td>\n",
       "      <td>36.986535</td>\n",
       "      <td>-2.314779</td>\n",
       "    </tr>\n",
       "    <tr>\n",
       "      <th>std</th>\n",
       "      <td>6.984422</td>\n",
       "      <td>1.772130e+06</td>\n",
       "      <td>8.720509e+04</td>\n",
       "      <td>1.139219e+04</td>\n",
       "      <td>1.404321e+04</td>\n",
       "      <td>19.889834</td>\n",
       "      <td>25.443453</td>\n",
       "    </tr>\n",
       "    <tr>\n",
       "      <th>min</th>\n",
       "      <td>1.000000</td>\n",
       "      <td>2.230000e+02</td>\n",
       "      <td>0.000000e+00</td>\n",
       "      <td>0.000000e+00</td>\n",
       "      <td>0.000000e+00</td>\n",
       "      <td>-21.033511</td>\n",
       "      <td>-61.532999</td>\n",
       "    </tr>\n",
       "    <tr>\n",
       "      <th>25%</th>\n",
       "      <td>17.000000</td>\n",
       "      <td>1.697450e+04</td>\n",
       "      <td>3.380000e+02</td>\n",
       "      <td>1.800000e+01</td>\n",
       "      <td>5.600000e+01</td>\n",
       "      <td>42.699989</td>\n",
       "      <td>-0.530030</td>\n",
       "    </tr>\n",
       "    <tr>\n",
       "      <th>50%</th>\n",
       "      <td>23.000000</td>\n",
       "      <td>7.372100e+04</td>\n",
       "      <td>1.892500e+03</td>\n",
       "      <td>8.300000e+01</td>\n",
       "      <td>2.350000e+02</td>\n",
       "      <td>45.899975</td>\n",
       "      <td>2.666648</td>\n",
       "    </tr>\n",
       "    <tr>\n",
       "      <th>75%</th>\n",
       "      <td>24.000000</td>\n",
       "      <td>2.708088e+05</td>\n",
       "      <td>7.969500e+03</td>\n",
       "      <td>3.350000e+02</td>\n",
       "      <td>8.410000e+02</td>\n",
       "      <td>48.516663</td>\n",
       "      <td>6.030009</td>\n",
       "    </tr>\n",
       "    <tr>\n",
       "      <th>max</th>\n",
       "      <td>44.000000</td>\n",
       "      <td>1.009116e+08</td>\n",
       "      <td>4.750254e+06</td>\n",
       "      <td>1.353661e+06</td>\n",
       "      <td>1.040912e+06</td>\n",
       "      <td>50.283325</td>\n",
       "      <td>55.712816</td>\n",
       "    </tr>\n",
       "  </tbody>\n",
       "</table>\n",
       "</div>"
      ],
      "text/plain": [
       "        category_id         views         likes      dislikes  comment_count   \n",
       "count  40724.000000  4.072400e+04  4.072400e+04  4.072400e+04   4.072400e+04  \\\n",
       "mean      20.123809  4.199219e+05  1.738886e+04  8.149624e+02   1.832453e+03   \n",
       "std        6.984422  1.772130e+06  8.720509e+04  1.139219e+04   1.404321e+04   \n",
       "min        1.000000  2.230000e+02  0.000000e+00  0.000000e+00   0.000000e+00   \n",
       "25%       17.000000  1.697450e+04  3.380000e+02  1.800000e+01   5.600000e+01   \n",
       "50%       23.000000  7.372100e+04  1.892500e+03  8.300000e+01   2.350000e+02   \n",
       "75%       24.000000  2.708088e+05  7.969500e+03  3.350000e+02   8.410000e+02   \n",
       "max       44.000000  1.009116e+08  4.750254e+06  1.353661e+06   1.040912e+06   \n",
       "\n",
       "                lat           lon  \n",
       "count  40724.000000  40724.000000  \n",
       "mean      36.986535     -2.314779  \n",
       "std       19.889834     25.443453  \n",
       "min      -21.033511    -61.532999  \n",
       "25%       42.699989     -0.530030  \n",
       "50%       45.899975      2.666648  \n",
       "75%       48.516663      6.030009  \n",
       "max       50.283325     55.712816  "
      ]
     },
     "execution_count": 8,
     "metadata": {},
     "output_type": "execute_result"
    }
   ],
   "source": [
    "#Analizando  la media, moda,desv estandar, etc.\n",
    "FR_df.describe()"
   ]
  },
  {
   "cell_type": "code",
   "execution_count": 9,
   "metadata": {},
   "outputs": [
    {
     "data": {
      "text/plain": [
       "category_id      2931\n",
       "views            5163\n",
       "likes            5695\n",
       "dislikes         5174\n",
       "comment_count    5078\n",
       "lat              8671\n",
       "lon              8671\n",
       "dtype: int64"
      ]
     },
     "execution_count": 9,
     "metadata": {},
     "output_type": "execute_result"
    }
   ],
   "source": [
    "\n",
    "#analizando valores atipicos\n",
    "columns_to_plot = ['category_id','views', 'likes', 'dislikes', 'comment_count','lat','lon']\n",
    "Q1 = FR_df[columns_to_plot].quantile(0.25)\n",
    "Q3 = FR_df[columns_to_plot].quantile(0.75)\n",
    "IQR = Q3 - Q1\n",
    "\n",
    "outliers = ((FR_df[columns_to_plot] < (Q1 - 1.5 * IQR)) | (FR_df[columns_to_plot] > (Q3 + 1.5 * IQR)))\n",
    "outliers.sum()\n"
   ]
  },
  {
   "cell_type": "code",
   "execution_count": 10,
   "metadata": {},
   "outputs": [
    {
     "name": "stdout",
     "output_type": "stream",
     "text": [
      "<class 'pandas.core.frame.DataFrame'>\n",
      "RangeIndex: 40724 entries, 0 to 40723\n",
      "Data columns (total 20 columns):\n",
      " #   Column                  Non-Null Count  Dtype  \n",
      "---  ------                  --------------  -----  \n",
      " 0   video_id                40724 non-null  object \n",
      " 1   trending_date           40724 non-null  object \n",
      " 2   title                   40724 non-null  object \n",
      " 3   channel_title           40724 non-null  object \n",
      " 4   category_id             40724 non-null  int64  \n",
      " 5   publish_time            40724 non-null  object \n",
      " 6   tags                    40724 non-null  object \n",
      " 7   views                   40724 non-null  int64  \n",
      " 8   likes                   40724 non-null  int64  \n",
      " 9   dislikes                40724 non-null  int64  \n",
      " 10  comment_count           40724 non-null  int64  \n",
      " 11  thumbnail_link          40724 non-null  object \n",
      " 12  comments_disabled       40724 non-null  bool   \n",
      " 13  ratings_disabled        40724 non-null  bool   \n",
      " 14  video_error_or_removed  40724 non-null  bool   \n",
      " 15  description             37812 non-null  object \n",
      " 16  state                   40724 non-null  object \n",
      " 17  lat                     40724 non-null  float64\n",
      " 18  lon                     40724 non-null  float64\n",
      " 19  geometry                40724 non-null  object \n",
      "dtypes: bool(3), float64(2), int64(5), object(10)\n",
      "memory usage: 5.4+ MB\n"
     ]
    }
   ],
   "source": [
    "#Analizando los tipos de datos\n",
    "FR_df.info()"
   ]
  },
  {
   "cell_type": "code",
   "execution_count": 11,
   "metadata": {},
   "outputs": [
    {
     "data": {
      "text/plain": [
       "0"
      ]
     },
     "execution_count": 11,
     "metadata": {},
     "output_type": "execute_result"
    }
   ],
   "source": [
    "#Obtener la cantidad de filas duplicadas del dataframe\n",
    "FR_df[FR_df.duplicated()].shape[0]"
   ]
  },
  {
   "cell_type": "code",
   "execution_count": 12,
   "metadata": {},
   "outputs": [
    {
     "data": {
      "text/plain": [
       "comments_disabled\n",
       "False    39835\n",
       "True       889\n",
       "Name: count, dtype: int64"
      ]
     },
     "execution_count": 12,
     "metadata": {},
     "output_type": "execute_result"
    }
   ],
   "source": [
    "#Verificamos si los comentarios estan desabilitados para ciertos videos\n",
    "FR_df.comments_disabled.value_counts()"
   ]
  },
  {
   "cell_type": "code",
   "execution_count": 13,
   "metadata": {},
   "outputs": [
    {
     "data": {
      "text/plain": [
       "ratings_disabled\n",
       "False    40020\n",
       "True       704\n",
       "Name: count, dtype: int64"
      ]
     },
     "execution_count": 13,
     "metadata": {},
     "output_type": "execute_result"
    }
   ],
   "source": [
    "#Verificamos si los likes estan  desabilitados para ciertos videos\n",
    "FR_df.ratings_disabled.value_counts()"
   ]
  },
  {
   "cell_type": "code",
   "execution_count": 14,
   "metadata": {},
   "outputs": [
    {
     "data": {
      "text/plain": [
       "video_error_or_removed\n",
       "False    40702\n",
       "True        22\n",
       "Name: count, dtype: int64"
      ]
     },
     "execution_count": 14,
     "metadata": {},
     "output_type": "execute_result"
    }
   ],
   "source": [
    "#Veremos si los videos tuvieron un error o han sido removidos \n",
    "FR_df.video_error_or_removed.value_counts()"
   ]
  },
  {
   "cell_type": "markdown",
   "metadata": {},
   "source": [
    "Problemas Reportados \n",
    "\n",
    "\n",
    "1. El tipo de data de category_id debe ser objeto y no entero.\n",
    "\n",
    "2. La tipo de dato de trending_date y publish_time deben ser datetime en ves de object.\n",
    "\n",
    "3. Hay datos atipicos, sin embargo los que pueden afectar nuestros resultados son  views, likes, \n",
    "dislikes, comment_count, por lo que hay que aplicarles una tranformacion.\n",
    "\n",
    "4. Hay columnas Inecesarias 'thumbnail_link','tags', 'description'\n",
    "\n",
    "Consideraciones \n",
    "\n",
    "1. La unica columna con valores NA es description\n",
    "\n",
    "2. No hay columnas duplicadas.\n",
    "\n",
    "3. Hay videoos removidos, likes desabilitados y comentarios desabilitados, los cuales hay que tomar en consideracion al momento de realizar el analisis.\n",
    "\n",
    "4. No hay datos vacios\n",
    "\n"
   ]
  },
  {
   "cell_type": "markdown",
   "metadata": {},
   "source": [
    "DATA CLEANING\n"
   ]
  },
  {
   "cell_type": "markdown",
   "metadata": {},
   "source": [
    "Creando el nuevo Dataset y eliminando las columnas innecesarias"
   ]
  },
  {
   "cell_type": "code",
   "execution_count": 15,
   "metadata": {},
   "outputs": [],
   "source": [
    "#Crear el dataset de francia para realizar la limpieza\n",
    "copy_FR=FR_df.copy()"
   ]
  },
  {
   "cell_type": "code",
   "execution_count": 16,
   "metadata": {},
   "outputs": [],
   "source": [
    "#Eliminar columnas innecesarias\n",
    "copy_FR.drop(['thumbnail_link','tags','tags','description'],axis=1,inplace=True)\n"
   ]
  },
  {
   "cell_type": "code",
   "execution_count": 17,
   "metadata": {},
   "outputs": [],
   "source": [
    "#Haciendo una prueba para ver si las columnas fueron eliminadas satisfactoriamente\n",
    "for i in ['thumbnail_link','tags', 'description']:\n",
    "    if i in copy_FR.columns:\n",
    "        print(\"wrong\")\n",
    "  "
   ]
  },
  {
   "cell_type": "markdown",
   "metadata": {},
   "source": [
    "Cambiar category id de int a object para que sea un categorico nominal y se nos facilite trabajar con futuras bibliotecas."
   ]
  },
  {
   "cell_type": "code",
   "execution_count": 18,
   "metadata": {},
   "outputs": [],
   "source": [
    "copy_FR['category_id'] = copy_FR['category_id'].astype(str)\n"
   ]
  },
  {
   "cell_type": "code",
   "execution_count": 19,
   "metadata": {},
   "outputs": [
    {
     "name": "stdout",
     "output_type": "stream",
     "text": [
      "<class 'pandas.core.frame.DataFrame'>\n",
      "RangeIndex: 40724 entries, 0 to 40723\n",
      "Data columns (total 17 columns):\n",
      " #   Column                  Non-Null Count  Dtype  \n",
      "---  ------                  --------------  -----  \n",
      " 0   video_id                40724 non-null  object \n",
      " 1   trending_date           40724 non-null  object \n",
      " 2   title                   40724 non-null  object \n",
      " 3   channel_title           40724 non-null  object \n",
      " 4   category_id             40724 non-null  object \n",
      " 5   publish_time            40724 non-null  object \n",
      " 6   views                   40724 non-null  int64  \n",
      " 7   likes                   40724 non-null  int64  \n",
      " 8   dislikes                40724 non-null  int64  \n",
      " 9   comment_count           40724 non-null  int64  \n",
      " 10  comments_disabled       40724 non-null  bool   \n",
      " 11  ratings_disabled        40724 non-null  bool   \n",
      " 12  video_error_or_removed  40724 non-null  bool   \n",
      " 13  state                   40724 non-null  object \n",
      " 14  lat                     40724 non-null  float64\n",
      " 15  lon                     40724 non-null  float64\n",
      " 16  geometry                40724 non-null  object \n",
      "dtypes: bool(3), float64(2), int64(4), object(8)\n",
      "memory usage: 4.5+ MB\n"
     ]
    }
   ],
   "source": [
    "#Verificamos si el cambio se realizo de manera correcta \n",
    "copy_FR.info()"
   ]
  },
  {
   "cell_type": "markdown",
   "metadata": {},
   "source": [
    "Cambiando los tipos de datos de trending date y publish time al formato de Datetime\n"
   ]
  },
  {
   "cell_type": "code",
   "execution_count": 20,
   "metadata": {},
   "outputs": [],
   "source": [
    "copy_FR['trending_date'] = pd.to_datetime(copy_FR['trending_date'], format='%y.%d.%m', errors='coerce')\n"
   ]
  },
  {
   "cell_type": "code",
   "execution_count": 21,
   "metadata": {},
   "outputs": [],
   "source": [
    "copy_FR['year'] = copy_FR['trending_date'].dt.year\n",
    "copy_FR['month'] = copy_FR['trending_date'].dt.month\n",
    "copy_FR['day'] = copy_FR['trending_date'].dt.day\n"
   ]
  },
  {
   "cell_type": "code",
   "execution_count": 22,
   "metadata": {},
   "outputs": [],
   "source": [
    "#Convertir la columna 'trending_date' date a datetime\n",
    "copy_FR['trending_date'] = pd.to_datetime(copy_FR[['year', 'month', 'day']], errors='coerce')\n"
   ]
  },
  {
   "cell_type": "code",
   "execution_count": 23,
   "metadata": {},
   "outputs": [],
   "source": [
    "# Convierte la columna 'publish_time' al formato de datetime\n",
    "copy_FR['publish_time'] = pd.to_datetime(copy_FR['publish_time'], format='%Y-%m-%dT%H:%M:%S.%fZ', errors='coerce')\n",
    "\n"
   ]
  },
  {
   "cell_type": "code",
   "execution_count": 24,
   "metadata": {},
   "outputs": [
    {
     "data": {
      "text/plain": [
       "27105   2018-04-01\n",
       "33776   2018-05-10\n",
       "4899    2017-12-08\n",
       "23429   2018-03-13\n",
       "7500    2017-12-21\n",
       "8683    2017-12-27\n",
       "21883   2018-03-05\n",
       "18369   2018-02-16\n",
       "28530   2018-04-14\n",
       "13097   2018-01-20\n",
       "Name: trending_date, dtype: datetime64[ns]"
      ]
     },
     "execution_count": 24,
     "metadata": {},
     "output_type": "execute_result"
    }
   ],
   "source": [
    "#Verificamos el resultado de 'trending_date'\n",
    "copy_FR.trending_date.sample(10)"
   ]
  },
  {
   "cell_type": "code",
   "execution_count": 25,
   "metadata": {},
   "outputs": [
    {
     "data": {
      "text/plain": [
       "33329   2018-05-05 18:54:28\n",
       "28510   2018-04-11 15:30:00\n",
       "35413   2018-05-17 11:20:39\n",
       "25385   2018-03-21 17:00:01\n",
       "14644   2018-01-27 18:59:28\n",
       "14938   2018-01-28 10:18:13\n",
       "6587    2017-12-15 17:12:57\n",
       "32084   2018-04-29 11:04:36\n",
       "17857   2018-02-12 10:44:17\n",
       "40311   2018-06-10 19:12:46\n",
       "Name: publish_time, dtype: datetime64[ns]"
      ]
     },
     "execution_count": 25,
     "metadata": {},
     "output_type": "execute_result"
    }
   ],
   "source": [
    "#verificamos el resultado de 'publish_time'\n",
    "copy_FR.publish_time.sample(10)"
   ]
  },
  {
   "cell_type": "markdown",
   "metadata": {},
   "source": [
    "Aplicando tranformacion logaritmica para evitar sesgos en las columnas de views, likes , dislikes y comment count."
   ]
  },
  {
   "cell_type": "code",
   "execution_count": 26,
   "metadata": {},
   "outputs": [
    {
     "data": {
      "image/png": "[encoded data removed]",
      "text/plain": [
       "<Figure size 1200x800 with 4 Axes>"
      ]
     },
     "metadata": {},
     "output_type": "display_data"
    }
   ],
   "source": [
    "# Lista de columnas para aplicar la transformación logarítmica\n",
    "columns_to_transform = ['views', 'likes', 'dislikes', 'comment_count']\n",
    "\n",
    "# Aplicar logaritmo a las columnas seleccionadas\n",
    "copy_FR[columns_to_transform] = np.log1p(copy_FR[columns_to_transform])\n",
    "\n",
    "# Crea subgráficos para cada columna transformada\n",
    "plt.figure(figsize=(12, 8))\n",
    "for i, column in enumerate(columns_to_transform, 1):\n",
    "    plt.subplot(2, 2, i)\n",
    "    sns.boxplot(x=np.log1p(copy_FR[column]))  # Aplica la transformación logarítmica aquí\n",
    "    plt.title(f'Boxplot de {column} (Transformado)')\n",
    "\n",
    "plt.tight_layout()\n",
    "plt.show()"
   ]
  },
  {
   "cell_type": "code",
   "execution_count": 27,
   "metadata": {},
   "outputs": [
    {
     "name": "stdout",
     "output_type": "stream",
     "text": [
      "           views      likes  dislikes  comment_count\n",
      "34779   8.252446   3.713572  0.693147       1.945910\n",
      "16884   8.994545   6.902743  2.302585       5.159055\n",
      "11440  13.768116  11.412751  7.224753       8.907883\n"
     ]
    }
   ],
   "source": [
    "#Hacemos una prueba para visualizar si se ha realizado de manera correcta.\n",
    "columnas_interesantes = ['views', 'likes', 'dislikes', 'comment_count']\n",
    "\n",
    "# Utiliza el método sample para obtener una muestra aleatoria\n",
    "muestra_aleatoria = copy_FR[columnas_interesantes].sample(3)\n",
    "\n",
    "# Imprime la muestra\n",
    "print(muestra_aleatoria)\n",
    "\n",
    "\n"
   ]
  },
  {
   "cell_type": "markdown",
   "metadata": {},
   "source": [
    "Paso Final: Guardar la Data"
   ]
  },
  {
   "cell_type": "code",
   "execution_count": 28,
   "metadata": {},
   "outputs": [],
   "source": [
    "#Guardar el archivo\n",
    "copy_FR.reset_index(drop=True)\n",
    "copy_FR.to_csv('clean_FR.csv')"
   ]
  },
  {
   "cell_type": "code",
   "execution_count": 29,
   "metadata": {},
   "outputs": [],
   "source": [
    "#Cargar data\n",
    "clean_FR=pd.read_csv('clean_FR.csv')\n",
    "clean_FR.drop('Unnamed: 0', axis=1, inplace=True)\n",
    "clean_FR.publish_time=clean_FR.publish_time.astype('datetime64[ns]') \n",
    "clean_FR.trending_date=clean_FR.trending_date.astype('datetime64[ns]') "
   ]
  },
  {
   "cell_type": "code",
   "execution_count": 30,
   "metadata": {},
   "outputs": [
    {
     "name": "stdout",
     "output_type": "stream",
     "text": [
      "<class 'pandas.core.frame.DataFrame'>\n",
      "RangeIndex: 40724 entries, 0 to 40723\n",
      "Data columns (total 20 columns):\n",
      " #   Column                  Non-Null Count  Dtype         \n",
      "---  ------                  --------------  -----         \n",
      " 0   video_id                40724 non-null  object        \n",
      " 1   trending_date           40724 non-null  datetime64[ns]\n",
      " 2   title                   40724 non-null  object        \n",
      " 3   channel_title           40724 non-null  object        \n",
      " 4   category_id             40724 non-null  int64         \n",
      " 5   publish_time            40724 non-null  datetime64[ns]\n",
      " 6   views                   40724 non-null  float64       \n",
      " 7   likes                   40724 non-null  float64       \n",
      " 8   dislikes                40724 non-null  float64       \n",
      " 9   comment_count           40724 non-null  float64       \n",
      " 10  comments_disabled       40724 non-null  bool          \n",
      " 11  ratings_disabled        40724 non-null  bool          \n",
      " 12  video_error_or_removed  40724 non-null  bool          \n",
      " 13  state                   40724 non-null  object        \n",
      " 14  lat                     40724 non-null  float64       \n",
      " 15  lon                     40724 non-null  float64       \n",
      " 16  geometry                40724 non-null  object        \n",
      " 17  year                    40724 non-null  int64         \n",
      " 18  month                   40724 non-null  int64         \n",
      " 19  day                     40724 non-null  int64         \n",
      "dtypes: bool(3), datetime64[ns](2), float64(6), int64(4), object(5)\n",
      "memory usage: 5.4+ MB\n"
     ]
    }
   ],
   "source": [
    "clean_FR.info()"
   ]
  },
  {
   "cell_type": "markdown",
   "metadata": {},
   "source": [
    "1. ¿Qué categorías de videos son las de mayor tendencia?\n"
   ]
  },
  {
   "cell_type": "code",
   "execution_count": 46,
   "metadata": {},
   "outputs": [
    {
     "data": {
      "image/png": "[encoded data removed]",
      "text/plain": [
       "<Figure size 1000x600 with 1 Axes>"
      ]
     },
     "metadata": {},
     "output_type": "display_data"
    }
   ],
   "source": [
    "tendencia=clean_FR.groupby('category_id')['views'].count().sort_values(ascending=False).head()\n",
    "plt.figure(figsize=(10, 6))\n",
    "tendencia.plot(kind='bar', color='skyblue')\n",
    "plt.title('Tendencia de Categorías de Videos')\n",
    "plt.xlabel('Categoría')\n",
    "plt.ylabel('Cantidad de Videos')\n",
    "plt.show()\n"
   ]
  },
  {
   "cell_type": "markdown",
   "metadata": {},
   "source": [
    "2. ¿Qué categorías de videos son los que más gustan? ¿Y las que menos gustan?\n"
   ]
  },
  {
   "cell_type": "code",
   "execution_count": 56,
   "metadata": {},
   "outputs": [
    {
     "data": {
      "text/plain": [
       "<Figure size 1200x400 with 0 Axes>"
      ]
     },
     "metadata": {},
     "output_type": "display_data"
    },
    {
     "data": {
      "image/png": "[encoded data removed]",
      "text/plain": [
       "<Figure size 640x480 with 1 Axes>"
      ]
     },
     "metadata": {},
     "output_type": "display_data"
    }
   ],
   "source": [
    "gustan=clean_FR.groupby('category_id')['likes'].sum().sort_values(ascending=False).head()\n",
    "disgustan=clean_FR.groupby('category_id')['dislikes'].sum().sort_values(ascending=False).head()\n",
    "\n",
    "combined_data = pd.concat([gustan, disgustan], axis=1)\n",
    "combined_data.columns = ['me gusta', 'no me gusta']\n",
    "\n",
    "plt.figure(figsize=(12, 4))\n",
    "combined_data.plot(kind='bar', stacked=True, colormap='coolwarm')\n",
    "plt.title('top 5 Categorías con ME GUSTA y NO ME GUSTA')\n",
    "plt.xlabel('Categoría')\n",
    "plt.ylabel('Cantidad')\n",
    "plt.show()"
   ]
  },
  {
   "cell_type": "markdown",
   "metadata": {},
   "source": [
    "3. ¿Qué categorías de videos tienen la mejor proporción (ratio) de “Me gusta” / “No megusta”?\n"
   ]
  },
  {
   "cell_type": "code",
   "execution_count": 52,
   "metadata": {},
   "outputs": [
    {
     "data": {
      "image/png": "[encoded data removed]",
      "text/plain": [
       "<Figure size 1200x600 with 1 Axes>"
      ]
     },
     "metadata": {},
     "output_type": "display_data"
    }
   ],
   "source": [
    "proporciones = clean_FR.groupby('category_id')[['likes', 'dislikes']].sum()\n",
    "\n",
    "# Calcular la proporción de \"Me gusta\" / \"No me gusta\"\n",
    "proporciones['ratio'] = proporciones['likes'] / proporciones['dislikes']\n",
    "proporciones = proporciones['ratio'].sort_values(ascending=False)\n",
    "plt.figure(figsize=(12, 6))\n",
    "proporciones.plot(kind='bar', color='purple')\n",
    "plt.title('proporción de ME GUSTA/NO ME GUSTA por categoria')\n",
    "plt.xlabel('categoria')\n",
    "plt.ylabel('proporcion')\n",
    "plt.show()"
   ]
  },
  {
   "cell_type": "markdown",
   "metadata": {},
   "source": [
    "4. ¿Qué categorías de videos tienen la mejor proporción (ratio) de “Vistas” /“Comentarios”?"
   ]
  },
  {
   "cell_type": "code",
   "execution_count": 61,
   "metadata": {},
   "outputs": [
    {
     "data": {
      "image/png": "[encoded data removed]",
      "text/plain": [
       "<Figure size 1200x600 with 1 Axes>"
      ]
     },
     "metadata": {},
     "output_type": "display_data"
    }
   ],
   "source": [
    "\n",
    "categorias_vistaxcomentario = clean_FR.groupby('category_id')[['views', 'comment_count']].sum()\n",
    "categorias_vistaxcomentario['proporcion_views_comm'] = categorias_vistaxcomentario['views'] / categorias_vistaxcomentario['comment_count']\n",
    "\n",
    "proporcion_sorted = categorias_vistaxcomentario['proporcion_views_comm'].sort_values(ascending=False)\n",
    "\n",
    "plt.figure(figsize=(12, 6))\n",
    "proporcion_sorted.plot(kind='bar', color='orange')\n",
    "plt.title('proporción de vistas por comentario de categoria')\n",
    "plt.xlabel('categoria')\n",
    "plt.ylabel('proporción vistas por comentario')\n",
    "plt.show()\n"
   ]
  },
  {
   "cell_type": "markdown",
   "metadata": {},
   "source": [
    "5. ¿Cómo ha cambiado el volumen de los videos en tendencia a lo largo del tiempo?\n",
    "\n",
    "\n",
    "\n",
    "\n",
    "\n",
    "\n",
    "\n"
   ]
  },
  {
   "cell_type": "code",
   "execution_count": null,
   "metadata": {},
   "outputs": [],
   "source": []
  },
  {
   "cell_type": "markdown",
   "metadata": {},
   "source": [
    "6. ¿Qué Canales de YouTube son tendencia más frecuentemente? ¿Y cuáles con menos frecuencia?\n"
   ]
  },
  {
   "cell_type": "code",
   "execution_count": null,
   "metadata": {},
   "outputs": [],
   "source": []
  },
  {
   "cell_type": "markdown",
   "metadata": {},
   "source": [
    "7. ¿En qué Estados se presenta el mayor número de “Vistas”, “Me gusta” y “No me gusta”?\n"
   ]
  },
  {
   "cell_type": "code",
   "execution_count": null,
   "metadata": {},
   "outputs": [],
   "source": []
  },
  {
   "cell_type": "markdown",
   "metadata": {},
   "source": [
    "8. ¿Es factible predecir el número de “Vistas” o “Me gusta” o “No me gusta”?\n"
   ]
  },
  {
   "cell_type": "code",
   "execution_count": null,
   "metadata": {},
   "outputs": [],
   "source": []
  },
  {
   "cell_type": "markdown",
   "metadata": {},
   "source": [
    "9. ¿Los videos en tendencia son los que mayor cantidad de comentarios positivos reciben?"
   ]
  },
  {
   "cell_type": "code",
   "execution_count": null,
   "metadata": {},
   "outputs": [],
   "source": []
  },
  {
   "cell_type": "code",
   "execution_count": 35,
   "metadata": {},
   "outputs": [
    {
     "name": "stdout",
     "output_type": "stream",
     "text": [
      "<class 'pandas.core.frame.DataFrame'>\n",
      "RangeIndex: 40724 entries, 0 to 40723\n",
      "Data columns (total 20 columns):\n",
      " #   Column                  Non-Null Count  Dtype  \n",
      "---  ------                  --------------  -----  \n",
      " 0   video_id                40724 non-null  object \n",
      " 1   trending_date           40724 non-null  object \n",
      " 2   title                   40724 non-null  object \n",
      " 3   channel_title           40724 non-null  object \n",
      " 4   category_id             40724 non-null  int64  \n",
      " 5   publish_time            40724 non-null  object \n",
      " 6   tags                    40724 non-null  object \n",
      " 7   views                   40724 non-null  int64  \n",
      " 8   likes                   40724 non-null  int64  \n",
      " 9   dislikes                40724 non-null  int64  \n",
      " 10  comment_count           40724 non-null  int64  \n",
      " 11  thumbnail_link          40724 non-null  object \n",
      " 12  comments_disabled       40724 non-null  bool   \n",
      " 13  ratings_disabled        40724 non-null  bool   \n",
      " 14  video_error_or_removed  40724 non-null  bool   \n",
      " 15  description             37812 non-null  object \n",
      " 16  state                   40724 non-null  object \n",
      " 17  lat                     40724 non-null  float64\n",
      " 18  lon                     40724 non-null  float64\n",
      " 19  geometry                40724 non-null  object \n",
      "dtypes: bool(3), float64(2), int64(5), object(10)\n",
      "memory usage: 5.4+ MB\n"
     ]
    }
   ],
   "source": [
    "FR_df.info()"
   ]
  }
 ],
 "metadata": {
  "kernelspec": {
   "display_name": "Python 3",
   "language": "python",
   "name": "python3"
  },
  "language_info": {
   "codemirror_mode": {
    "name": "ipython",
    "version": 3
   },
   "file_extension": ".py",
   "mimetype": "text/x-python",
   "name": "python",
   "nbconvert_exporter": "python",
   "pygments_lexer": "ipython3",
   "version": "3.11.2"
  },
  "orig_nbformat": 4
 },
 "nbformat": 4,
 "nbformat_minor": 2
}
