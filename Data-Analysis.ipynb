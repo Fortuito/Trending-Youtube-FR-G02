{
 "cells": [
  {
   "cell_type": "code",
   "execution_count": 21,
   "metadata": {},
   "outputs": [],
   "source": [
    "import numpy as np\n",
    "import pandas as pd\n",
    "import statsmodels.api as sm\n",
    "import matplotlib.pyplot as plt\n",
    "import seaborn as sb\n",
    "%matplotlib inline\n"
   ]
  },
  {
   "cell_type": "code",
   "execution_count": 22,
   "metadata": {},
   "outputs": [],
   "source": [
    "#Importar data\n",
    "FR_df=pd.read_csv(\"FRvideos_cc50_202101.csv\")"
   ]
  },
  {
   "cell_type": "code",
   "execution_count": 23,
   "metadata": {},
   "outputs": [],
   "source": [
    "#Importar el json y extraer la data que nos interesa\n",
    "import json\n",
    "FR_category={}\n",
    "with open(\"FR_category_id.json\") as f:\n",
    "    FR_data=json.load(f)\n",
    "for i in list(pd.DataFrame(FR_data['items']).id.values):\n",
    "    FR_category[i]=pd.DataFrame(FR_data['items'])[pd.DataFrame(FR_data['items']).id==i].snippet.values[0]['title']"
   ]
  },
  {
   "cell_type": "code",
   "execution_count": 24,
   "metadata": {},
   "outputs": [],
   "source": [
    "#vemos la informacion de toda la informacion de las columnas\n",
    "pd.set_option('display.max_columns', None)\n",
    "pd.set_option('display.max_rows', None)\n",
    "pd.set_option('display.max_colwidth', None)"
   ]
  },
  {
   "cell_type": "code",
   "execution_count": 29,
   "metadata": {},
   "outputs": [
    {
     "data": {
      "text/html": [
       "<div>\n",
       "<style scoped>\n",
       "    .dataframe tbody tr th:only-of-type {\n",
       "        vertical-align: middle;\n",
       "    }\n",
       "\n",
       "    .dataframe tbody tr th {\n",
       "        vertical-align: top;\n",
       "    }\n",
       "\n",
       "    .dataframe thead th {\n",
       "        text-align: right;\n",
       "    }\n",
       "</style>\n",
       "<table border=\"1\" class=\"dataframe\">\n",
       "  <thead>\n",
       "    <tr style=\"text-align: right;\">\n",
       "      <th></th>\n",
       "      <th>video_id</th>\n",
       "      <th>trending_date</th>\n",
       "      <th>title</th>\n",
       "      <th>channel_title</th>\n",
       "      <th>category_id</th>\n",
       "      <th>publish_time</th>\n",
       "      <th>tags</th>\n",
       "      <th>views</th>\n",
       "      <th>likes</th>\n",
       "      <th>dislikes</th>\n",
       "      <th>comment_count</th>\n",
       "      <th>thumbnail_link</th>\n",
       "      <th>comments_disabled</th>\n",
       "      <th>ratings_disabled</th>\n",
       "      <th>video_error_or_removed</th>\n",
       "      <th>description</th>\n",
       "      <th>state</th>\n",
       "      <th>lat</th>\n",
       "      <th>lon</th>\n",
       "      <th>geometry</th>\n",
       "    </tr>\n",
       "  </thead>\n",
       "  <tbody>\n",
       "    <tr>\n",
       "      <th>12044</th>\n",
       "      <td>HHx0txNcTGU</td>\n",
       "      <td>18.15.01</td>\n",
       "      <td>Sérieux papa? seulement 20 000$ pour mon anniv?</td>\n",
       "      <td>CoD Forlan</td>\n",
       "      <td>24</td>\n",
       "      <td>2018-01-14T19:16:10.000Z</td>\n",
       "      <td>top 10\"|\"top 5\"|\"top 10 gosse de riche\"|\"top 5 gosse de riche\"|\"top 10 enfant riche\"|\"top 5 enfant riche\"|\"enfant riche\"|\"enfant pourri gaté\"|\"gosse de riche\"|\"enfant de riche\"|\"spoiled kids\"|\"argent\"|\"riche vs pauvre\"|\"voiture de luxe\"|\"luxe\"|\"snapchat\"|\"snap\"|\"les pire snap de riche\"|\"les pires snap de riche\"|\"les pires snapchat\"|\"les pires snapchat de riche\"|\"les pires snapchat de personnes riches\"|\"les pire snapchat de riche\"|\"pere riche\"|\"compilation\"|\"reaction</td>\n",
       "      <td>28687</td>\n",
       "      <td>3389</td>\n",
       "      <td>356</td>\n",
       "      <td>1688</td>\n",
       "      <td>https://i.ytimg.com/vi/HHx0txNcTGU/default.jpg</td>\n",
       "      <td>False</td>\n",
       "      <td>False</td>\n",
       "      <td>False</td>\n",
       "      <td>Ce gosse de riche m'a fait mal au coeur...Certains enfants ont de la chance d'avoir un père très riche qui leur offre tout ce qu'ils veulent...Mais le problème, c'est qu'il se vantent un peu trop sur les réseaux sociaux comme par exemple sur Snap...N'oubliez pas que l'argent ne fait pas le bonheur ! \\n\\nOriginal Video : https://www.youtube.com/watch?v=iz3NTVfjUEA&amp;t=11s\\n\\n🎮 ABONNE TOI ICI : https://www.youtube.com/user/Codforlan?sub_confirmation=1\\n\\n🎮 LIKE &amp; PARTAGE CETTE VIDÉO POUR DEVENIR UN MAFIEUX ! \\nDÉROULE CETTE DESCRIPTION !!!\\n\\n🎮 TWITTER : https://twitter.com/CoDforlan24\\n🎮 FACEBOOK : https://fr-fr.facebook.com/cod.forlan\\n🎮 TWITCH : https://www.twitch.tv/forlan_youtuber\\n🎮 SNAPCHAT : Codforlan24\\n\\n------------------------------------------------INFOS-------------------------------------------------\\n\\nAujourd'hui les amis on se retrouve pour une vidéo assez sympathique et agréable à regarder : L'histoire de l'anniversaire d'un gosse de riche qui va mal tourner ! \\n\\nJe vous invite à LIKER, COMMENTER &amp; PARTAGER la vidéo si tu veux devenir un Mafieux fidèle !\\n\\n------------------DEVENIR UN MEMBRE DE LA MAFIA SQUAD------------------\\n\\n🎮 Si tu veux devenir un VRAI membre de la Mafia Squad, mets notre logo sur tes comptes Twitter, Youtube et Twitch le lien du téléchargement se trouve ici :\\n\\nLogo en Rouge : http://www.mediafire.com/file/4t51o7nuch3zor5/MAFIA-SQUAD-rouge-v1.jpg\\n\\nLogo en Bleu : http://www.mediafire.com/download/7udbn187jmd42w6/MAFIA-SQUAD_bleu.jpg\\n\\nLogo en Jaune : http://www.mediafire.com/download/212x0osndg67pi7/MAFIA-SQUAD_jaune.jpg\\n\\nLogo en Orange : http://www.mediafire.com/download/9tdnvbehsg1b5xr/MAFIA-SQUAD_orange.jpg\\n\\nLogo en Rose : http://www.mediafire.com/download/1ulitzqxvv8t8ga/MAFIA-SQUAD_rose.jpg\\n\\nLogo en Vert : http://www.mediafire.com/download/9vkcngmbw2pa70m/MAFIA-SQUAD_vert.jpg\\n\\nLogo en Violet : http://www.mediafire.com/download/l0axm4s5j755i54/MAFIA-SQUAD_voilet.jpg\\n\\nLogo en Noir : http://www.mediafire.com/file/ewvzns88wc5khgn/%5E50F14C36479471DD5D31374B1D1FEB26642782324BDCB2FC5B%5Epimgpsh_fullsize_distr.jpg\\n\\nAllez portez vous bien les Mafieux, ciao tout le monde!\\n\\nMusique d'intro : G rex shut up :)</td>\n",
       "      <td>Moyotte</td>\n",
       "      <td>-12.787089</td>\n",
       "      <td>45.275004</td>\n",
       "      <td>POINT (45.27500362 -12.78708901)</td>\n",
       "    </tr>\n",
       "    <tr>\n",
       "      <th>39563</th>\n",
       "      <td>MfKQQ4yUFMg</td>\n",
       "      <td>18.08.06</td>\n",
       "      <td>CE MEC EST FOU ! REACTION COMPILATION SKATE</td>\n",
       "      <td>Mafiastunting</td>\n",
       "      <td>20</td>\n",
       "      <td>2018-06-07T19:14:24.000Z</td>\n",
       "      <td>CE MEC EST FOU ! REACTION COMPILATION SKATE</td>\n",
       "      <td>29170</td>\n",
       "      <td>2474</td>\n",
       "      <td>34</td>\n",
       "      <td>422</td>\n",
       "      <td>https://i.ytimg.com/vi/MfKQQ4yUFMg/default.jpg</td>\n",
       "      <td>False</td>\n",
       "      <td>False</td>\n",
       "      <td>False</td>\n",
       "      <td>CE MEC EST FOU ! REACTION COMPILATION SKATEStrictly skateboarding : https://www.youtube.com/watch?v=pMRv83QhLsMiFath SkateVids : https://www.youtube.com/watch?v=BawDOv8Iq3MMetro Skateboarding : https://www.youtube.com/watch?v=HFBC8Z3jcAc</td>\n",
       "      <td>Guadeloupe</td>\n",
       "      <td>16.241475</td>\n",
       "      <td>-61.532999</td>\n",
       "      <td>POINT (-61.5329989 16.24147504)</td>\n",
       "    </tr>\n",
       "    <tr>\n",
       "      <th>19059</th>\n",
       "      <td>JtepWmBpCi4</td>\n",
       "      <td>18.19.02</td>\n",
       "      <td>Le Zap de Cokaïn.fr n°039</td>\n",
       "      <td>Cokaïn.fr</td>\n",
       "      <td>24</td>\n",
       "      <td>2018-02-17T12:16:34.000Z</td>\n",
       "      <td>Cokaïn.fr\"|\"spi0n\"|\"spi0n.com\"|\"spion\"|\"zap\"|\"zaping\"|\"drole\"|\"fail\"|\"compilation\"|\"cokain\"|\"cokain.fr\"|\"iZap4U\"|\"best\"|\"humour\"|\"fun\"|\"wtf\"|\"insolite\"|\"le zap\"|\"zapnet\"|\"le zap du net\"|\"koreus\"|\"koreusity</td>\n",
       "      <td>360730</td>\n",
       "      <td>5229</td>\n",
       "      <td>334</td>\n",
       "      <td>408</td>\n",
       "      <td>https://i.ytimg.com/vi/JtepWmBpCi4/default.jpg</td>\n",
       "      <td>False</td>\n",
       "      <td>False</td>\n",
       "      <td>False</td>\n",
       "      <td>Si vous êtes le propriétaire d'une vidéo, merci de me contacter à cette adresse : http://www.cokain.fr/contact.html - La vidéo sera supprimée rapidement. Merci !\\n\\nIf you are the owner of a video, please send an e-mail : http://www.cokain.fr/contact.html - The video will be deleted quickly. Thanks !\\n\\n\\n✂️-------------------------\\n\\nKissKissBankBank (financement participatif) : https://www.kisskissbankbank.com/une-config-pour-cokain-fr\\n\\nPour les dons via Paypal, il y a Tipeee : https://www.tipeee.com/cokain-fr\\n\\n✂️-------------------------\\n\\n👉 Facebook - Page : https://www.facebook.com/cokain.fr\\n👉 Facebook - Groupe : https://www.facebook.com/groups/cokain/\\n👉 Twitter : https://twitter.com/cokain_fr\\n👉 Discord : https://discord.gg/6becQXR\\n\\n📺 Cokaïn.fr - C'est par ici : http://www.cokain.fr\\n\\n💸 Tipeee : https://www.tipeee.com/cokain-fr\\n\\n📝 Pour envoyer une vidéo : https://goo.gl/forms/OIHA6teicIfPIbeX2\\n\\n📹 Chaîne secondaire - CKN Vidéos : La chaîne des vidéos des abonnés : https://www.youtube.com/channel/UCO3cAx-yipHGiE4sIG3zn8g\\n\\n📝 Liste des vidéos : http://www.cokain.fr/3293-le-zap-de-cokain-fr-n-039.html#liste\\n\\n✂️-------------------------\\n\\nChaque semaine, Cokaïn.fr vous propose un zapping du meilleur du web. Aujourd'hui, c'est le 39ème Zap du site, qui contient plus de 20 minutes de vidéos en tous genres. Au programme, vous trouverez une compilation de vidéos insolites, des séquences étonnantes et de nombreux fails. Ce sont toutes les vidéos qui ont circulé cette semaine sur internet et qui n'ont pas été publiée en article sur le site, elle sont donc réunies dans un zap.\\n\\n✂️-------------------------\\n\\n👀 Je lis tous vos commentaires, malheureusement, je ne peux pas répondre à tout le monde, mais ils me touchent vraiment et m'encouragent à faire toujours mieux. Je vous remercie tous.\\n\\n👋 La bise mes p'tits junkies et à la semaine prochaine 😎\\n\\n💸 Opener : Musique commerciale</td>\n",
       "      <td>Auvergne</td>\n",
       "      <td>45.779982</td>\n",
       "      <td>3.080008</td>\n",
       "      <td>POINT (3.080008096 45.77998212)</td>\n",
       "    </tr>\n",
       "  </tbody>\n",
       "</table>\n",
       "</div>"
      ],
      "text/plain": [
       "          video_id trending_date  \\\n",
       "12044  HHx0txNcTGU      18.15.01   \n",
       "39563  MfKQQ4yUFMg      18.08.06   \n",
       "19059  JtepWmBpCi4      18.19.02   \n",
       "\n",
       "                                                 title  channel_title  \\\n",
       "12044  Sérieux papa? seulement 20 000$ pour mon anniv?     CoD Forlan   \n",
       "39563      CE MEC EST FOU ! REACTION COMPILATION SKATE  Mafiastunting   \n",
       "19059                        Le Zap de Cokaïn.fr n°039      Cokaïn.fr   \n",
       "\n",
       "       category_id              publish_time  \\\n",
       "12044           24  2018-01-14T19:16:10.000Z   \n",
       "39563           20  2018-06-07T19:14:24.000Z   \n",
       "19059           24  2018-02-17T12:16:34.000Z   \n",
       "\n",
       "                                                                                                                                                                                                                                                                                                                                                                                                                                                                                         tags  \\\n",
       "12044  top 10\"|\"top 5\"|\"top 10 gosse de riche\"|\"top 5 gosse de riche\"|\"top 10 enfant riche\"|\"top 5 enfant riche\"|\"enfant riche\"|\"enfant pourri gaté\"|\"gosse de riche\"|\"enfant de riche\"|\"spoiled kids\"|\"argent\"|\"riche vs pauvre\"|\"voiture de luxe\"|\"luxe\"|\"snapchat\"|\"snap\"|\"les pire snap de riche\"|\"les pires snap de riche\"|\"les pires snapchat\"|\"les pires snapchat de riche\"|\"les pires snapchat de personnes riches\"|\"les pire snapchat de riche\"|\"pere riche\"|\"compilation\"|\"reaction   \n",
       "39563                                                                                                                                                                                                                                                                                                                                                                                                                                             CE MEC EST FOU ! REACTION COMPILATION SKATE   \n",
       "19059                                                                                                                                                                                                                                                                           Cokaïn.fr\"|\"spi0n\"|\"spi0n.com\"|\"spion\"|\"zap\"|\"zaping\"|\"drole\"|\"fail\"|\"compilation\"|\"cokain\"|\"cokain.fr\"|\"iZap4U\"|\"best\"|\"humour\"|\"fun\"|\"wtf\"|\"insolite\"|\"le zap\"|\"zapnet\"|\"le zap du net\"|\"koreus\"|\"koreusity   \n",
       "\n",
       "        views  likes  dislikes  comment_count  \\\n",
       "12044   28687   3389       356           1688   \n",
       "39563   29170   2474        34            422   \n",
       "19059  360730   5229       334            408   \n",
       "\n",
       "                                       thumbnail_link  comments_disabled  \\\n",
       "12044  https://i.ytimg.com/vi/HHx0txNcTGU/default.jpg              False   \n",
       "39563  https://i.ytimg.com/vi/MfKQQ4yUFMg/default.jpg              False   \n",
       "19059  https://i.ytimg.com/vi/JtepWmBpCi4/default.jpg              False   \n",
       "\n",
       "       ratings_disabled  video_error_or_removed  \\\n",
       "12044             False                   False   \n",
       "39563             False                   False   \n",
       "19059             False                   False   \n",
       "\n",
       "                                                                                                                                                                                                                                                                                                                                                                                                                                                                                                                                                                                                                                                                                                                                                                                                                                                                                                                                                                                                                                                                                                                                                                                                                                                                                                                                                                                                                                                                                                                                                                                                                                                                                                                                                                                                                                                                                                                                                                                                                                                                                                                                                                                                                                                                                  description  \\\n",
       "12044  Ce gosse de riche m'a fait mal au coeur...Certains enfants ont de la chance d'avoir un père très riche qui leur offre tout ce qu'ils veulent...Mais le problème, c'est qu'il se vantent un peu trop sur les réseaux sociaux comme par exemple sur Snap...N'oubliez pas que l'argent ne fait pas le bonheur ! \\n\\nOriginal Video : https://www.youtube.com/watch?v=iz3NTVfjUEA&t=11s\\n\\n🎮 ABONNE TOI ICI : https://www.youtube.com/user/Codforlan?sub_confirmation=1\\n\\n🎮 LIKE & PARTAGE CETTE VIDÉO POUR DEVENIR UN MAFIEUX ! \\nDÉROULE CETTE DESCRIPTION !!!\\n\\n🎮 TWITTER : https://twitter.com/CoDforlan24\\n🎮 FACEBOOK : https://fr-fr.facebook.com/cod.forlan\\n🎮 TWITCH : https://www.twitch.tv/forlan_youtuber\\n🎮 SNAPCHAT : Codforlan24\\n\\n------------------------------------------------INFOS-------------------------------------------------\\n\\nAujourd'hui les amis on se retrouve pour une vidéo assez sympathique et agréable à regarder : L'histoire de l'anniversaire d'un gosse de riche qui va mal tourner ! \\n\\nJe vous invite à LIKER, COMMENTER & PARTAGER la vidéo si tu veux devenir un Mafieux fidèle !\\n\\n------------------DEVENIR UN MEMBRE DE LA MAFIA SQUAD------------------\\n\\n🎮 Si tu veux devenir un VRAI membre de la Mafia Squad, mets notre logo sur tes comptes Twitter, Youtube et Twitch le lien du téléchargement se trouve ici :\\n\\nLogo en Rouge : http://www.mediafire.com/file/4t51o7nuch3zor5/MAFIA-SQUAD-rouge-v1.jpg\\n\\nLogo en Bleu : http://www.mediafire.com/download/7udbn187jmd42w6/MAFIA-SQUAD_bleu.jpg\\n\\nLogo en Jaune : http://www.mediafire.com/download/212x0osndg67pi7/MAFIA-SQUAD_jaune.jpg\\n\\nLogo en Orange : http://www.mediafire.com/download/9tdnvbehsg1b5xr/MAFIA-SQUAD_orange.jpg\\n\\nLogo en Rose : http://www.mediafire.com/download/1ulitzqxvv8t8ga/MAFIA-SQUAD_rose.jpg\\n\\nLogo en Vert : http://www.mediafire.com/download/9vkcngmbw2pa70m/MAFIA-SQUAD_vert.jpg\\n\\nLogo en Violet : http://www.mediafire.com/download/l0axm4s5j755i54/MAFIA-SQUAD_voilet.jpg\\n\\nLogo en Noir : http://www.mediafire.com/file/ewvzns88wc5khgn/%5E50F14C36479471DD5D31374B1D1FEB26642782324BDCB2FC5B%5Epimgpsh_fullsize_distr.jpg\\n\\nAllez portez vous bien les Mafieux, ciao tout le monde!\\n\\nMusique d'intro : G rex shut up :)   \n",
       "39563                                                                                                                                                                                                                                                                                                                                                                                                                                                                                                                                                                                                                                                                                                                                                                                                                                                                                                                                                                                                                                                                                                                                                                                                                                                                                                                                                                                                                                                                                                                                                                                                                                                                                                                                                                                                                                                                                                                                                                                                                                           CE MEC EST FOU ! REACTION COMPILATION SKATEStrictly skateboarding : https://www.youtube.com/watch?v=pMRv83QhLsMiFath SkateVids : https://www.youtube.com/watch?v=BawDOv8Iq3MMetro Skateboarding : https://www.youtube.com/watch?v=HFBC8Z3jcAc   \n",
       "19059                                                                                                                                                                                                                                                                                Si vous êtes le propriétaire d'une vidéo, merci de me contacter à cette adresse : http://www.cokain.fr/contact.html - La vidéo sera supprimée rapidement. Merci !\\n\\nIf you are the owner of a video, please send an e-mail : http://www.cokain.fr/contact.html - The video will be deleted quickly. Thanks !\\n\\n\\n✂️-------------------------\\n\\nKissKissBankBank (financement participatif) : https://www.kisskissbankbank.com/une-config-pour-cokain-fr\\n\\nPour les dons via Paypal, il y a Tipeee : https://www.tipeee.com/cokain-fr\\n\\n✂️-------------------------\\n\\n👉 Facebook - Page : https://www.facebook.com/cokain.fr\\n👉 Facebook - Groupe : https://www.facebook.com/groups/cokain/\\n👉 Twitter : https://twitter.com/cokain_fr\\n👉 Discord : https://discord.gg/6becQXR\\n\\n📺 Cokaïn.fr - C'est par ici : http://www.cokain.fr\\n\\n💸 Tipeee : https://www.tipeee.com/cokain-fr\\n\\n📝 Pour envoyer une vidéo : https://goo.gl/forms/OIHA6teicIfPIbeX2\\n\\n📹 Chaîne secondaire - CKN Vidéos : La chaîne des vidéos des abonnés : https://www.youtube.com/channel/UCO3cAx-yipHGiE4sIG3zn8g\\n\\n📝 Liste des vidéos : http://www.cokain.fr/3293-le-zap-de-cokain-fr-n-039.html#liste\\n\\n✂️-------------------------\\n\\nChaque semaine, Cokaïn.fr vous propose un zapping du meilleur du web. Aujourd'hui, c'est le 39ème Zap du site, qui contient plus de 20 minutes de vidéos en tous genres. Au programme, vous trouverez une compilation de vidéos insolites, des séquences étonnantes et de nombreux fails. Ce sont toutes les vidéos qui ont circulé cette semaine sur internet et qui n'ont pas été publiée en article sur le site, elle sont donc réunies dans un zap.\\n\\n✂️-------------------------\\n\\n👀 Je lis tous vos commentaires, malheureusement, je ne peux pas répondre à tout le monde, mais ils me touchent vraiment et m'encouragent à faire toujours mieux. Je vous remercie tous.\\n\\n👋 La bise mes p'tits junkies et à la semaine prochaine 😎\\n\\n💸 Opener : Musique commerciale   \n",
       "\n",
       "            state        lat        lon                          geometry  \n",
       "12044     Moyotte -12.787089  45.275004  POINT (45.27500362 -12.78708901)  \n",
       "39563  Guadeloupe  16.241475 -61.532999   POINT (-61.5329989 16.24147504)  \n",
       "19059    Auvergne  45.779982   3.080008   POINT (3.080008096 45.77998212)  "
      ]
     },
     "execution_count": 29,
     "metadata": {},
     "output_type": "execute_result"
    }
   ],
   "source": [
    "FR_df.sample(3)"
   ]
  },
  {
   "cell_type": "code",
   "execution_count": 19,
   "metadata": {},
   "outputs": [
    {
     "data": {
      "text/html": [
       "<div>\n",
       "<style scoped>\n",
       "    .dataframe tbody tr th:only-of-type {\n",
       "        vertical-align: middle;\n",
       "    }\n",
       "\n",
       "    .dataframe tbody tr th {\n",
       "        vertical-align: top;\n",
       "    }\n",
       "\n",
       "    .dataframe thead th {\n",
       "        text-align: right;\n",
       "    }\n",
       "</style>\n",
       "<table border=\"1\" class=\"dataframe\">\n",
       "  <thead>\n",
       "    <tr style=\"text-align: right;\">\n",
       "      <th></th>\n",
       "      <th>category_id</th>\n",
       "      <th>views</th>\n",
       "      <th>likes</th>\n",
       "      <th>dislikes</th>\n",
       "      <th>comment_count</th>\n",
       "      <th>lat</th>\n",
       "      <th>lon</th>\n",
       "    </tr>\n",
       "  </thead>\n",
       "  <tbody>\n",
       "    <tr>\n",
       "      <th>count</th>\n",
       "      <td>40724.000000</td>\n",
       "      <td>4.072400e+04</td>\n",
       "      <td>4.072400e+04</td>\n",
       "      <td>4.072400e+04</td>\n",
       "      <td>4.072400e+04</td>\n",
       "      <td>40724.000000</td>\n",
       "      <td>40724.000000</td>\n",
       "    </tr>\n",
       "    <tr>\n",
       "      <th>mean</th>\n",
       "      <td>20.123809</td>\n",
       "      <td>4.199219e+05</td>\n",
       "      <td>1.738886e+04</td>\n",
       "      <td>8.149624e+02</td>\n",
       "      <td>1.832453e+03</td>\n",
       "      <td>36.986535</td>\n",
       "      <td>-2.314779</td>\n",
       "    </tr>\n",
       "    <tr>\n",
       "      <th>std</th>\n",
       "      <td>6.984422</td>\n",
       "      <td>1.772130e+06</td>\n",
       "      <td>8.720509e+04</td>\n",
       "      <td>1.139219e+04</td>\n",
       "      <td>1.404321e+04</td>\n",
       "      <td>19.889834</td>\n",
       "      <td>25.443453</td>\n",
       "    </tr>\n",
       "    <tr>\n",
       "      <th>min</th>\n",
       "      <td>1.000000</td>\n",
       "      <td>2.230000e+02</td>\n",
       "      <td>0.000000e+00</td>\n",
       "      <td>0.000000e+00</td>\n",
       "      <td>0.000000e+00</td>\n",
       "      <td>-21.033511</td>\n",
       "      <td>-61.532999</td>\n",
       "    </tr>\n",
       "    <tr>\n",
       "      <th>25%</th>\n",
       "      <td>17.000000</td>\n",
       "      <td>1.697450e+04</td>\n",
       "      <td>3.380000e+02</td>\n",
       "      <td>1.800000e+01</td>\n",
       "      <td>5.600000e+01</td>\n",
       "      <td>42.699989</td>\n",
       "      <td>-0.530030</td>\n",
       "    </tr>\n",
       "    <tr>\n",
       "      <th>50%</th>\n",
       "      <td>23.000000</td>\n",
       "      <td>7.372100e+04</td>\n",
       "      <td>1.892500e+03</td>\n",
       "      <td>8.300000e+01</td>\n",
       "      <td>2.350000e+02</td>\n",
       "      <td>45.899975</td>\n",
       "      <td>2.666648</td>\n",
       "    </tr>\n",
       "    <tr>\n",
       "      <th>75%</th>\n",
       "      <td>24.000000</td>\n",
       "      <td>2.708088e+05</td>\n",
       "      <td>7.969500e+03</td>\n",
       "      <td>3.350000e+02</td>\n",
       "      <td>8.410000e+02</td>\n",
       "      <td>48.516663</td>\n",
       "      <td>6.030009</td>\n",
       "    </tr>\n",
       "    <tr>\n",
       "      <th>max</th>\n",
       "      <td>44.000000</td>\n",
       "      <td>1.009116e+08</td>\n",
       "      <td>4.750254e+06</td>\n",
       "      <td>1.353661e+06</td>\n",
       "      <td>1.040912e+06</td>\n",
       "      <td>50.283325</td>\n",
       "      <td>55.712816</td>\n",
       "    </tr>\n",
       "  </tbody>\n",
       "</table>\n",
       "</div>"
      ],
      "text/plain": [
       "        category_id         views         likes      dislikes  comment_count  \\\n",
       "count  40724.000000  4.072400e+04  4.072400e+04  4.072400e+04   4.072400e+04   \n",
       "mean      20.123809  4.199219e+05  1.738886e+04  8.149624e+02   1.832453e+03   \n",
       "std        6.984422  1.772130e+06  8.720509e+04  1.139219e+04   1.404321e+04   \n",
       "min        1.000000  2.230000e+02  0.000000e+00  0.000000e+00   0.000000e+00   \n",
       "25%       17.000000  1.697450e+04  3.380000e+02  1.800000e+01   5.600000e+01   \n",
       "50%       23.000000  7.372100e+04  1.892500e+03  8.300000e+01   2.350000e+02   \n",
       "75%       24.000000  2.708088e+05  7.969500e+03  3.350000e+02   8.410000e+02   \n",
       "max       44.000000  1.009116e+08  4.750254e+06  1.353661e+06   1.040912e+06   \n",
       "\n",
       "                lat           lon  \n",
       "count  40724.000000  40724.000000  \n",
       "mean      36.986535     -2.314779  \n",
       "std       19.889834     25.443453  \n",
       "min      -21.033511    -61.532999  \n",
       "25%       42.699989     -0.530030  \n",
       "50%       45.899975      2.666648  \n",
       "75%       48.516663      6.030009  \n",
       "max       50.283325     55.712816  "
      ]
     },
     "execution_count": 19,
     "metadata": {},
     "output_type": "execute_result"
    }
   ],
   "source": [
    "#Analizando  la media, moda,desv estandar, etc.\n",
    "FR_df.describe()"
   ]
  },
  {
   "cell_type": "code",
   "execution_count": 20,
   "metadata": {},
   "outputs": [
    {
     "name": "stdout",
     "output_type": "stream",
     "text": [
      "<class 'pandas.core.frame.DataFrame'>\n",
      "RangeIndex: 40724 entries, 0 to 40723\n",
      "Data columns (total 20 columns):\n",
      " #   Column                  Non-Null Count  Dtype  \n",
      "---  ------                  --------------  -----  \n",
      " 0   video_id                40724 non-null  object \n",
      " 1   trending_date           40724 non-null  object \n",
      " 2   title                   40724 non-null  object \n",
      " 3   channel_title           40724 non-null  object \n",
      " 4   category_id             40724 non-null  int64  \n",
      " 5   publish_time            40724 non-null  object \n",
      " 6   tags                    40724 non-null  object \n",
      " 7   views                   40724 non-null  int64  \n",
      " 8   likes                   40724 non-null  int64  \n",
      " 9   dislikes                40724 non-null  int64  \n",
      " 10  comment_count           40724 non-null  int64  \n",
      " 11  thumbnail_link          40724 non-null  object \n",
      " 12  comments_disabled       40724 non-null  bool   \n",
      " 13  ratings_disabled        40724 non-null  bool   \n",
      " 14  video_error_or_removed  40724 non-null  bool   \n",
      " 15  description             37812 non-null  object \n",
      " 16  state                   40724 non-null  object \n",
      " 17  lat                     40724 non-null  float64\n",
      " 18  lon                     40724 non-null  float64\n",
      " 19  geometry                40724 non-null  object \n",
      "dtypes: bool(3), float64(2), int64(5), object(10)\n",
      "memory usage: 5.4+ MB\n"
     ]
    }
   ],
   "source": [
    "#Analizando los tipos de datos\n",
    "FR_df.info()"
   ]
  },
  {
   "cell_type": "code",
   "execution_count": 32,
   "metadata": {},
   "outputs": [
    {
     "data": {
      "text/plain": [
       "0"
      ]
     },
     "execution_count": 32,
     "metadata": {},
     "output_type": "execute_result"
    }
   ],
   "source": [
    "#Obtener la cantidad de filas duplicadas del dataframe\n",
    "FR_df[FR_df.duplicated()].shape[0]"
   ]
  },
  {
   "cell_type": "code",
   "execution_count": 34,
   "metadata": {},
   "outputs": [
    {
     "data": {
      "text/plain": [
       "comments_disabled\n",
       "False    39835\n",
       "True       889\n",
       "Name: count, dtype: int64"
      ]
     },
     "execution_count": 34,
     "metadata": {},
     "output_type": "execute_result"
    }
   ],
   "source": [
    "#Verificamos si los comentarios estan desabilitados para ciertos videos\n",
    "FR_df.comments_disabled.value_counts()"
   ]
  },
  {
   "cell_type": "code",
   "execution_count": 35,
   "metadata": {},
   "outputs": [
    {
     "data": {
      "text/plain": [
       "ratings_disabled\n",
       "False    40020\n",
       "True       704\n",
       "Name: count, dtype: int64"
      ]
     },
     "execution_count": 35,
     "metadata": {},
     "output_type": "execute_result"
    }
   ],
   "source": [
    "#Verificamos si los likes estan  desabilitados para ciertos videos\n",
    "FR_df.ratings_disabled.value_counts()"
   ]
  },
  {
   "cell_type": "code",
   "execution_count": 36,
   "metadata": {},
   "outputs": [
    {
     "data": {
      "text/plain": [
       "video_error_or_removed\n",
       "False    40702\n",
       "True        22\n",
       "Name: count, dtype: int64"
      ]
     },
     "execution_count": 36,
     "metadata": {},
     "output_type": "execute_result"
    }
   ],
   "source": [
    "#Veremos si los videos tuvieron un error o han sido removidos \n",
    "FR_df.video_error_or_removed.value_counts()"
   ]
  },
  {
   "cell_type": "code",
   "execution_count": null,
   "metadata": {},
   "outputs": [],
   "source": []
  }
 ],
 "metadata": {
  "kernelspec": {
   "display_name": "Python 3",
   "language": "python",
   "name": "python3"
  },
  "language_info": {
   "codemirror_mode": {
    "name": "ipython",
    "version": 3
   },
   "file_extension": ".py",
   "mimetype": "text/x-python",
   "name": "python",
   "nbconvert_exporter": "python",
   "pygments_lexer": "ipython3",
   "version": "3.12.0"
  },
  "orig_nbformat": 4
 },
 "nbformat": 4,
 "nbformat_minor": 2
}
