{
 "cells": [
  {
   "cell_type": "code",
   "execution_count": 17,
   "metadata": {},
   "outputs": [],
   "source": [
    "import numpy as np\n",
    "import pandas as pd\n",
    "import statsmodels.api as sm\n",
    "import matplotlib.pyplot as plt\n",
    "import seaborn as sns\n",
    "%matplotlib inline\n"
   ]
  },
  {
   "cell_type": "code",
   "execution_count": 9,
   "metadata": {},
   "outputs": [],
   "source": [
    "#Importar data\n",
    "FR_df=pd.read_csv(\"FRvideos_cc50_202101.csv\")"
   ]
  },
  {
   "cell_type": "code",
   "execution_count": 10,
   "metadata": {},
   "outputs": [],
   "source": [
    "#Importar el json y extraer la data que nos interesa\n",
    "import json\n",
    "FR_category={}\n",
    "with open(\"FR_category_id.json\") as f:\n",
    "    FR_data=json.load(f)\n",
    "for i in list(pd.DataFrame(FR_data['items']).id.values):\n",
    "    FR_category[i]=pd.DataFrame(FR_data['items'])[pd.DataFrame(FR_data['items']).id==i].snippet.values[0]['title']"
   ]
  },
  {
   "cell_type": "code",
   "execution_count": 11,
   "metadata": {},
   "outputs": [],
   "source": [
    "#vemos la informacion de toda la informacion de las columnas\n",
    "pd.set_option('display.max_columns', None)\n",
    "pd.set_option('display.max_rows', None)\n",
    "pd.set_option('display.max_colwidth', None)"
   ]
  },
  {
   "cell_type": "code",
   "execution_count": 12,
   "metadata": {},
   "outputs": [
    {
     "data": {
      "text/html": [
       "<div>\n",
       "<style scoped>\n",
       "    .dataframe tbody tr th:only-of-type {\n",
       "        vertical-align: middle;\n",
       "    }\n",
       "\n",
       "    .dataframe tbody tr th {\n",
       "        vertical-align: top;\n",
       "    }\n",
       "\n",
       "    .dataframe thead th {\n",
       "        text-align: right;\n",
       "    }\n",
       "</style>\n",
       "<table border=\"1\" class=\"dataframe\">\n",
       "  <thead>\n",
       "    <tr style=\"text-align: right;\">\n",
       "      <th></th>\n",
       "      <th>video_id</th>\n",
       "      <th>trending_date</th>\n",
       "      <th>title</th>\n",
       "      <th>channel_title</th>\n",
       "      <th>category_id</th>\n",
       "      <th>publish_time</th>\n",
       "      <th>tags</th>\n",
       "      <th>views</th>\n",
       "      <th>likes</th>\n",
       "      <th>dislikes</th>\n",
       "      <th>comment_count</th>\n",
       "      <th>thumbnail_link</th>\n",
       "      <th>comments_disabled</th>\n",
       "      <th>ratings_disabled</th>\n",
       "      <th>video_error_or_removed</th>\n",
       "      <th>description</th>\n",
       "      <th>state</th>\n",
       "      <th>lat</th>\n",
       "      <th>lon</th>\n",
       "      <th>geometry</th>\n",
       "    </tr>\n",
       "  </thead>\n",
       "  <tbody>\n",
       "    <tr>\n",
       "      <th>18059</th>\n",
       "      <td>t3HFob5pC3g</td>\n",
       "      <td>18.14.02</td>\n",
       "      <td>DADJU - Mafuzzy Style (Clip Officiel)</td>\n",
       "      <td>DADJU</td>\n",
       "      <td>10</td>\n",
       "      <td>2018-02-11T14:03:56.000Z</td>\n",
       "      <td>dadju\"|\"mafuzzy style\"|\"gentleman\"|\"gentleman 2.0\"|\"intro\"|\"lionne\"|\"deja trouve\"|\"oublie le\"|\"trouvez la moi\"|\"reine\"|\"jenny\"|\"bob marley\"|\"sous controle\"|\"deja donne\"|\"j'ai dit non\"|\"par amour\"|\"monica\"|\"PTD\"|\"django\"|\"intuition\"|\"ma fierte\"|\"comme si de rien n'etait\"|\"seconde chance\"|\"keblack\"|\"fally ipupa\"|\"s pri noir\"|\"niska\"|\"maitre gims\"|\"franglish\"|\"alonzo\"|\"trace tv\"|\"trace urban</td>\n",
       "      <td>1051103</td>\n",
       "      <td>49979</td>\n",
       "      <td>711</td>\n",
       "      <td>1628</td>\n",
       "      <td>https://i.ytimg.com/vi/t3HFob5pC3g/default.jpg</td>\n",
       "      <td>False</td>\n",
       "      <td>False</td>\n",
       "      <td>False</td>\n",
       "      <td>Nouvel album « GENTLEMAN 2.0 »\\nMaintenant disponible : https://dadju.lnk.to/Gentleman20\\nEn tournée dans toute la France : https://lc.cx/ge8s\\n--\\nRestez connectés avec DADJU :\\nhttps://www.facebook.com/DADJU\\nhttps://www.instagram.com/DADJU\\nhttps://twitter.com/DADJU\\nSnapchat : Dadjnight</td>\n",
       "      <td>Corse</td>\n",
       "      <td>41.927065</td>\n",
       "      <td>8.728294</td>\n",
       "      <td>POINT (8.728293821999999 41.92706484)</td>\n",
       "    </tr>\n",
       "    <tr>\n",
       "      <th>14459</th>\n",
       "      <td>eHlGlTuBFNQ</td>\n",
       "      <td>18.27.01</td>\n",
       "      <td>Deleted video</td>\n",
       "      <td>RT France</td>\n",
       "      <td>25</td>\n",
       "      <td>2018-01-26T11:44:45.000Z</td>\n",
       "      <td>RT\"|\"Russia Today\"|\"RT France\"|\"actu\"|\"info\"|\"actualité\"|\"France\"|\"réductions\"|\"Nutella\"|\"hystérie\"|\"supermarchés\"|\"promotion\"|\"pâte\"|\"bousculades\"|\"altercations\"|\"consommateurs\"|\"affaire</td>\n",
       "      <td>11378</td>\n",
       "      <td>34</td>\n",
       "      <td>69</td>\n",
       "      <td>237</td>\n",
       "      <td>https://i.ytimg.com/vi/egZeSZ4_qnw/default.jpg</td>\n",
       "      <td>False</td>\n",
       "      <td>False</td>\n",
       "      <td>True</td>\n",
       "      <td>La promotion, dans plusieurs supermarchés, de la célèbre pâte à tartiner Nutella a provoqué d'impressionnantes bousculades et des altercations entre consommateurs soucieux de ne pas manquer une bonne affaire.\\n\\nAbonnez-vous à la chaîne YouTube de RT France : https://www.youtube.com/user/rtenfrancais\\n\\nRT en français : http://francais.rt.com/\\nFacebook : https://www.facebook.com/RTFrance\\nTwitter : https://twitter.com/rtenfrancais\\nGoogle+ : https://plus.google.com/104396643367936605095/posts</td>\n",
       "      <td>Bourgogne</td>\n",
       "      <td>46.983733</td>\n",
       "      <td>3.166669</td>\n",
       "      <td>POINT (3.166669473 46.98373293)</td>\n",
       "    </tr>\n",
       "    <tr>\n",
       "      <th>10812</th>\n",
       "      <td>T_ZjWpz-QmU</td>\n",
       "      <td>18.07.01</td>\n",
       "      <td>Top 5 des avantages à être moche</td>\n",
       "      <td>Topito</td>\n",
       "      <td>24</td>\n",
       "      <td>2018-01-05T16:00:03.000Z</td>\n",
       "      <td>Topito\"|\"Top\"|\"gens moches\"|\"laideur\"|\"beauté\"|\"beaux\"|\"canon\"|\"gueule</td>\n",
       "      <td>479863</td>\n",
       "      <td>32170</td>\n",
       "      <td>1300</td>\n",
       "      <td>1467</td>\n",
       "      <td>https://i.ytimg.com/vi/T_ZjWpz-QmU/default.jpg</td>\n",
       "      <td>False</td>\n",
       "      <td>False</td>\n",
       "      <td>False</td>\n",
       "      <td>Le mois des abonnay, le mois des abonnay, le mois des abonnay (en chanson dans la tête).\\n\\nÉcriture : Urbain\\nRéalisation : Nyalatovah\\n\\n---\\n- La boutique de Topito (nos t-shirts et sweats) ! http://shop.topito.com\\n- Tous nos super livres : https://goo.gl/XS02Vt\\n- Retrouve-nous sur le site Topito: http://topito.com\\n- Notre Facebook avec d'autres vidéos: https://goo.gl/jGwqBP\\n- Notre Snapchat : http://snapchat.com/add/topito_com\\n- Notre Instagram : http://instagram.com/topito_com\\n- Nos Tweet : http://twitter.com/topito_com\\n- Nos soirées Stand-Up pour nous découvrir sur scène: https://goo.gl/d9CSwe\\n- Nos logiciels de montage: Adobe Première (https://goo.gl/ak2hNp) et After Effects (https://goo.gl/O14eQl)\\n- C'est quoi la musique ? Lis les crédits à la fin de la vidéo !\\n- Le plus fort entre l'hippopotame et l'éléphant ? L'éléphant bien sûr\\n- Sinon ça va ? ouais ça va bien et toi ?</td>\n",
       "      <td>Limousin</td>\n",
       "      <td>45.150408</td>\n",
       "      <td>1.533332</td>\n",
       "      <td>POINT (1.533332477 45.15040814)</td>\n",
       "    </tr>\n",
       "  </tbody>\n",
       "</table>\n",
       "</div>"
      ],
      "text/plain": [
       "          video_id trending_date                                  title  \\\n",
       "18059  t3HFob5pC3g      18.14.02  DADJU - Mafuzzy Style (Clip Officiel)   \n",
       "14459  eHlGlTuBFNQ      18.27.01                          Deleted video   \n",
       "10812  T_ZjWpz-QmU      18.07.01       Top 5 des avantages à être moche   \n",
       "\n",
       "      channel_title  category_id              publish_time  \\\n",
       "18059         DADJU           10  2018-02-11T14:03:56.000Z   \n",
       "14459     RT France           25  2018-01-26T11:44:45.000Z   \n",
       "10812        Topito           24  2018-01-05T16:00:03.000Z   \n",
       "\n",
       "                                                                                                                                                                                                                                                                                                                                                                                                          tags  \\\n",
       "18059  dadju\"|\"mafuzzy style\"|\"gentleman\"|\"gentleman 2.0\"|\"intro\"|\"lionne\"|\"deja trouve\"|\"oublie le\"|\"trouvez la moi\"|\"reine\"|\"jenny\"|\"bob marley\"|\"sous controle\"|\"deja donne\"|\"j'ai dit non\"|\"par amour\"|\"monica\"|\"PTD\"|\"django\"|\"intuition\"|\"ma fierte\"|\"comme si de rien n'etait\"|\"seconde chance\"|\"keblack\"|\"fally ipupa\"|\"s pri noir\"|\"niska\"|\"maitre gims\"|\"franglish\"|\"alonzo\"|\"trace tv\"|\"trace urban   \n",
       "14459                                                                                                                                                                                                              RT\"|\"Russia Today\"|\"RT France\"|\"actu\"|\"info\"|\"actualité\"|\"France\"|\"réductions\"|\"Nutella\"|\"hystérie\"|\"supermarchés\"|\"promotion\"|\"pâte\"|\"bousculades\"|\"altercations\"|\"consommateurs\"|\"affaire   \n",
       "10812                                                                                                                                                                                                                                                                                                                                   Topito\"|\"Top\"|\"gens moches\"|\"laideur\"|\"beauté\"|\"beaux\"|\"canon\"|\"gueule   \n",
       "\n",
       "         views  likes  dislikes  comment_count  \\\n",
       "18059  1051103  49979       711           1628   \n",
       "14459    11378     34        69            237   \n",
       "10812   479863  32170      1300           1467   \n",
       "\n",
       "                                       thumbnail_link  comments_disabled  \\\n",
       "18059  https://i.ytimg.com/vi/t3HFob5pC3g/default.jpg              False   \n",
       "14459  https://i.ytimg.com/vi/egZeSZ4_qnw/default.jpg              False   \n",
       "10812  https://i.ytimg.com/vi/T_ZjWpz-QmU/default.jpg              False   \n",
       "\n",
       "       ratings_disabled  video_error_or_removed  \\\n",
       "18059             False                   False   \n",
       "14459             False                    True   \n",
       "10812             False                   False   \n",
       "\n",
       "                                                                                                                                                                                                                                                                                                                                                                                                                                                                                                                                                                                                                                                                                                                                                                                                                                                                                                                                   description  \\\n",
       "18059                                                                                                                                                                                                                                                                                                                                                                                                                                                                                                                                                                                                                                      Nouvel album « GENTLEMAN 2.0 »\\nMaintenant disponible : https://dadju.lnk.to/Gentleman20\\nEn tournée dans toute la France : https://lc.cx/ge8s\\n--\\nRestez connectés avec DADJU :\\nhttps://www.facebook.com/DADJU\\nhttps://www.instagram.com/DADJU\\nhttps://twitter.com/DADJU\\nSnapchat : Dadjnight   \n",
       "14459                                                                                                                                                                                                                                                                                                                                                                                                                       La promotion, dans plusieurs supermarchés, de la célèbre pâte à tartiner Nutella a provoqué d'impressionnantes bousculades et des altercations entre consommateurs soucieux de ne pas manquer une bonne affaire.\\n\\nAbonnez-vous à la chaîne YouTube de RT France : https://www.youtube.com/user/rtenfrancais\\n\\nRT en français : http://francais.rt.com/\\nFacebook : https://www.facebook.com/RTFrance\\nTwitter : https://twitter.com/rtenfrancais\\nGoogle+ : https://plus.google.com/104396643367936605095/posts   \n",
       "10812  Le mois des abonnay, le mois des abonnay, le mois des abonnay (en chanson dans la tête).\\n\\nÉcriture : Urbain\\nRéalisation : Nyalatovah\\n\\n---\\n- La boutique de Topito (nos t-shirts et sweats) ! http://shop.topito.com\\n- Tous nos super livres : https://goo.gl/XS02Vt\\n- Retrouve-nous sur le site Topito: http://topito.com\\n- Notre Facebook avec d'autres vidéos: https://goo.gl/jGwqBP\\n- Notre Snapchat : http://snapchat.com/add/topito_com\\n- Notre Instagram : http://instagram.com/topito_com\\n- Nos Tweet : http://twitter.com/topito_com\\n- Nos soirées Stand-Up pour nous découvrir sur scène: https://goo.gl/d9CSwe\\n- Nos logiciels de montage: Adobe Première (https://goo.gl/ak2hNp) et After Effects (https://goo.gl/O14eQl)\\n- C'est quoi la musique ? Lis les crédits à la fin de la vidéo !\\n- Le plus fort entre l'hippopotame et l'éléphant ? L'éléphant bien sûr\\n- Sinon ça va ? ouais ça va bien et toi ?   \n",
       "\n",
       "           state        lat       lon                               geometry  \n",
       "18059      Corse  41.927065  8.728294  POINT (8.728293821999999 41.92706484)  \n",
       "14459  Bourgogne  46.983733  3.166669        POINT (3.166669473 46.98373293)  \n",
       "10812   Limousin  45.150408  1.533332        POINT (1.533332477 45.15040814)  "
      ]
     },
     "execution_count": 12,
     "metadata": {},
     "output_type": "execute_result"
    }
   ],
   "source": [
    "FR_df.sample(3)"
   ]
  },
  {
   "cell_type": "code",
   "execution_count": 13,
   "metadata": {},
   "outputs": [
    {
     "data": {
      "text/plain": [
       "video_id                     0\n",
       "trending_date                0\n",
       "title                        0\n",
       "channel_title                0\n",
       "category_id                  0\n",
       "publish_time                 0\n",
       "tags                         0\n",
       "views                        0\n",
       "likes                        0\n",
       "dislikes                     0\n",
       "comment_count                0\n",
       "thumbnail_link               0\n",
       "comments_disabled            0\n",
       "ratings_disabled             0\n",
       "video_error_or_removed       0\n",
       "description               2912\n",
       "state                        0\n",
       "lat                          0\n",
       "lon                          0\n",
       "geometry                     0\n",
       "dtype: int64"
      ]
     },
     "execution_count": 13,
     "metadata": {},
     "output_type": "execute_result"
    }
   ],
   "source": [
    "#valores nulos en cada columna\n",
    "FR_df.isnull().sum()"
   ]
  },
  {
   "cell_type": "code",
   "execution_count": 14,
   "metadata": {},
   "outputs": [
    {
     "data": {
      "text/html": [
       "<div>\n",
       "<style scoped>\n",
       "    .dataframe tbody tr th:only-of-type {\n",
       "        vertical-align: middle;\n",
       "    }\n",
       "\n",
       "    .dataframe tbody tr th {\n",
       "        vertical-align: top;\n",
       "    }\n",
       "\n",
       "    .dataframe thead th {\n",
       "        text-align: right;\n",
       "    }\n",
       "</style>\n",
       "<table border=\"1\" class=\"dataframe\">\n",
       "  <thead>\n",
       "    <tr style=\"text-align: right;\">\n",
       "      <th></th>\n",
       "      <th>category_id</th>\n",
       "      <th>views</th>\n",
       "      <th>likes</th>\n",
       "      <th>dislikes</th>\n",
       "      <th>comment_count</th>\n",
       "      <th>lat</th>\n",
       "      <th>lon</th>\n",
       "    </tr>\n",
       "  </thead>\n",
       "  <tbody>\n",
       "    <tr>\n",
       "      <th>count</th>\n",
       "      <td>40724.000000</td>\n",
       "      <td>4.072400e+04</td>\n",
       "      <td>4.072400e+04</td>\n",
       "      <td>4.072400e+04</td>\n",
       "      <td>4.072400e+04</td>\n",
       "      <td>40724.000000</td>\n",
       "      <td>40724.000000</td>\n",
       "    </tr>\n",
       "    <tr>\n",
       "      <th>mean</th>\n",
       "      <td>20.123809</td>\n",
       "      <td>4.199219e+05</td>\n",
       "      <td>1.738886e+04</td>\n",
       "      <td>8.149624e+02</td>\n",
       "      <td>1.832453e+03</td>\n",
       "      <td>36.986535</td>\n",
       "      <td>-2.314779</td>\n",
       "    </tr>\n",
       "    <tr>\n",
       "      <th>std</th>\n",
       "      <td>6.984422</td>\n",
       "      <td>1.772130e+06</td>\n",
       "      <td>8.720509e+04</td>\n",
       "      <td>1.139219e+04</td>\n",
       "      <td>1.404321e+04</td>\n",
       "      <td>19.889834</td>\n",
       "      <td>25.443453</td>\n",
       "    </tr>\n",
       "    <tr>\n",
       "      <th>min</th>\n",
       "      <td>1.000000</td>\n",
       "      <td>2.230000e+02</td>\n",
       "      <td>0.000000e+00</td>\n",
       "      <td>0.000000e+00</td>\n",
       "      <td>0.000000e+00</td>\n",
       "      <td>-21.033511</td>\n",
       "      <td>-61.532999</td>\n",
       "    </tr>\n",
       "    <tr>\n",
       "      <th>25%</th>\n",
       "      <td>17.000000</td>\n",
       "      <td>1.697450e+04</td>\n",
       "      <td>3.380000e+02</td>\n",
       "      <td>1.800000e+01</td>\n",
       "      <td>5.600000e+01</td>\n",
       "      <td>42.699989</td>\n",
       "      <td>-0.530030</td>\n",
       "    </tr>\n",
       "    <tr>\n",
       "      <th>50%</th>\n",
       "      <td>23.000000</td>\n",
       "      <td>7.372100e+04</td>\n",
       "      <td>1.892500e+03</td>\n",
       "      <td>8.300000e+01</td>\n",
       "      <td>2.350000e+02</td>\n",
       "      <td>45.899975</td>\n",
       "      <td>2.666648</td>\n",
       "    </tr>\n",
       "    <tr>\n",
       "      <th>75%</th>\n",
       "      <td>24.000000</td>\n",
       "      <td>2.708088e+05</td>\n",
       "      <td>7.969500e+03</td>\n",
       "      <td>3.350000e+02</td>\n",
       "      <td>8.410000e+02</td>\n",
       "      <td>48.516663</td>\n",
       "      <td>6.030009</td>\n",
       "    </tr>\n",
       "    <tr>\n",
       "      <th>max</th>\n",
       "      <td>44.000000</td>\n",
       "      <td>1.009116e+08</td>\n",
       "      <td>4.750254e+06</td>\n",
       "      <td>1.353661e+06</td>\n",
       "      <td>1.040912e+06</td>\n",
       "      <td>50.283325</td>\n",
       "      <td>55.712816</td>\n",
       "    </tr>\n",
       "  </tbody>\n",
       "</table>\n",
       "</div>"
      ],
      "text/plain": [
       "        category_id         views         likes      dislikes  comment_count  \\\n",
       "count  40724.000000  4.072400e+04  4.072400e+04  4.072400e+04   4.072400e+04   \n",
       "mean      20.123809  4.199219e+05  1.738886e+04  8.149624e+02   1.832453e+03   \n",
       "std        6.984422  1.772130e+06  8.720509e+04  1.139219e+04   1.404321e+04   \n",
       "min        1.000000  2.230000e+02  0.000000e+00  0.000000e+00   0.000000e+00   \n",
       "25%       17.000000  1.697450e+04  3.380000e+02  1.800000e+01   5.600000e+01   \n",
       "50%       23.000000  7.372100e+04  1.892500e+03  8.300000e+01   2.350000e+02   \n",
       "75%       24.000000  2.708088e+05  7.969500e+03  3.350000e+02   8.410000e+02   \n",
       "max       44.000000  1.009116e+08  4.750254e+06  1.353661e+06   1.040912e+06   \n",
       "\n",
       "                lat           lon  \n",
       "count  40724.000000  40724.000000  \n",
       "mean      36.986535     -2.314779  \n",
       "std       19.889834     25.443453  \n",
       "min      -21.033511    -61.532999  \n",
       "25%       42.699989     -0.530030  \n",
       "50%       45.899975      2.666648  \n",
       "75%       48.516663      6.030009  \n",
       "max       50.283325     55.712816  "
      ]
     },
     "execution_count": 14,
     "metadata": {},
     "output_type": "execute_result"
    }
   ],
   "source": [
    "#Analizando  la media, moda,desv estandar, etc.\n",
    "FR_df.describe()"
   ]
  },
  {
   "cell_type": "code",
   "execution_count": 18,
   "metadata": {},
   "outputs": [
    {
     "data": {
      "image/png": "[encoded data removed]",
      "text/plain": [
       "<Figure size 1200x800 with 4 Axes>"
      ]
     },
     "metadata": {},
     "output_type": "display_data"
    }
   ],
   "source": [
    "#Analizamos si hay valores atipicos \n",
    "\n",
    "columns_to_plot = ['views', 'likes', 'dislikes', 'comment_count']\n",
    "\n",
    "# Crea subgráficos para cada columna\n",
    "plt.figure(figsize=(12, 8))\n",
    "for i, column in enumerate(columns_to_plot, 1):\n",
    "    plt.subplot(2, 2, i)\n",
    "    sns.boxplot(x=FR_df[column])\n",
    "    plt.title(f'Boxplot de {column}')\n",
    "\n",
    "plt.tight_layout()\n",
    "plt.show()"
   ]
  },
  {
   "cell_type": "code",
   "execution_count": 15,
   "metadata": {},
   "outputs": [
    {
     "name": "stdout",
     "output_type": "stream",
     "text": [
      "<class 'pandas.core.frame.DataFrame'>\n",
      "RangeIndex: 40724 entries, 0 to 40723\n",
      "Data columns (total 20 columns):\n",
      " #   Column                  Non-Null Count  Dtype  \n",
      "---  ------                  --------------  -----  \n",
      " 0   video_id                40724 non-null  object \n",
      " 1   trending_date           40724 non-null  object \n",
      " 2   title                   40724 non-null  object \n",
      " 3   channel_title           40724 non-null  object \n",
      " 4   category_id             40724 non-null  int64  \n",
      " 5   publish_time            40724 non-null  object \n",
      " 6   tags                    40724 non-null  object \n",
      " 7   views                   40724 non-null  int64  \n",
      " 8   likes                   40724 non-null  int64  \n",
      " 9   dislikes                40724 non-null  int64  \n",
      " 10  comment_count           40724 non-null  int64  \n",
      " 11  thumbnail_link          40724 non-null  object \n",
      " 12  comments_disabled       40724 non-null  bool   \n",
      " 13  ratings_disabled        40724 non-null  bool   \n",
      " 14  video_error_or_removed  40724 non-null  bool   \n",
      " 15  description             37812 non-null  object \n",
      " 16  state                   40724 non-null  object \n",
      " 17  lat                     40724 non-null  float64\n",
      " 18  lon                     40724 non-null  float64\n",
      " 19  geometry                40724 non-null  object \n",
      "dtypes: bool(3), float64(2), int64(5), object(10)\n",
      "memory usage: 5.4+ MB\n"
     ]
    }
   ],
   "source": [
    "#Analizando los tipos de datos\n",
    "FR_df.info()"
   ]
  },
  {
   "cell_type": "code",
   "execution_count": 32,
   "metadata": {},
   "outputs": [
    {
     "data": {
      "text/plain": [
       "0"
      ]
     },
     "execution_count": 32,
     "metadata": {},
     "output_type": "execute_result"
    }
   ],
   "source": [
    "#Obtener la cantidad de filas duplicadas del dataframe\n",
    "FR_df[FR_df.duplicated()].shape[0]"
   ]
  },
  {
   "cell_type": "code",
   "execution_count": 34,
   "metadata": {},
   "outputs": [
    {
     "data": {
      "text/plain": [
       "comments_disabled\n",
       "False    39835\n",
       "True       889\n",
       "Name: count, dtype: int64"
      ]
     },
     "execution_count": 34,
     "metadata": {},
     "output_type": "execute_result"
    }
   ],
   "source": [
    "#Verificamos si los comentarios estan desabilitados para ciertos videos\n",
    "FR_df.comments_disabled.value_counts()"
   ]
  },
  {
   "cell_type": "code",
   "execution_count": 35,
   "metadata": {},
   "outputs": [
    {
     "data": {
      "text/plain": [
       "ratings_disabled\n",
       "False    40020\n",
       "True       704\n",
       "Name: count, dtype: int64"
      ]
     },
     "execution_count": 35,
     "metadata": {},
     "output_type": "execute_result"
    }
   ],
   "source": [
    "#Verificamos si los likes estan  desabilitados para ciertos videos\n",
    "FR_df.ratings_disabled.value_counts()"
   ]
  },
  {
   "cell_type": "code",
   "execution_count": 36,
   "metadata": {},
   "outputs": [
    {
     "data": {
      "text/plain": [
       "video_error_or_removed\n",
       "False    40702\n",
       "True        22\n",
       "Name: count, dtype: int64"
      ]
     },
     "execution_count": 36,
     "metadata": {},
     "output_type": "execute_result"
    }
   ],
   "source": [
    "#Veremos si los videos tuvieron un error o han sido removidos \n",
    "FR_df.video_error_or_removed.value_counts()"
   ]
  },
  {
   "cell_type": "markdown",
   "metadata": {},
   "source": [
    "Problemas Reportados \n",
    "-El tipo de data de category_id debe ser objeto en ves de entero.\n",
    "-La tipo de dato de trending_date y publish_time deben ser datetime en ves de object.\n",
    "-No hay columnas repetidas.\n",
    "Columnas Inecesarias:\n",
    "'thumbnail_link','tags', 'description'\n",
    "\n"
   ]
  },
  {
   "cell_type": "code",
   "execution_count": null,
   "metadata": {},
   "outputs": [],
   "source": []
  }
 ],
 "metadata": {
  "kernelspec": {
   "display_name": "Python 3",
   "language": "python",
   "name": "python3"
  },
  "language_info": {
   "codemirror_mode": {
    "name": "ipython",
    "version": 3
   },
   "file_extension": ".py",
   "mimetype": "text/x-python",
   "name": "python",
   "nbconvert_exporter": "python",
   "pygments_lexer": "ipython3",
   "version": "3.12.0"
  },
  "orig_nbformat": 4
 },
 "nbformat": 4,
 "nbformat_minor": 2
}
