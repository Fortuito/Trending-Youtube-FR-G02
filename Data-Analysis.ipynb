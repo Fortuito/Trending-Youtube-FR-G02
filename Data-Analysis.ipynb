{
 "cells": [
  {
   "cell_type": "code",
   "execution_count": 18,
   "metadata": {},
   "outputs": [],
   "source": [
    "import numpy as np\n",
    "import pandas as pd\n",
    "import statsmodels.api as sm\n",
    "import matplotlib.pyplot as plt\n",
    "import seaborn as sns\n",
    "%matplotlib inline\n"
   ]
  },
  {
   "cell_type": "code",
   "execution_count": 19,
   "metadata": {},
   "outputs": [],
   "source": [
    "#Importar data\n",
    "FR_df=pd.read_csv(\"FRvideos_cc50_202101.csv\")"
   ]
  },
  {
   "cell_type": "code",
   "execution_count": 20,
   "metadata": {},
   "outputs": [],
   "source": [
    "#Importar el json y extraer la data que nos interesa\n",
    "import json\n",
    "FR_category={}\n",
    "with open(\"FR_category_id.json\") as f:\n",
    "    FR_data=json.load(f)\n",
    "for i in list(pd.DataFrame(FR_data['items']).id.values):\n",
    "    FR_category[i]=pd.DataFrame(FR_data['items'])[pd.DataFrame(FR_data['items']).id==i].snippet.values[0]['title']"
   ]
  },
  {
   "cell_type": "code",
   "execution_count": 21,
   "metadata": {},
   "outputs": [],
   "source": [
    "#vemos la informacion de toda la informacion de las columnas\n",
    "pd.set_option('display.max_columns', None)\n",
    "pd.set_option('display.max_rows', None)\n",
    "pd.set_option('display.max_colwidth', None)"
   ]
  },
  {
   "cell_type": "code",
   "execution_count": 22,
   "metadata": {},
   "outputs": [
    {
     "data": {
      "text/html": [
       "<div>\n",
       "<style scoped>\n",
       "    .dataframe tbody tr th:only-of-type {\n",
       "        vertical-align: middle;\n",
       "    }\n",
       "\n",
       "    .dataframe tbody tr th {\n",
       "        vertical-align: top;\n",
       "    }\n",
       "\n",
       "    .dataframe thead th {\n",
       "        text-align: right;\n",
       "    }\n",
       "</style>\n",
       "<table border=\"1\" class=\"dataframe\">\n",
       "  <thead>\n",
       "    <tr style=\"text-align: right;\">\n",
       "      <th></th>\n",
       "      <th>video_id</th>\n",
       "      <th>trending_date</th>\n",
       "      <th>title</th>\n",
       "      <th>channel_title</th>\n",
       "      <th>category_id</th>\n",
       "      <th>publish_time</th>\n",
       "      <th>tags</th>\n",
       "      <th>views</th>\n",
       "      <th>likes</th>\n",
       "      <th>dislikes</th>\n",
       "      <th>comment_count</th>\n",
       "      <th>thumbnail_link</th>\n",
       "      <th>comments_disabled</th>\n",
       "      <th>ratings_disabled</th>\n",
       "      <th>video_error_or_removed</th>\n",
       "      <th>description</th>\n",
       "      <th>state</th>\n",
       "      <th>lat</th>\n",
       "      <th>lon</th>\n",
       "      <th>geometry</th>\n",
       "    </tr>\n",
       "  </thead>\n",
       "  <tbody>\n",
       "    <tr>\n",
       "      <th>5696</th>\n",
       "      <td>id2kq-67kOk</td>\n",
       "      <td>17.12.12</td>\n",
       "      <td>UNE VOITURE RC À 300€ ! - T2M Pirate 8.6 - #VlogRC</td>\n",
       "      <td>TechNews&amp;Tests</td>\n",
       "      <td>2</td>\n",
       "      <td>2017-12-11T17:01:56.000Z</td>\n",
       "      <td>t2m\"|\"modelisme\"|\"voiture radiocommandée\"|\"rc\"|\"car\"|\"voiture\"|\"radiocommandé\"|\"voiture rc\"|\"buggy\"|\"tout terrain\"|\"pas cher\"|\"technewstests\"|\"slow motion\"|\"slomo\"|\"vlog rc\"|\"pirate 8.6\"|\"voiture t2m\"|\"romain lanery\"|\"thermique\"|\"voiture rc thermique\"|\"essence\"|\"voiture rc tt\"|\"tt</td>\n",
       "      <td>58241</td>\n",
       "      <td>4208</td>\n",
       "      <td>72</td>\n",
       "      <td>280</td>\n",
       "      <td>https://i.ytimg.com/vi/id2kq-67kOk/default.jpg</td>\n",
       "      <td>False</td>\n",
       "      <td>False</td>\n",
       "      <td>False</td>\n",
       "      <td>La voiture T2M Pirate 8.6 : https://goo.gl/uDgVav\\n➥Abonne-Toi pour suivre les vidéos: http://goo.gl/n9wlXx ☑\\nVidéos de modélisme : https://goo.gl/MEKsA7\\n\\nSuis moi sur Instagram: http://www.instagram.com/romainlanery/\\n\\n➥Bons Plans High-Tech &amp; Gaming:\\n-http://goo.gl/Z4F8SK\\n\\n●▬▬♦▬▬●\\n\\nBienvenue sur la chaîne TechNews&amp;Tests !\\nVous y trouverez des vidéos totalement gratuites parlant des derniers produits High-Tech mais aussi de l'actualité en général sur les nouvelles technologies !\\nEn espérant vous faire partager ma passion au mieux !\\nN'hésitez pas à vous abonner pour être au courant des prochaines vidéos !\\n\\n●▬▬▬▬▬♦▬▬▬▬▬●\\n\\nTwitter: http://bit.ly/Twitter_TNT\\nFacebook: http://bit.ly/FacebookTNT\\nInstagram: http://bit.ly/_Instagram_TNT\\nSnapChat: TechNewsTests\\nGoogle+: http://bit.ly/TNTGoogle\\n\\n●▬▬▬▬▬♦▬▬▬▬▬●\\n\\n...\\¯\\\\...\\¯\\\\\\n.....\\..\\\\..\\..\\\\\\n.......\\..\\\\..\\..\\\\\\n./¯/¯/.//…/..//./¯)\\n.\\_\\_\\......./..V../\\n..\\....TN&amp;T..../\\n....\\............./\\n\\n•~~ Prenez soin de vous et à la prochaine ~~•\\n              •~~ Ciao tout le monde ! ~~•~•\\n\\n© 2017 TECHNEWS&amp;TESTS | Tous droits réservés.</td>\n",
       "      <td>Poitou Charentes</td>\n",
       "      <td>46.583292</td>\n",
       "      <td>0.333277</td>\n",
       "      <td>POINT (0.333276529 46.58329226)</td>\n",
       "    </tr>\n",
       "    <tr>\n",
       "      <th>23744</th>\n",
       "      <td>JLa9kPFhALE</td>\n",
       "      <td>18.15.03</td>\n",
       "      <td>Médine - Bataclan (Official Clip)</td>\n",
       "      <td>Medine</td>\n",
       "      <td>10</td>\n",
       "      <td>2018-03-12T16:45:00.000Z</td>\n",
       "      <td>médine\"|\"bataclan\"|\"médine bataclan\"|\"bataclan attentat\"|\"bataclan hommage\"|\"orelsan\"|\"youssoupha\"|\"storyteller\"|\"la ligue\"|\"plmv\"|\"don't laïk\"|\"prose élite\"|\"dinrecords\"|\"rap médine</td>\n",
       "      <td>867936</td>\n",
       "      <td>35348</td>\n",
       "      <td>1136</td>\n",
       "      <td>1367</td>\n",
       "      <td>https://i.ytimg.com/vi/JLa9kPFhALE/default.jpg</td>\n",
       "      <td>False</td>\n",
       "      <td>False</td>\n",
       "      <td>False</td>\n",
       "      <td>Médine en concert au Bataclan le 20 octobre : http://po.st/MedineConcertBataclan\\nPrécommandez l'album Storyteller : https://Believe.lnk.to/Storyteller\\nBataclan en streaming ici : http://smarturl.it/Bataclan\\n\\nFacebook : http://www.facebook.com/MEDINRECORDS\\nTwitter : http://twitter.com/Medinrecords\\nInstagram : http://instagram.com/medine_officiel\\nItunes : http://po.st/MedineItunes\\nDeezer : http://po.st/MedineDeezer\\nSpotify : http://po.st/MedineSpotify\\n\\n« BATACLAN », extrait du nouvel album de Médine « STORYTELLER », dont la sortie est prévue le 13 avril 2018 : https://Believe.lnk.to/Storyteller\\n\\nRéalisé par Florin DEFRANCE \\nUne coproduction MIND &amp; ALPAGA FILMS avec Médine, Orelsan, Proof, Sofiane Pamart &amp; Youssoupha \\n1er assistant réalisateur : Yves BRUA\\nDirecteur de la photographie : Hervé ROESCH\\nOpérateur Ronin : Anthony LUDWIG\\n1ère assistante caméra : Caroline AVEZARD\\n2ème assistante caméra : Margaux MAGIS\\nScripte : Léa HIBERT\\nChef Electricien : Erick MEURICE\\nElectricien : Dorian LUCARELLI\\nElectricien renfort : Hugo LECLERC\\nChef éclairagiste Bataclan : Simon CASANOVA\\nEclairagiste Bataclan : Pierre GAUTHIER\\nStyliste : Glen MBAN\\nMaquilleuse : Anne-Esther DINA-EBIMBE\\nMaquilleuse : Agatha COUTURE\\nChef Décoratrice : Aurélia GARAY\\nChef Décoratrice : Lucie MOREY\\nAssistant Décorateur : Baptiste BLANCHET\\nDécoratrice renfort : Léa GIRAUD\\nDécoratrice renfort : Maélia SORET DE LAVARELLE\\nDécorateur renfort : Pierre LAB\\nDécorateur renfort : Laurine L.KANTE\\nDécorateur renfort : Rudy GARAY\\nRégisseur général : Adrien BASSIL\\n1er adjoint régie : Antoine CHATENET\\nMaking-of : Vincent FILOU\\nCatering : Karinale ZAOUICHE / Keziah LIVET\\nDirecteur artistique : Julien THOLLARD\\nDirecteur de production : David BRAUN\\nAssistante de production : Camille FRANCOIS\\nMontage : Florin DEFRANCE\\nVFX : Léo PUEL\\nProduction déléguée : Alassane KONATE / Julien THOLLARD (MIND)\\nProduction exécutive : David BRAUN (ALPAGA FILMS) \\nFigurants : Karen YASSINE / Ayrton DIAS / Dramane TRAORE / Jean-Paul ROY / Lou Justine MOUA NEDELLEC / Ocynia REBEYROLLES / Camille FARRUGIA / Melie HIRTZ / Marie LEBOSSÉ / Youssef LAHJAWZI / Ibrahima BA / Lemmy DELAMARRE / Thomas NURIT Moyens techniques : TSF / CINEXO /ALPAGA FILMS \\nRemerciements : LE BATACLAN / ADHESIVE PRODUCTION / PIERRE MAURICE / ALSACE20 / NORTH HILL / MARIE ET MICHEL LACAILLE / NICOLAS LEGRIX / NASSIM BLAQ\\n\\nProduction : Proof\\nArrangement : Sofiane Pamart\\nMix : Dicé\\nMastering : West Mastering France\\n\\nÉcoutez BATACLAN de Médine ici :\\nSpotify ➣ http://po.st/BataclanSpotify\\nApple ➣ http://po.st/BataclanAppleMusic\\nNapster ➣ http://po.st/BataclanNapster\\nDeezer ➣ http://po.st/BataclanDeezer\\nG. Play ➣ http://po.st/BataclanGPlay\\n\\nMusic video by Médine performing BATACLAN. (C) 2018 Din Records</td>\n",
       "      <td>Martinique</td>\n",
       "      <td>14.610412</td>\n",
       "      <td>-61.080029</td>\n",
       "      <td>POINT (-61.08002914 14.6104118)</td>\n",
       "    </tr>\n",
       "    <tr>\n",
       "      <th>36448</th>\n",
       "      <td>0lxLJQhf9zw</td>\n",
       "      <td>18.24.05</td>\n",
       "      <td>مسلسل فضيلة وبناتها الحلقة 48 اعلان 2 مترجم العربية</td>\n",
       "      <td>l FHVKM l</td>\n",
       "      <td>22</td>\n",
       "      <td>2018-05-23T15:29:00.000Z</td>\n",
       "      <td>[none]</td>\n",
       "      <td>124892</td>\n",
       "      <td>807</td>\n",
       "      <td>33</td>\n",
       "      <td>187</td>\n",
       "      <td>https://i.ytimg.com/vi/0lxLJQhf9zw/default.jpg</td>\n",
       "      <td>False</td>\n",
       "      <td>False</td>\n",
       "      <td>False</td>\n",
       "      <td>NaN</td>\n",
       "      <td>Aquitaine</td>\n",
       "      <td>43.473275</td>\n",
       "      <td>-1.561595</td>\n",
       "      <td>POINT (-1.561594891 43.47327537)</td>\n",
       "    </tr>\n",
       "  </tbody>\n",
       "</table>\n",
       "</div>"
      ],
      "text/plain": [
       "          video_id trending_date  \\\n",
       "5696   id2kq-67kOk      17.12.12   \n",
       "23744  JLa9kPFhALE      18.15.03   \n",
       "36448  0lxLJQhf9zw      18.24.05   \n",
       "\n",
       "                                                     title   channel_title  \\\n",
       "5696    UNE VOITURE RC À 300€ ! - T2M Pirate 8.6 - #VlogRC  TechNews&Tests   \n",
       "23744                    Médine - Bataclan (Official Clip)          Medine   \n",
       "36448  مسلسل فضيلة وبناتها الحلقة 48 اعلان 2 مترجم العربية       l FHVKM l   \n",
       "\n",
       "       category_id              publish_time  \\\n",
       "5696             2  2017-12-11T17:01:56.000Z   \n",
       "23744           10  2018-03-12T16:45:00.000Z   \n",
       "36448           22  2018-05-23T15:29:00.000Z   \n",
       "\n",
       "                                                                                                                                                                                                                                                                                            tags  \\\n",
       "5696   t2m\"|\"modelisme\"|\"voiture radiocommandée\"|\"rc\"|\"car\"|\"voiture\"|\"radiocommandé\"|\"voiture rc\"|\"buggy\"|\"tout terrain\"|\"pas cher\"|\"technewstests\"|\"slow motion\"|\"slomo\"|\"vlog rc\"|\"pirate 8.6\"|\"voiture t2m\"|\"romain lanery\"|\"thermique\"|\"voiture rc thermique\"|\"essence\"|\"voiture rc tt\"|\"tt   \n",
       "23744                                                                                                     médine\"|\"bataclan\"|\"médine bataclan\"|\"bataclan attentat\"|\"bataclan hommage\"|\"orelsan\"|\"youssoupha\"|\"storyteller\"|\"la ligue\"|\"plmv\"|\"don't laïk\"|\"prose élite\"|\"dinrecords\"|\"rap médine   \n",
       "36448                                                                                                                                                                                                                                                                                     [none]   \n",
       "\n",
       "        views  likes  dislikes  comment_count  \\\n",
       "5696    58241   4208        72            280   \n",
       "23744  867936  35348      1136           1367   \n",
       "36448  124892    807        33            187   \n",
       "\n",
       "                                       thumbnail_link  comments_disabled  \\\n",
       "5696   https://i.ytimg.com/vi/id2kq-67kOk/default.jpg              False   \n",
       "23744  https://i.ytimg.com/vi/JLa9kPFhALE/default.jpg              False   \n",
       "36448  https://i.ytimg.com/vi/0lxLJQhf9zw/default.jpg              False   \n",
       "\n",
       "       ratings_disabled  video_error_or_removed  \\\n",
       "5696              False                   False   \n",
       "23744             False                   False   \n",
       "36448             False                   False   \n",
       "\n",
       "                                                                                                                                                                                                                                                                                                                                                                                                                                                                                                                                                                                                                                                                                                                                                                                                                                                                                                                                                                                                                                                                                                                                                                                                                                                                                                                                                                                                                                                                                                                                                                                                                                                                                                                                                                                                                                                                                                                                                                                                                                                                                                                                                                                                                                                                                                                                                                                                                                                                                                                                                                                                                                                                                                                                                                                                                                                                                                          description  \\\n",
       "5696                                                                                                                                                                                                                                                                                                                                                                                                                                                                                                                                                                                                                                                                                                                                                                                                                                                                                                                                                                                                                                                                                                                                                                                                                                                                                                                                                                                                                                                                                                                                                                                                                                                                                                                                                     La voiture T2M Pirate 8.6 : https://goo.gl/uDgVav\\n➥Abonne-Toi pour suivre les vidéos: http://goo.gl/n9wlXx ☑\\nVidéos de modélisme : https://goo.gl/MEKsA7\\n\\nSuis moi sur Instagram: http://www.instagram.com/romainlanery/\\n\\n➥Bons Plans High-Tech & Gaming:\\n-http://goo.gl/Z4F8SK\\n\\n●▬▬♦▬▬●\\n\\nBienvenue sur la chaîne TechNews&Tests !\\nVous y trouverez des vidéos totalement gratuites parlant des derniers produits High-Tech mais aussi de l'actualité en général sur les nouvelles technologies !\\nEn espérant vous faire partager ma passion au mieux !\\nN'hésitez pas à vous abonner pour être au courant des prochaines vidéos !\\n\\n●▬▬▬▬▬♦▬▬▬▬▬●\\n\\nTwitter: http://bit.ly/Twitter_TNT\\nFacebook: http://bit.ly/FacebookTNT\\nInstagram: http://bit.ly/_Instagram_TNT\\nSnapChat: TechNewsTests\\nGoogle+: http://bit.ly/TNTGoogle\\n\\n●▬▬▬▬▬♦▬▬▬▬▬●\\n\\n...\\¯\\\\...\\¯\\\\\\n.....\\..\\\\..\\..\\\\\\n.......\\..\\\\..\\..\\\\\\n./¯/¯/.//…/..//./¯)\\n.\\_\\_\\......./..V../\\n..\\....TN&T..../\\n....\\............./\\n\\n•~~ Prenez soin de vous et à la prochaine ~~•\\n              •~~ Ciao tout le monde ! ~~•~•\\n\\n© 2017 TECHNEWS&TESTS | Tous droits réservés.   \n",
       "23744  Médine en concert au Bataclan le 20 octobre : http://po.st/MedineConcertBataclan\\nPrécommandez l'album Storyteller : https://Believe.lnk.to/Storyteller\\nBataclan en streaming ici : http://smarturl.it/Bataclan\\n\\nFacebook : http://www.facebook.com/MEDINRECORDS\\nTwitter : http://twitter.com/Medinrecords\\nInstagram : http://instagram.com/medine_officiel\\nItunes : http://po.st/MedineItunes\\nDeezer : http://po.st/MedineDeezer\\nSpotify : http://po.st/MedineSpotify\\n\\n« BATACLAN », extrait du nouvel album de Médine « STORYTELLER », dont la sortie est prévue le 13 avril 2018 : https://Believe.lnk.to/Storyteller\\n\\nRéalisé par Florin DEFRANCE \\nUne coproduction MIND & ALPAGA FILMS avec Médine, Orelsan, Proof, Sofiane Pamart & Youssoupha \\n1er assistant réalisateur : Yves BRUA\\nDirecteur de la photographie : Hervé ROESCH\\nOpérateur Ronin : Anthony LUDWIG\\n1ère assistante caméra : Caroline AVEZARD\\n2ème assistante caméra : Margaux MAGIS\\nScripte : Léa HIBERT\\nChef Electricien : Erick MEURICE\\nElectricien : Dorian LUCARELLI\\nElectricien renfort : Hugo LECLERC\\nChef éclairagiste Bataclan : Simon CASANOVA\\nEclairagiste Bataclan : Pierre GAUTHIER\\nStyliste : Glen MBAN\\nMaquilleuse : Anne-Esther DINA-EBIMBE\\nMaquilleuse : Agatha COUTURE\\nChef Décoratrice : Aurélia GARAY\\nChef Décoratrice : Lucie MOREY\\nAssistant Décorateur : Baptiste BLANCHET\\nDécoratrice renfort : Léa GIRAUD\\nDécoratrice renfort : Maélia SORET DE LAVARELLE\\nDécorateur renfort : Pierre LAB\\nDécorateur renfort : Laurine L.KANTE\\nDécorateur renfort : Rudy GARAY\\nRégisseur général : Adrien BASSIL\\n1er adjoint régie : Antoine CHATENET\\nMaking-of : Vincent FILOU\\nCatering : Karinale ZAOUICHE / Keziah LIVET\\nDirecteur artistique : Julien THOLLARD\\nDirecteur de production : David BRAUN\\nAssistante de production : Camille FRANCOIS\\nMontage : Florin DEFRANCE\\nVFX : Léo PUEL\\nProduction déléguée : Alassane KONATE / Julien THOLLARD (MIND)\\nProduction exécutive : David BRAUN (ALPAGA FILMS) \\nFigurants : Karen YASSINE / Ayrton DIAS / Dramane TRAORE / Jean-Paul ROY / Lou Justine MOUA NEDELLEC / Ocynia REBEYROLLES / Camille FARRUGIA / Melie HIRTZ / Marie LEBOSSÉ / Youssef LAHJAWZI / Ibrahima BA / Lemmy DELAMARRE / Thomas NURIT Moyens techniques : TSF / CINEXO /ALPAGA FILMS \\nRemerciements : LE BATACLAN / ADHESIVE PRODUCTION / PIERRE MAURICE / ALSACE20 / NORTH HILL / MARIE ET MICHEL LACAILLE / NICOLAS LEGRIX / NASSIM BLAQ\\n\\nProduction : Proof\\nArrangement : Sofiane Pamart\\nMix : Dicé\\nMastering : West Mastering France\\n\\nÉcoutez BATACLAN de Médine ici :\\nSpotify ➣ http://po.st/BataclanSpotify\\nApple ➣ http://po.st/BataclanAppleMusic\\nNapster ➣ http://po.st/BataclanNapster\\nDeezer ➣ http://po.st/BataclanDeezer\\nG. Play ➣ http://po.st/BataclanGPlay\\n\\nMusic video by Médine performing BATACLAN. (C) 2018 Din Records   \n",
       "36448                                                                                                                                                                                                                                                                                                                                                                                                                                                                                                                                                                                                                                                                                                                                                                                                                                                                                                                                                                                                                                                                                                                                                                                                                                                                                                                                                                                                                                                                                                                                                                                                                                                                                                                                                                                                                                                                                                                                                                                                                                                                                                                                                                                                                                                                                                                                                                                                                                                                                                                                                                                                                                                                                                                                                                                                                                                                                                             NaN   \n",
       "\n",
       "                  state        lat        lon  \\\n",
       "5696   Poitou Charentes  46.583292   0.333277   \n",
       "23744        Martinique  14.610412 -61.080029   \n",
       "36448         Aquitaine  43.473275  -1.561595   \n",
       "\n",
       "                               geometry  \n",
       "5696    POINT (0.333276529 46.58329226)  \n",
       "23744   POINT (-61.08002914 14.6104118)  \n",
       "36448  POINT (-1.561594891 43.47327537)  "
      ]
     },
     "execution_count": 22,
     "metadata": {},
     "output_type": "execute_result"
    }
   ],
   "source": [
    "FR_df.sample(3)"
   ]
  },
  {
   "cell_type": "code",
   "execution_count": 32,
   "metadata": {},
   "outputs": [
    {
     "data": {
      "text/plain": [
       "video_id                     0\n",
       "trending_date                0\n",
       "title                        0\n",
       "channel_title                0\n",
       "category_id                  0\n",
       "publish_time                 0\n",
       "tags                         0\n",
       "views                        0\n",
       "likes                        0\n",
       "dislikes                     0\n",
       "comment_count                0\n",
       "thumbnail_link               0\n",
       "comments_disabled            0\n",
       "ratings_disabled             0\n",
       "video_error_or_removed       0\n",
       "description               2912\n",
       "state                        0\n",
       "lat                          0\n",
       "lon                          0\n",
       "geometry                     0\n",
       "dtype: int64"
      ]
     },
     "execution_count": 32,
     "metadata": {},
     "output_type": "execute_result"
    }
   ],
   "source": [
    "#valores nulos en cada columna\n",
    "FR_df.isnull().sum()"
   ]
  },
  {
   "cell_type": "code",
   "execution_count": 33,
   "metadata": {},
   "outputs": [
    {
     "data": {
      "text/html": [
       "<div>\n",
       "<style scoped>\n",
       "    .dataframe tbody tr th:only-of-type {\n",
       "        vertical-align: middle;\n",
       "    }\n",
       "\n",
       "    .dataframe tbody tr th {\n",
       "        vertical-align: top;\n",
       "    }\n",
       "\n",
       "    .dataframe thead th {\n",
       "        text-align: right;\n",
       "    }\n",
       "</style>\n",
       "<table border=\"1\" class=\"dataframe\">\n",
       "  <thead>\n",
       "    <tr style=\"text-align: right;\">\n",
       "      <th></th>\n",
       "      <th>category_id</th>\n",
       "      <th>views</th>\n",
       "      <th>likes</th>\n",
       "      <th>dislikes</th>\n",
       "      <th>comment_count</th>\n",
       "      <th>lat</th>\n",
       "      <th>lon</th>\n",
       "    </tr>\n",
       "  </thead>\n",
       "  <tbody>\n",
       "    <tr>\n",
       "      <th>count</th>\n",
       "      <td>40724.000000</td>\n",
       "      <td>4.072400e+04</td>\n",
       "      <td>4.072400e+04</td>\n",
       "      <td>4.072400e+04</td>\n",
       "      <td>4.072400e+04</td>\n",
       "      <td>40724.000000</td>\n",
       "      <td>40724.000000</td>\n",
       "    </tr>\n",
       "    <tr>\n",
       "      <th>mean</th>\n",
       "      <td>20.123809</td>\n",
       "      <td>4.199219e+05</td>\n",
       "      <td>1.738886e+04</td>\n",
       "      <td>8.149624e+02</td>\n",
       "      <td>1.832453e+03</td>\n",
       "      <td>36.986535</td>\n",
       "      <td>-2.314779</td>\n",
       "    </tr>\n",
       "    <tr>\n",
       "      <th>std</th>\n",
       "      <td>6.984422</td>\n",
       "      <td>1.772130e+06</td>\n",
       "      <td>8.720509e+04</td>\n",
       "      <td>1.139219e+04</td>\n",
       "      <td>1.404321e+04</td>\n",
       "      <td>19.889834</td>\n",
       "      <td>25.443453</td>\n",
       "    </tr>\n",
       "    <tr>\n",
       "      <th>min</th>\n",
       "      <td>1.000000</td>\n",
       "      <td>2.230000e+02</td>\n",
       "      <td>0.000000e+00</td>\n",
       "      <td>0.000000e+00</td>\n",
       "      <td>0.000000e+00</td>\n",
       "      <td>-21.033511</td>\n",
       "      <td>-61.532999</td>\n",
       "    </tr>\n",
       "    <tr>\n",
       "      <th>25%</th>\n",
       "      <td>17.000000</td>\n",
       "      <td>1.697450e+04</td>\n",
       "      <td>3.380000e+02</td>\n",
       "      <td>1.800000e+01</td>\n",
       "      <td>5.600000e+01</td>\n",
       "      <td>42.699989</td>\n",
       "      <td>-0.530030</td>\n",
       "    </tr>\n",
       "    <tr>\n",
       "      <th>50%</th>\n",
       "      <td>23.000000</td>\n",
       "      <td>7.372100e+04</td>\n",
       "      <td>1.892500e+03</td>\n",
       "      <td>8.300000e+01</td>\n",
       "      <td>2.350000e+02</td>\n",
       "      <td>45.899975</td>\n",
       "      <td>2.666648</td>\n",
       "    </tr>\n",
       "    <tr>\n",
       "      <th>75%</th>\n",
       "      <td>24.000000</td>\n",
       "      <td>2.708088e+05</td>\n",
       "      <td>7.969500e+03</td>\n",
       "      <td>3.350000e+02</td>\n",
       "      <td>8.410000e+02</td>\n",
       "      <td>48.516663</td>\n",
       "      <td>6.030009</td>\n",
       "    </tr>\n",
       "    <tr>\n",
       "      <th>max</th>\n",
       "      <td>44.000000</td>\n",
       "      <td>1.009116e+08</td>\n",
       "      <td>4.750254e+06</td>\n",
       "      <td>1.353661e+06</td>\n",
       "      <td>1.040912e+06</td>\n",
       "      <td>50.283325</td>\n",
       "      <td>55.712816</td>\n",
       "    </tr>\n",
       "  </tbody>\n",
       "</table>\n",
       "</div>"
      ],
      "text/plain": [
       "        category_id         views         likes      dislikes  comment_count  \\\n",
       "count  40724.000000  4.072400e+04  4.072400e+04  4.072400e+04   4.072400e+04   \n",
       "mean      20.123809  4.199219e+05  1.738886e+04  8.149624e+02   1.832453e+03   \n",
       "std        6.984422  1.772130e+06  8.720509e+04  1.139219e+04   1.404321e+04   \n",
       "min        1.000000  2.230000e+02  0.000000e+00  0.000000e+00   0.000000e+00   \n",
       "25%       17.000000  1.697450e+04  3.380000e+02  1.800000e+01   5.600000e+01   \n",
       "50%       23.000000  7.372100e+04  1.892500e+03  8.300000e+01   2.350000e+02   \n",
       "75%       24.000000  2.708088e+05  7.969500e+03  3.350000e+02   8.410000e+02   \n",
       "max       44.000000  1.009116e+08  4.750254e+06  1.353661e+06   1.040912e+06   \n",
       "\n",
       "                lat           lon  \n",
       "count  40724.000000  40724.000000  \n",
       "mean      36.986535     -2.314779  \n",
       "std       19.889834     25.443453  \n",
       "min      -21.033511    -61.532999  \n",
       "25%       42.699989     -0.530030  \n",
       "50%       45.899975      2.666648  \n",
       "75%       48.516663      6.030009  \n",
       "max       50.283325     55.712816  "
      ]
     },
     "execution_count": 33,
     "metadata": {},
     "output_type": "execute_result"
    }
   ],
   "source": [
    "#Analizando  la media, moda,desv estandar, etc.\n",
    "FR_df.describe()"
   ]
  },
  {
   "cell_type": "code",
   "execution_count": 34,
   "metadata": {},
   "outputs": [
    {
     "data": {
      "text/plain": [
       "category_id      2931\n",
       "views            5163\n",
       "likes            5695\n",
       "dislikes         5174\n",
       "comment_count    5078\n",
       "lat              8671\n",
       "lon              8671\n",
       "dtype: int64"
      ]
     },
     "execution_count": 34,
     "metadata": {},
     "output_type": "execute_result"
    }
   ],
   "source": [
    "\n",
    "#analizando valores atipicos\n",
    "columns_to_plot = ['category_id','views', 'likes', 'dislikes', 'comment_count','lat','lon']\n",
    "Q1 = FR_df[columns_to_plot].quantile(0.25)\n",
    "Q3 = FR_df[columns_to_plot].quantile(0.75)\n",
    "IQR = Q3 - Q1\n",
    "\n",
    "outliers = ((FR_df[columns_to_plot] < (Q1 - 1.5 * IQR)) | (FR_df[columns_to_plot] > (Q3 + 1.5 * IQR)))\n",
    "outliers.sum()\n"
   ]
  },
  {
   "cell_type": "code",
   "execution_count": 36,
   "metadata": {},
   "outputs": [
    {
     "name": "stdout",
     "output_type": "stream",
     "text": [
      "<class 'pandas.core.frame.DataFrame'>\n",
      "RangeIndex: 40724 entries, 0 to 40723\n",
      "Data columns (total 20 columns):\n",
      " #   Column                  Non-Null Count  Dtype  \n",
      "---  ------                  --------------  -----  \n",
      " 0   video_id                40724 non-null  object \n",
      " 1   trending_date           40724 non-null  object \n",
      " 2   title                   40724 non-null  object \n",
      " 3   channel_title           40724 non-null  object \n",
      " 4   category_id             40724 non-null  int64  \n",
      " 5   publish_time            40724 non-null  object \n",
      " 6   tags                    40724 non-null  object \n",
      " 7   views                   40724 non-null  int64  \n",
      " 8   likes                   40724 non-null  int64  \n",
      " 9   dislikes                40724 non-null  int64  \n",
      " 10  comment_count           40724 non-null  int64  \n",
      " 11  thumbnail_link          40724 non-null  object \n",
      " 12  comments_disabled       40724 non-null  bool   \n",
      " 13  ratings_disabled        40724 non-null  bool   \n",
      " 14  video_error_or_removed  40724 non-null  bool   \n",
      " 15  description             37812 non-null  object \n",
      " 16  state                   40724 non-null  object \n",
      " 17  lat                     40724 non-null  float64\n",
      " 18  lon                     40724 non-null  float64\n",
      " 19  geometry                40724 non-null  object \n",
      "dtypes: bool(3), float64(2), int64(5), object(10)\n",
      "memory usage: 5.4+ MB\n"
     ]
    }
   ],
   "source": [
    "#Analizando los tipos de datos\n",
    "FR_df.info()"
   ]
  },
  {
   "cell_type": "code",
   "execution_count": 37,
   "metadata": {},
   "outputs": [
    {
     "data": {
      "text/plain": [
       "0"
      ]
     },
     "execution_count": 37,
     "metadata": {},
     "output_type": "execute_result"
    }
   ],
   "source": [
    "#Obtener la cantidad de filas duplicadas del dataframe\n",
    "FR_df[FR_df.duplicated()].shape[0]"
   ]
  },
  {
   "cell_type": "code",
   "execution_count": 38,
   "metadata": {},
   "outputs": [
    {
     "data": {
      "text/plain": [
       "comments_disabled\n",
       "False    39835\n",
       "True       889\n",
       "Name: count, dtype: int64"
      ]
     },
     "execution_count": 38,
     "metadata": {},
     "output_type": "execute_result"
    }
   ],
   "source": [
    "#Verificamos si los comentarios estan desabilitados para ciertos videos\n",
    "FR_df.comments_disabled.value_counts()"
   ]
  },
  {
   "cell_type": "code",
   "execution_count": 39,
   "metadata": {},
   "outputs": [
    {
     "data": {
      "text/plain": [
       "ratings_disabled\n",
       "False    40020\n",
       "True       704\n",
       "Name: count, dtype: int64"
      ]
     },
     "execution_count": 39,
     "metadata": {},
     "output_type": "execute_result"
    }
   ],
   "source": [
    "#Verificamos si los likes estan  desabilitados para ciertos videos\n",
    "FR_df.ratings_disabled.value_counts()"
   ]
  },
  {
   "cell_type": "code",
   "execution_count": 40,
   "metadata": {},
   "outputs": [
    {
     "data": {
      "text/plain": [
       "video_error_or_removed\n",
       "False    40702\n",
       "True        22\n",
       "Name: count, dtype: int64"
      ]
     },
     "execution_count": 40,
     "metadata": {},
     "output_type": "execute_result"
    }
   ],
   "source": [
    "#Veremos si los videos tuvieron un error o han sido removidos \n",
    "FR_df.video_error_or_removed.value_counts()"
   ]
  },
  {
   "cell_type": "markdown",
   "metadata": {},
   "source": [
    "Problemas Reportados \n",
    "\n",
    "\n",
    "-El tipo de data de category_id debe ser objeto y no entero.\n",
    "\n",
    "-La tipo de dato de trending_date y publish_time deben ser datetime en ves de object.\n",
    "\n",
    "-Hay datos atipicos, sin embargo los que pueden afectar nuestros resultados son  views, likes, \n",
    "dislikes, comment_count, por lo que hay que aplicarles una tranformacion.\n",
    "\n",
    "-Hay columnas Inecesarias 'thumbnail_link','tags', 'description'\n",
    "\n",
    "Consideraciones \n",
    "\n",
    "-La unica columna con valores NA es description\n",
    "\n",
    "-No hay columnas duplicadas.\n",
    "\n",
    "-Hay videoos removidos, likes desabilitados y comentarios desabilitados, los cuales hay que tomar en consideracion al momento de realizar el analisis.\n",
    "\n",
    "-No hay datos vacios\n",
    "\n"
   ]
  },
  {
   "cell_type": "markdown",
   "metadata": {},
   "source": [
    "DATA CLEANING\n"
   ]
  },
  {
   "cell_type": "markdown",
   "metadata": {},
   "source": [
    "Creando el nuevo Dataset y eliminando las columnas innecesarias"
   ]
  },
  {
   "cell_type": "code",
   "execution_count": 23,
   "metadata": {},
   "outputs": [],
   "source": [
    "#Crear el dataset de francia para realizar la limpieza\n",
    "copy_FR=FR_df.copy()"
   ]
  },
  {
   "cell_type": "code",
   "execution_count": 24,
   "metadata": {},
   "outputs": [],
   "source": [
    "#Eliminar columnas innecesarias\n",
    "copy_FR.drop(['thumbnail_link','tags','tags','description'],axis=1,inplace=True)\n"
   ]
  },
  {
   "cell_type": "code",
   "execution_count": 25,
   "metadata": {},
   "outputs": [],
   "source": [
    "#Haciendo una prueba para ver si las columnas fueron eliminadas satisfactoriamente\n",
    "for i in ['thumbnail_link','tags', 'description']:\n",
    "    if i in copy_FR.columns:\n",
    "        print(\"wrong\")\n",
    "  "
   ]
  },
  {
   "cell_type": "markdown",
   "metadata": {},
   "source": [
    "Cambiar category id de int a object para que sea un categorico nominal y se nos facilite trabajar con futuras bibliotecas."
   ]
  },
  {
   "cell_type": "code",
   "execution_count": 54,
   "metadata": {},
   "outputs": [],
   "source": [
    "copy_FR['category_id'] = copy_FR['category_id'].astype(str)\n"
   ]
  },
  {
   "cell_type": "code",
   "execution_count": 57,
   "metadata": {},
   "outputs": [
    {
     "name": "stdout",
     "output_type": "stream",
     "text": [
      "<class 'pandas.core.frame.DataFrame'>\n",
      "RangeIndex: 40724 entries, 0 to 40723\n",
      "Data columns (total 20 columns):\n",
      " #   Column                  Non-Null Count  Dtype         \n",
      "---  ------                  --------------  -----         \n",
      " 0   video_id                40724 non-null  object        \n",
      " 1   trending_date           40724 non-null  datetime64[ns]\n",
      " 2   title                   40724 non-null  object        \n",
      " 3   channel_title           40724 non-null  object        \n",
      " 4   category_id             40724 non-null  object        \n",
      " 5   publish_time            40724 non-null  datetime64[ns]\n",
      " 6   views                   40724 non-null  float64       \n",
      " 7   likes                   40724 non-null  float64       \n",
      " 8   dislikes                40724 non-null  float64       \n",
      " 9   comment_count           40724 non-null  float64       \n",
      " 10  comments_disabled       40724 non-null  bool          \n",
      " 11  ratings_disabled        40724 non-null  bool          \n",
      " 12  video_error_or_removed  40724 non-null  bool          \n",
      " 13  state                   40724 non-null  object        \n",
      " 14  lat                     40724 non-null  float64       \n",
      " 15  lon                     40724 non-null  float64       \n",
      " 16  geometry                40724 non-null  object        \n",
      " 17  year                    40724 non-null  int32         \n",
      " 18  month                   40724 non-null  int32         \n",
      " 19  day                     40724 non-null  int32         \n",
      "dtypes: bool(3), datetime64[ns](2), float64(6), int32(3), object(6)\n",
      "memory usage: 4.9+ MB\n"
     ]
    }
   ],
   "source": [
    "#Verificamos si el cambio se realizo de manera correcta \n",
    "copy_FR.info()"
   ]
  },
  {
   "cell_type": "markdown",
   "metadata": {},
   "source": [
    "Cambiando los tipos de datos de trending date y publish time al formato de Datetime\n"
   ]
  },
  {
   "cell_type": "code",
   "execution_count": 27,
   "metadata": {},
   "outputs": [],
   "source": [
    "copy_FR['trending_date'] = pd.to_datetime(copy_FR['trending_date'], format='%y.%d.%m', errors='coerce')\n"
   ]
  },
  {
   "cell_type": "code",
   "execution_count": 28,
   "metadata": {},
   "outputs": [],
   "source": [
    "copy_FR['year'] = copy_FR['trending_date'].dt.year\n",
    "copy_FR['month'] = copy_FR['trending_date'].dt.month\n",
    "copy_FR['day'] = copy_FR['trending_date'].dt.day\n"
   ]
  },
  {
   "cell_type": "code",
   "execution_count": 41,
   "metadata": {},
   "outputs": [],
   "source": [
    "#Convertir la columna 'trending_date' date a datetime\n",
    "copy_FR['trending_date'] = pd.to_datetime(copy_FR[['year', 'month', 'day']], errors='coerce')\n"
   ]
  },
  {
   "cell_type": "code",
   "execution_count": 29,
   "metadata": {},
   "outputs": [],
   "source": [
    "# Convierte la columna 'publish_time' al formato de datetime\n",
    "copy_FR['publish_time'] = pd.to_datetime(copy_FR['publish_time'], format='%Y-%m-%dT%H:%M:%S.%fZ', errors='coerce')\n",
    "\n"
   ]
  },
  {
   "cell_type": "code",
   "execution_count": 42,
   "metadata": {},
   "outputs": [
    {
     "data": {
      "text/plain": [
       "40463   2018-06-13\n",
       "12234   2018-01-16\n",
       "24139   2018-03-17\n",
       "34331   2018-05-13\n",
       "16371   2018-02-05\n",
       "40499   2018-06-13\n",
       "13418   2018-01-22\n",
       "16469   2018-02-06\n",
       "32979   2018-05-06\n",
       "10100   2018-01-03\n",
       "Name: trending_date, dtype: datetime64[ns]"
      ]
     },
     "execution_count": 42,
     "metadata": {},
     "output_type": "execute_result"
    }
   ],
   "source": [
    "#Verificamos el resultado de 'trending_date'\n",
    "copy_FR.trending_date.sample(10)"
   ]
  },
  {
   "cell_type": "code",
   "execution_count": 43,
   "metadata": {},
   "outputs": [
    {
     "data": {
      "text/plain": [
       "19936   2018-02-22 18:14:20\n",
       "36579   2018-05-24 15:00:03\n",
       "17670   2018-02-11 19:01:48\n",
       "5901    2017-12-11 08:59:59\n",
       "21661   2018-03-03 21:06:55\n",
       "4620    2017-12-06 15:12:21\n",
       "38112   2018-05-30 19:25:12\n",
       "823     2017-11-17 16:58:01\n",
       "14403   2018-01-26 16:00:03\n",
       "19694   2018-02-21 07:16:52\n",
       "Name: publish_time, dtype: datetime64[ns]"
      ]
     },
     "execution_count": 43,
     "metadata": {},
     "output_type": "execute_result"
    }
   ],
   "source": [
    "#verificamos el resultado de 'publish_time'\n",
    "copy_FR.publish_time.sample(10)"
   ]
  },
  {
   "cell_type": "markdown",
   "metadata": {},
   "source": [
    "Aplicando tranformacion logaritmica para evitar sesgos en las columnas de views, likes , dislikes y comment count."
   ]
  },
  {
   "cell_type": "code",
   "execution_count": 51,
   "metadata": {},
   "outputs": [
    {
     "data": {
      "image/png": "[encoded data removed]",
      "text/plain": [
       "<Figure size 1200x800 with 4 Axes>"
      ]
     },
     "metadata": {},
     "output_type": "display_data"
    }
   ],
   "source": [
    "# Lista de columnas para aplicar la transformación logarítmica\n",
    "columns_to_transform = ['views', 'likes', 'dislikes', 'comment_count']\n",
    "\n",
    "# Aplicar logaritmo a las columnas seleccionadas\n",
    "copy_FR[columns_to_transform] = np.log1p(copy_FR[columns_to_transform])\n",
    "\n",
    "# Crea subgráficos para cada columna transformada\n",
    "plt.figure(figsize=(12, 8))\n",
    "for i, column in enumerate(columns_to_transform, 1):\n",
    "    plt.subplot(2, 2, i)\n",
    "    sns.boxplot(x=np.log1p(copy_FR[column]))  # Aplica la transformación logarítmica aquí\n",
    "    plt.title(f'Boxplot de {column} (Transformado)')\n",
    "\n",
    "plt.tight_layout()\n",
    "plt.show()"
   ]
  },
  {
   "cell_type": "code",
   "execution_count": 53,
   "metadata": {},
   "outputs": [
    {
     "name": "stdout",
     "output_type": "stream",
     "text": [
      "          views     likes  dislikes  comment_count\n",
      "27830  1.232557  1.128211  0.829305       0.905894\n",
      "8412   1.217212  0.953860  0.963729       0.798928\n",
      "15167  1.229047  1.134854  0.771165       0.945681\n"
     ]
    }
   ],
   "source": [
    "#Hacemos una prueba para visualizar si se ha realizado de manera correcta.\n",
    "columnas_interesantes = ['views', 'likes', 'dislikes', 'comment_count']\n",
    "\n",
    "# Utiliza el método sample para obtener una muestra aleatoria\n",
    "muestra_aleatoria = copy_FR[columnas_interesantes].sample(3)\n",
    "\n",
    "# Imprime la muestra\n",
    "print(muestra_aleatoria)\n",
    "\n",
    "\n"
   ]
  },
  {
   "cell_type": "markdown",
   "metadata": {},
   "source": [
    "Paso Final: Guardar la Data"
   ]
  },
  {
   "cell_type": "code",
   "execution_count": 58,
   "metadata": {},
   "outputs": [],
   "source": [
    "#Guardar el archivo\n",
    "copy_FR.reset_index(drop=True)\n",
    "copy_FR.to_csv('clean_FR.csv')"
   ]
  },
  {
   "cell_type": "code",
   "execution_count": 59,
   "metadata": {},
   "outputs": [],
   "source": [
    "#Cargar data\n",
    "clean_FR=pd.read_csv('clean_FR.csv')\n",
    "clean_FR.drop('Unnamed: 0', axis=1, inplace=True)\n",
    "clean_FR.publish_time=clean_FR.publish_time.astype('datetime64[ns]') \n",
    "clean_FR.trending_date=clean_FR.trending_date.astype('datetime64[ns]') "
   ]
  },
  {
   "cell_type": "code",
   "execution_count": 60,
   "metadata": {},
   "outputs": [
    {
     "name": "stdout",
     "output_type": "stream",
     "text": [
      "<class 'pandas.core.frame.DataFrame'>\n",
      "RangeIndex: 40724 entries, 0 to 40723\n",
      "Data columns (total 20 columns):\n",
      " #   Column                  Non-Null Count  Dtype         \n",
      "---  ------                  --------------  -----         \n",
      " 0   video_id                40724 non-null  object        \n",
      " 1   trending_date           40724 non-null  datetime64[ns]\n",
      " 2   title                   40724 non-null  object        \n",
      " 3   channel_title           40724 non-null  object        \n",
      " 4   category_id             40724 non-null  int64         \n",
      " 5   publish_time            40724 non-null  datetime64[ns]\n",
      " 6   views                   40724 non-null  float64       \n",
      " 7   likes                   40724 non-null  float64       \n",
      " 8   dislikes                40724 non-null  float64       \n",
      " 9   comment_count           40724 non-null  float64       \n",
      " 10  comments_disabled       40724 non-null  bool          \n",
      " 11  ratings_disabled        40724 non-null  bool          \n",
      " 12  video_error_or_removed  40724 non-null  bool          \n",
      " 13  state                   40724 non-null  object        \n",
      " 14  lat                     40724 non-null  float64       \n",
      " 15  lon                     40724 non-null  float64       \n",
      " 16  geometry                40724 non-null  object        \n",
      " 17  year                    40724 non-null  int64         \n",
      " 18  month                   40724 non-null  int64         \n",
      " 19  day                     40724 non-null  int64         \n",
      "dtypes: bool(3), datetime64[ns](2), float64(6), int64(4), object(5)\n",
      "memory usage: 5.4+ MB\n"
     ]
    }
   ],
   "source": [
    "clean_FR.info()"
   ]
  }
 ],
 "metadata": {
  "kernelspec": {
   "display_name": "Python 3",
   "language": "python",
   "name": "python3"
  },
  "language_info": {
   "codemirror_mode": {
    "name": "ipython",
    "version": 3
   },
   "file_extension": ".py",
   "mimetype": "text/x-python",
   "name": "python",
   "nbconvert_exporter": "python",
   "pygments_lexer": "ipython3",
   "version": "3.12.0"
  },
  "orig_nbformat": 4
 },
 "nbformat": 4,
 "nbformat_minor": 2
}
