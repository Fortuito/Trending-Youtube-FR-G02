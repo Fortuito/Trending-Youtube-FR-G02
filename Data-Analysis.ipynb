{
 "cells": [
  {
   "cell_type": "code",
   "execution_count": 1,
   "metadata": {},
   "outputs": [],
   "source": [
    "import numpy as np\n",
    "import pandas as pd\n",
    "import statsmodels.api as sm\n",
    "import matplotlib.pyplot as plt\n",
    "import seaborn as sns\n",
    "%matplotlib inline\n"
   ]
  },
  {
   "cell_type": "code",
   "execution_count": 2,
   "metadata": {},
   "outputs": [],
   "source": [
    "#Importar data\n",
    "FR_df=pd.read_csv(\"FRvideos_cc50_202101.csv\")"
   ]
  },
  {
   "cell_type": "code",
   "execution_count": 3,
   "metadata": {},
   "outputs": [],
   "source": [
    "#Importar el json y extraer la data que nos interesa\n",
    "import json\n",
    "FR_category={}\n",
    "with open(\"FR_category_id.json\") as f:\n",
    "    FR_data=json.load(f)\n",
    "for i in list(pd.DataFrame(FR_data['items']).id.values):\n",
    "    FR_category[i]=pd.DataFrame(FR_data['items'])[pd.DataFrame(FR_data['items']).id==i].snippet.values[0]['title']"
   ]
  },
  {
   "cell_type": "code",
   "execution_count": 4,
   "metadata": {},
   "outputs": [],
   "source": [
    "#vemos la informacion de toda la informacion de las columnas\n",
    "pd.set_option('display.max_columns', None)\n",
    "pd.set_option('display.max_rows', None)\n",
    "pd.set_option('display.max_colwidth', None)"
   ]
  },
  {
   "cell_type": "code",
   "execution_count": 5,
   "metadata": {},
   "outputs": [
    {
     "data": {
      "text/html": [
       "<div>\n",
       "<style scoped>\n",
       "    .dataframe tbody tr th:only-of-type {\n",
       "        vertical-align: middle;\n",
       "    }\n",
       "\n",
       "    .dataframe tbody tr th {\n",
       "        vertical-align: top;\n",
       "    }\n",
       "\n",
       "    .dataframe thead th {\n",
       "        text-align: right;\n",
       "    }\n",
       "</style>\n",
       "<table border=\"1\" class=\"dataframe\">\n",
       "  <thead>\n",
       "    <tr style=\"text-align: right;\">\n",
       "      <th></th>\n",
       "      <th>video_id</th>\n",
       "      <th>trending_date</th>\n",
       "      <th>title</th>\n",
       "      <th>channel_title</th>\n",
       "      <th>category_id</th>\n",
       "      <th>publish_time</th>\n",
       "      <th>tags</th>\n",
       "      <th>views</th>\n",
       "      <th>likes</th>\n",
       "      <th>dislikes</th>\n",
       "      <th>comment_count</th>\n",
       "      <th>thumbnail_link</th>\n",
       "      <th>comments_disabled</th>\n",
       "      <th>ratings_disabled</th>\n",
       "      <th>video_error_or_removed</th>\n",
       "      <th>description</th>\n",
       "      <th>state</th>\n",
       "      <th>lat</th>\n",
       "      <th>lon</th>\n",
       "      <th>geometry</th>\n",
       "    </tr>\n",
       "  </thead>\n",
       "  <tbody>\n",
       "    <tr>\n",
       "      <th>5375</th>\n",
       "      <td>GO4jzw-0Eu0</td>\n",
       "      <td>17.10.12</td>\n",
       "      <td>RONALDO VS MESSI - QUI EST LE MEILLEUR ?!</td>\n",
       "      <td>Footstyle TV</td>\n",
       "      <td>17</td>\n",
       "      <td>2017-12-08T14:30:00.000Z</td>\n",
       "      <td>ronaldo\"|\"vs\"|\"messi\"|\"footstyle tv\"|\"meilleur\"|\"joueur\"|\"ronaldo vs messi\"|\"freestyle\"|\"neymar\"|\"ballon d'or</td>\n",
       "      <td>72216</td>\n",
       "      <td>4124</td>\n",
       "      <td>50</td>\n",
       "      <td>4519</td>\n",
       "      <td>https://i.ytimg.com/vi/GO4jzw-0Eu0/default.jpg</td>\n",
       "      <td>False</td>\n",
       "      <td>False</td>\n",
       "      <td>False</td>\n",
       "      <td>Cristiano Ronaldo vient d'obtenir son 5ème ballon d'or, mais on ne sait toujours pas qui est le meilleur entre Messi et Ronaldo ? Qu'en pensez-vous ?\\n\\nRetrouve toutes nos sappes sur le Shop : http://footstyle-shop.com/\\n\\nNos sources pour écrire cette vidéo : \\n\\nhttp://www.goal.com/fr/news/6159/statistiques/2016/11/08/29305702/messi-et-ronaldo-qui-est-le-plus-fort-goal-fait-le-bilan\\n\\nhttp://www.goal.com/fr/news/messi-vs-ronaldo-qui-est-le-plus-decisif-tous-les-ans/10e85ingbtrsv1cwgpv7n3t9sy\\n\\nhttps://www.buzzarena.com/meilleur-buteur-cristiano-ronaldo-contre-messi-21990\\n\\nTwitter : http://www.twitter/FootstyleTV\\nSnapchat : footstyle\\nFacebook : http://www.facebook.com/footstyletv\\nInstagram : http://instagram.com/footstyletv</td>\n",
       "      <td>Guinaa</td>\n",
       "      <td>4.729981</td>\n",
       "      <td>-52.330021</td>\n",
       "      <td>POINT (-52.33002059 4.729981302)</td>\n",
       "    </tr>\n",
       "    <tr>\n",
       "      <th>5144</th>\n",
       "      <td>lElPjiVSYqg</td>\n",
       "      <td>17.09.12</td>\n",
       "      <td>IL NE FAUT ABSOLUMENT PAS PERDRE!! 😂 #FBD EPISODE 1</td>\n",
       "      <td>S3 Freestyle</td>\n",
       "      <td>17</td>\n",
       "      <td>2017-12-07T16:00:09.000Z</td>\n",
       "      <td>S3\"|\"S3society\"|\"S3freestyle\"|\"Freestylefootball\"|\"Freestyle\"|\"Football\"|\"Streetsoccer\"|\"Street\"|\"Soccer\"|\"Ball\"|\"Skills\"|\"Skillz\"|\"Crazy\"|\"Amazing\"|\"Dope\"|\"Bestfootball\"|\"Internet\"|\"Cristiano\"|\"CR7\"|\"Messi\"|\"Ronaldo\"|\"Cristianoronaldo\"|\"Trafalgar\"|\"Lisazimouche\"|\"Andreascetkovic\"|\"Mosswassim\"|\"Wassfreestyle\"|\"S3school\"|\"Tutoriel\"|\"Tuto\"|\"Tutorial\"|\"Fifa\"|\"Barcelone\"|\"Realmadrid\"|\"Chelsea\"|\"Bayern\"|\"Panna\"|\"Petitpont\"|\"Tunnel\"|\"Akka\"|\"Tourdumonde\"|\"ATW\"|\"Lower\"|\"Upper\"|\"Sitdown\"|\"Blocage\"|\"Groundmoves\"|\"Soufianebencok\"|\"Melodydonchet\"|\"Adidas</td>\n",
       "      <td>69334</td>\n",
       "      <td>5741</td>\n",
       "      <td>24</td>\n",
       "      <td>154</td>\n",
       "      <td>https://i.ytimg.com/vi/lElPjiVSYqg/default.jpg</td>\n",
       "      <td>False</td>\n",
       "      <td>False</td>\n",
       "      <td>False</td>\n",
       "      <td>Nouveau jour nouvelle video nouvelle série!!\\nCelui qui perd devra danser 😂\\n\\nFACEBOOK: https://www.facebook.com/S3freestylers/?fref=ts\\nINSTAGRAM: https://www.instagram.com/s3society_official/\\nTWITTER: https://twitter.com/s3society\\nNOS BALLONS: http://www.urbanball.com\\nSite web: http://www.streetstylesociety.com</td>\n",
       "      <td>Amapa</td>\n",
       "      <td>3.910471</td>\n",
       "      <td>-51.810001</td>\n",
       "      <td>POINT (-51.81000065 3.9104706)</td>\n",
       "    </tr>\n",
       "    <tr>\n",
       "      <th>7456</th>\n",
       "      <td>xuHTgzchlYg</td>\n",
       "      <td>17.21.12</td>\n",
       "      <td>Je prends ma RS6 !! Ma voiture préférée 😈</td>\n",
       "      <td>GMK</td>\n",
       "      <td>2</td>\n",
       "      <td>2017-12-20T16:02:18.000Z</td>\n",
       "      <td>GMK001\"|\"GMK\"|\"Maroun\"|\"Kikano\"|\"C63\"|\"AMG\"|\"camouflage\"|\"Camo\"|\"RS6\"|\"M3\"|\"Sound\"|\"Top\"|\"speed\"|\"Audi\"|\"Bentley\"|\"Mercedes\"|\"C63 AMG</td>\n",
       "      <td>115345</td>\n",
       "      <td>8547</td>\n",
       "      <td>86</td>\n",
       "      <td>1520</td>\n",
       "      <td>https://i.ytimg.com/vi/xuHTgzchlYg/default.jpg</td>\n",
       "      <td>False</td>\n",
       "      <td>False</td>\n",
       "      <td>False</td>\n",
       "      <td>http://www.instagram.com/gmk001</td>\n",
       "      <td>Pays De La Loire</td>\n",
       "      <td>47.480008</td>\n",
       "      <td>-0.530030</td>\n",
       "      <td>POINT (-0.530029949 47.48000755)</td>\n",
       "    </tr>\n",
       "  </tbody>\n",
       "</table>\n",
       "</div>"
      ],
      "text/plain": [
       "         video_id trending_date  \\\n",
       "5375  GO4jzw-0Eu0      17.10.12   \n",
       "5144  lElPjiVSYqg      17.09.12   \n",
       "7456  xuHTgzchlYg      17.21.12   \n",
       "\n",
       "                                                    title channel_title  \\\n",
       "5375            RONALDO VS MESSI - QUI EST LE MEILLEUR ?!  Footstyle TV   \n",
       "5144  IL NE FAUT ABSOLUMENT PAS PERDRE!! 😂 #FBD EPISODE 1  S3 Freestyle   \n",
       "7456            Je prends ma RS6 !! Ma voiture préférée 😈           GMK   \n",
       "\n",
       "      category_id              publish_time  \\\n",
       "5375           17  2017-12-08T14:30:00.000Z   \n",
       "5144           17  2017-12-07T16:00:09.000Z   \n",
       "7456            2  2017-12-20T16:02:18.000Z   \n",
       "\n",
       "                                                                                                                                                                                                                                                                                                                                                                                                                                                                                                                                                                      tags  \\\n",
       "5375                                                                                                                                                                                                                                                                                                                                                                                                                                                         ronaldo\"|\"vs\"|\"messi\"|\"footstyle tv\"|\"meilleur\"|\"joueur\"|\"ronaldo vs messi\"|\"freestyle\"|\"neymar\"|\"ballon d'or   \n",
       "5144  S3\"|\"S3society\"|\"S3freestyle\"|\"Freestylefootball\"|\"Freestyle\"|\"Football\"|\"Streetsoccer\"|\"Street\"|\"Soccer\"|\"Ball\"|\"Skills\"|\"Skillz\"|\"Crazy\"|\"Amazing\"|\"Dope\"|\"Bestfootball\"|\"Internet\"|\"Cristiano\"|\"CR7\"|\"Messi\"|\"Ronaldo\"|\"Cristianoronaldo\"|\"Trafalgar\"|\"Lisazimouche\"|\"Andreascetkovic\"|\"Mosswassim\"|\"Wassfreestyle\"|\"S3school\"|\"Tutoriel\"|\"Tuto\"|\"Tutorial\"|\"Fifa\"|\"Barcelone\"|\"Realmadrid\"|\"Chelsea\"|\"Bayern\"|\"Panna\"|\"Petitpont\"|\"Tunnel\"|\"Akka\"|\"Tourdumonde\"|\"ATW\"|\"Lower\"|\"Upper\"|\"Sitdown\"|\"Blocage\"|\"Groundmoves\"|\"Soufianebencok\"|\"Melodydonchet\"|\"Adidas   \n",
       "7456                                                                                                                                                                                                                                                                                                                                                                                                                                 GMK001\"|\"GMK\"|\"Maroun\"|\"Kikano\"|\"C63\"|\"AMG\"|\"camouflage\"|\"Camo\"|\"RS6\"|\"M3\"|\"Sound\"|\"Top\"|\"speed\"|\"Audi\"|\"Bentley\"|\"Mercedes\"|\"C63 AMG   \n",
       "\n",
       "       views  likes  dislikes  comment_count  \\\n",
       "5375   72216   4124        50           4519   \n",
       "5144   69334   5741        24            154   \n",
       "7456  115345   8547        86           1520   \n",
       "\n",
       "                                      thumbnail_link  comments_disabled  \\\n",
       "5375  https://i.ytimg.com/vi/GO4jzw-0Eu0/default.jpg              False   \n",
       "5144  https://i.ytimg.com/vi/lElPjiVSYqg/default.jpg              False   \n",
       "7456  https://i.ytimg.com/vi/xuHTgzchlYg/default.jpg              False   \n",
       "\n",
       "      ratings_disabled  video_error_or_removed  \\\n",
       "5375             False                   False   \n",
       "5144             False                   False   \n",
       "7456             False                   False   \n",
       "\n",
       "                                                                                                                                                                                                                                                                                                                                                                                                                                                                                                                                                                                                                                                                                                                                                                 description  \\\n",
       "5375  Cristiano Ronaldo vient d'obtenir son 5ème ballon d'or, mais on ne sait toujours pas qui est le meilleur entre Messi et Ronaldo ? Qu'en pensez-vous ?\\n\\nRetrouve toutes nos sappes sur le Shop : http://footstyle-shop.com/\\n\\nNos sources pour écrire cette vidéo : \\n\\nhttp://www.goal.com/fr/news/6159/statistiques/2016/11/08/29305702/messi-et-ronaldo-qui-est-le-plus-fort-goal-fait-le-bilan\\n\\nhttp://www.goal.com/fr/news/messi-vs-ronaldo-qui-est-le-plus-decisif-tous-les-ans/10e85ingbtrsv1cwgpv7n3t9sy\\n\\nhttps://www.buzzarena.com/meilleur-buteur-cristiano-ronaldo-contre-messi-21990\\n\\nTwitter : http://www.twitter/FootstyleTV\\nSnapchat : footstyle\\nFacebook : http://www.facebook.com/footstyletv\\nInstagram : http://instagram.com/footstyletv   \n",
       "5144                                                                                                                                                                                                                                                                                                                                                                                                                                          Nouveau jour nouvelle video nouvelle série!!\\nCelui qui perd devra danser 😂\\n\\nFACEBOOK: https://www.facebook.com/S3freestylers/?fref=ts\\nINSTAGRAM: https://www.instagram.com/s3society_official/\\nTWITTER: https://twitter.com/s3society\\nNOS BALLONS: http://www.urbanball.com\\nSite web: http://www.streetstylesociety.com   \n",
       "7456                                                                                                                                                                                                                                                                                                                                                                                                                                                                                                                                                                                                                                                                                                                                         http://www.instagram.com/gmk001   \n",
       "\n",
       "                 state        lat        lon                          geometry  \n",
       "5375            Guinaa   4.729981 -52.330021  POINT (-52.33002059 4.729981302)  \n",
       "5144             Amapa   3.910471 -51.810001    POINT (-51.81000065 3.9104706)  \n",
       "7456  Pays De La Loire  47.480008  -0.530030  POINT (-0.530029949 47.48000755)  "
      ]
     },
     "execution_count": 5,
     "metadata": {},
     "output_type": "execute_result"
    }
   ],
   "source": [
    "FR_df.sample(3)"
   ]
  },
  {
   "cell_type": "code",
   "execution_count": 6,
   "metadata": {},
   "outputs": [
    {
     "data": {
      "text/plain": [
       "video_id                     0\n",
       "trending_date                0\n",
       "title                        0\n",
       "channel_title                0\n",
       "category_id                  0\n",
       "publish_time                 0\n",
       "tags                         0\n",
       "views                        0\n",
       "likes                        0\n",
       "dislikes                     0\n",
       "comment_count                0\n",
       "thumbnail_link               0\n",
       "comments_disabled            0\n",
       "ratings_disabled             0\n",
       "video_error_or_removed       0\n",
       "description               2912\n",
       "state                        0\n",
       "lat                          0\n",
       "lon                          0\n",
       "geometry                     0\n",
       "dtype: int64"
      ]
     },
     "execution_count": 6,
     "metadata": {},
     "output_type": "execute_result"
    }
   ],
   "source": [
    "#valores nulos en cada columna\n",
    "FR_df.isnull().sum()"
   ]
  },
  {
   "cell_type": "code",
   "execution_count": 7,
   "metadata": {},
   "outputs": [
    {
     "data": {
      "text/html": [
       "<div>\n",
       "<style scoped>\n",
       "    .dataframe tbody tr th:only-of-type {\n",
       "        vertical-align: middle;\n",
       "    }\n",
       "\n",
       "    .dataframe tbody tr th {\n",
       "        vertical-align: top;\n",
       "    }\n",
       "\n",
       "    .dataframe thead th {\n",
       "        text-align: right;\n",
       "    }\n",
       "</style>\n",
       "<table border=\"1\" class=\"dataframe\">\n",
       "  <thead>\n",
       "    <tr style=\"text-align: right;\">\n",
       "      <th></th>\n",
       "      <th>category_id</th>\n",
       "      <th>views</th>\n",
       "      <th>likes</th>\n",
       "      <th>dislikes</th>\n",
       "      <th>comment_count</th>\n",
       "      <th>lat</th>\n",
       "      <th>lon</th>\n",
       "    </tr>\n",
       "  </thead>\n",
       "  <tbody>\n",
       "    <tr>\n",
       "      <th>count</th>\n",
       "      <td>40724.000000</td>\n",
       "      <td>4.072400e+04</td>\n",
       "      <td>4.072400e+04</td>\n",
       "      <td>4.072400e+04</td>\n",
       "      <td>4.072400e+04</td>\n",
       "      <td>40724.000000</td>\n",
       "      <td>40724.000000</td>\n",
       "    </tr>\n",
       "    <tr>\n",
       "      <th>mean</th>\n",
       "      <td>20.123809</td>\n",
       "      <td>4.199219e+05</td>\n",
       "      <td>1.738886e+04</td>\n",
       "      <td>8.149624e+02</td>\n",
       "      <td>1.832453e+03</td>\n",
       "      <td>36.986535</td>\n",
       "      <td>-2.314779</td>\n",
       "    </tr>\n",
       "    <tr>\n",
       "      <th>std</th>\n",
       "      <td>6.984422</td>\n",
       "      <td>1.772130e+06</td>\n",
       "      <td>8.720509e+04</td>\n",
       "      <td>1.139219e+04</td>\n",
       "      <td>1.404321e+04</td>\n",
       "      <td>19.889834</td>\n",
       "      <td>25.443453</td>\n",
       "    </tr>\n",
       "    <tr>\n",
       "      <th>min</th>\n",
       "      <td>1.000000</td>\n",
       "      <td>2.230000e+02</td>\n",
       "      <td>0.000000e+00</td>\n",
       "      <td>0.000000e+00</td>\n",
       "      <td>0.000000e+00</td>\n",
       "      <td>-21.033511</td>\n",
       "      <td>-61.532999</td>\n",
       "    </tr>\n",
       "    <tr>\n",
       "      <th>25%</th>\n",
       "      <td>17.000000</td>\n",
       "      <td>1.697450e+04</td>\n",
       "      <td>3.380000e+02</td>\n",
       "      <td>1.800000e+01</td>\n",
       "      <td>5.600000e+01</td>\n",
       "      <td>42.699989</td>\n",
       "      <td>-0.530030</td>\n",
       "    </tr>\n",
       "    <tr>\n",
       "      <th>50%</th>\n",
       "      <td>23.000000</td>\n",
       "      <td>7.372100e+04</td>\n",
       "      <td>1.892500e+03</td>\n",
       "      <td>8.300000e+01</td>\n",
       "      <td>2.350000e+02</td>\n",
       "      <td>45.899975</td>\n",
       "      <td>2.666648</td>\n",
       "    </tr>\n",
       "    <tr>\n",
       "      <th>75%</th>\n",
       "      <td>24.000000</td>\n",
       "      <td>2.708088e+05</td>\n",
       "      <td>7.969500e+03</td>\n",
       "      <td>3.350000e+02</td>\n",
       "      <td>8.410000e+02</td>\n",
       "      <td>48.516663</td>\n",
       "      <td>6.030009</td>\n",
       "    </tr>\n",
       "    <tr>\n",
       "      <th>max</th>\n",
       "      <td>44.000000</td>\n",
       "      <td>1.009116e+08</td>\n",
       "      <td>4.750254e+06</td>\n",
       "      <td>1.353661e+06</td>\n",
       "      <td>1.040912e+06</td>\n",
       "      <td>50.283325</td>\n",
       "      <td>55.712816</td>\n",
       "    </tr>\n",
       "  </tbody>\n",
       "</table>\n",
       "</div>"
      ],
      "text/plain": [
       "        category_id         views         likes      dislikes  comment_count  \\\n",
       "count  40724.000000  4.072400e+04  4.072400e+04  4.072400e+04   4.072400e+04   \n",
       "mean      20.123809  4.199219e+05  1.738886e+04  8.149624e+02   1.832453e+03   \n",
       "std        6.984422  1.772130e+06  8.720509e+04  1.139219e+04   1.404321e+04   \n",
       "min        1.000000  2.230000e+02  0.000000e+00  0.000000e+00   0.000000e+00   \n",
       "25%       17.000000  1.697450e+04  3.380000e+02  1.800000e+01   5.600000e+01   \n",
       "50%       23.000000  7.372100e+04  1.892500e+03  8.300000e+01   2.350000e+02   \n",
       "75%       24.000000  2.708088e+05  7.969500e+03  3.350000e+02   8.410000e+02   \n",
       "max       44.000000  1.009116e+08  4.750254e+06  1.353661e+06   1.040912e+06   \n",
       "\n",
       "                lat           lon  \n",
       "count  40724.000000  40724.000000  \n",
       "mean      36.986535     -2.314779  \n",
       "std       19.889834     25.443453  \n",
       "min      -21.033511    -61.532999  \n",
       "25%       42.699989     -0.530030  \n",
       "50%       45.899975      2.666648  \n",
       "75%       48.516663      6.030009  \n",
       "max       50.283325     55.712816  "
      ]
     },
     "execution_count": 7,
     "metadata": {},
     "output_type": "execute_result"
    }
   ],
   "source": [
    "#Analizando  la media, moda,desv estandar, etc.\n",
    "FR_df.describe()"
   ]
  },
  {
   "cell_type": "code",
   "execution_count": 8,
   "metadata": {},
   "outputs": [
    {
     "data": {
      "text/plain": [
       "category_id      2931\n",
       "views            5163\n",
       "likes            5695\n",
       "dislikes         5174\n",
       "comment_count    5078\n",
       "lat              8671\n",
       "lon              8671\n",
       "dtype: int64"
      ]
     },
     "execution_count": 8,
     "metadata": {},
     "output_type": "execute_result"
    }
   ],
   "source": [
    "\n",
    "#analizando valores atipicos\n",
    "columns_to_plot = ['category_id','views', 'likes', 'dislikes', 'comment_count','lat','lon']\n",
    "Q1 = FR_df[columns_to_plot].quantile(0.25)\n",
    "Q3 = FR_df[columns_to_plot].quantile(0.75)\n",
    "IQR = Q3 - Q1\n",
    "\n",
    "outliers = ((FR_df[columns_to_plot] < (Q1 - 1.5 * IQR)) | (FR_df[columns_to_plot] > (Q3 + 1.5 * IQR)))\n",
    "outliers.sum()\n"
   ]
  },
  {
   "cell_type": "code",
   "execution_count": 9,
   "metadata": {},
   "outputs": [
    {
     "name": "stdout",
     "output_type": "stream",
     "text": [
      "category_id      0\n",
      "views            0\n",
      "likes            0\n",
      "dislikes         0\n",
      "comment_count    0\n",
      "lat              0\n",
      "lon              0\n",
      "geometry         0\n",
      "state            0\n",
      "dtype: int64\n"
     ]
    }
   ],
   "source": [
    "# Verificar valores nulos en las columnas de interés\n",
    "null_values = FR_df[[\t'category_id','views','likes', 'dislikes', 'comment_count',\t'lat', 'lon', 'geometry', 'state']].isnull().sum()\n",
    "print(null_values)"
   ]
  },
  {
   "cell_type": "code",
   "execution_count": 10,
   "metadata": {},
   "outputs": [
    {
     "name": "stdout",
     "output_type": "stream",
     "text": [
      "<class 'pandas.core.frame.DataFrame'>\n",
      "RangeIndex: 40724 entries, 0 to 40723\n",
      "Data columns (total 20 columns):\n",
      " #   Column                  Non-Null Count  Dtype  \n",
      "---  ------                  --------------  -----  \n",
      " 0   video_id                40724 non-null  object \n",
      " 1   trending_date           40724 non-null  object \n",
      " 2   title                   40724 non-null  object \n",
      " 3   channel_title           40724 non-null  object \n",
      " 4   category_id             40724 non-null  int64  \n",
      " 5   publish_time            40724 non-null  object \n",
      " 6   tags                    40724 non-null  object \n",
      " 7   views                   40724 non-null  int64  \n",
      " 8   likes                   40724 non-null  int64  \n",
      " 9   dislikes                40724 non-null  int64  \n",
      " 10  comment_count           40724 non-null  int64  \n",
      " 11  thumbnail_link          40724 non-null  object \n",
      " 12  comments_disabled       40724 non-null  bool   \n",
      " 13  ratings_disabled        40724 non-null  bool   \n",
      " 14  video_error_or_removed  40724 non-null  bool   \n",
      " 15  description             37812 non-null  object \n",
      " 16  state                   40724 non-null  object \n",
      " 17  lat                     40724 non-null  float64\n",
      " 18  lon                     40724 non-null  float64\n",
      " 19  geometry                40724 non-null  object \n",
      "dtypes: bool(3), float64(2), int64(5), object(10)\n",
      "memory usage: 5.4+ MB\n"
     ]
    }
   ],
   "source": [
    "#Analizando los tipos de datos\n",
    "FR_df.info()"
   ]
  },
  {
   "cell_type": "code",
   "execution_count": 11,
   "metadata": {},
   "outputs": [
    {
     "data": {
      "text/plain": [
       "0"
      ]
     },
     "execution_count": 11,
     "metadata": {},
     "output_type": "execute_result"
    }
   ],
   "source": [
    "#Obtener la cantidad de filas duplicadas del dataframe\n",
    "FR_df[FR_df.duplicated()].shape[0]"
   ]
  },
  {
   "cell_type": "code",
   "execution_count": 12,
   "metadata": {},
   "outputs": [
    {
     "data": {
      "text/plain": [
       "comments_disabled\n",
       "False    39835\n",
       "True       889\n",
       "Name: count, dtype: int64"
      ]
     },
     "execution_count": 12,
     "metadata": {},
     "output_type": "execute_result"
    }
   ],
   "source": [
    "#Verificamos si los comentarios estan desabilitados para ciertos videos\n",
    "FR_df.comments_disabled.value_counts()"
   ]
  },
  {
   "cell_type": "code",
   "execution_count": 13,
   "metadata": {},
   "outputs": [
    {
     "data": {
      "text/plain": [
       "ratings_disabled\n",
       "False    40020\n",
       "True       704\n",
       "Name: count, dtype: int64"
      ]
     },
     "execution_count": 13,
     "metadata": {},
     "output_type": "execute_result"
    }
   ],
   "source": [
    "#Verificamos si los likes estan  desabilitados para ciertos videos\n",
    "FR_df.ratings_disabled.value_counts()"
   ]
  },
  {
   "cell_type": "code",
   "execution_count": 14,
   "metadata": {},
   "outputs": [
    {
     "data": {
      "text/plain": [
       "video_error_or_removed\n",
       "False    40702\n",
       "True        22\n",
       "Name: count, dtype: int64"
      ]
     },
     "execution_count": 14,
     "metadata": {},
     "output_type": "execute_result"
    }
   ],
   "source": [
    "#Veremos si los videos tuvieron un error o han sido removidos \n",
    "FR_df.video_error_or_removed.value_counts()"
   ]
  },
  {
   "cell_type": "markdown",
   "metadata": {},
   "source": [
    "Problemas Reportados \n",
    "-El tipo de data de category_id debe ser objeto en ves de entero.\n",
    "-La tipo de dato de trending_date y publish_time deben ser datetime en ves de object.\n",
    "-No hay columnas duplicadas.\n",
    "-Hay videoos removidos, likes desabilitados y comentarios desabilitados.\n",
    "-No hay datos vacios\n",
    "-Hay datos atipicos, sin embargo los que pueden afectar nuestros resultados son  views, likes, dislikes, comment_count, por lo que hay que aplicarles una tranformacion.\n",
    "\n",
    "-Hay columnas Inecesarias 'thumbnail_link','tags', 'description'\n",
    "\n"
   ]
  },
  {
   "cell_type": "markdown",
   "metadata": {},
   "source": [
    "DATA CLEANING\n"
   ]
  },
  {
   "cell_type": "code",
   "execution_count": 15,
   "metadata": {},
   "outputs": [],
   "source": [
    "#Crear el dataset de francia para realizar la limpieza\n",
    "copy_FR=FR_df.copy()"
   ]
  },
  {
   "cell_type": "code",
   "execution_count": 16,
   "metadata": {},
   "outputs": [],
   "source": [
    "#Eliminar columnas innecesarias\n",
    "copy_FR.drop(['thumbnail_link','tags','tags','description'],axis=1,inplace=True)\n"
   ]
  },
  {
   "cell_type": "code",
   "execution_count": null,
   "metadata": {},
   "outputs": [],
   "source": [
    "#Haciendo una prueba para ver si han sido eliminadas\n"
   ]
  },
  {
   "cell_type": "code",
   "execution_count": 25,
   "metadata": {},
   "outputs": [
    {
     "data": {
      "image/png": "[encoded data removed]",
      "text/plain": [
       "<Figure size 1200x800 with 4 Axes>"
      ]
     },
     "metadata": {},
     "output_type": "display_data"
    }
   ],
   "source": [
    "# Lista de columnas para aplicar la transformación logarítmica\n",
    "columns_to_transform = ['views', 'likes', 'dislikes', 'comment_count']\n",
    "\n",
    "# Aplicar logaritmo a las columnas seleccionadas\n",
    "copy_FR[columns_to_transform] = np.log1p(copy_FR[columns_to_transform])\n",
    "\n",
    "# Crea subgráficos para cada columna transformada\n",
    "plt.figure(figsize=(12, 8))\n",
    "for i, column in enumerate(columns_to_transform, 1):\n",
    "    plt.subplot(2, 2, i)\n",
    "    sns.boxplot(x=np.log1p(copy_FR[column]))  # Aplica la transformación logarítmica aquí\n",
    "    plt.title(f'Boxplot de {column} (Transformado)')\n",
    "\n",
    "plt.tight_layout()\n",
    "plt.show()"
   ]
  },
  {
   "cell_type": "code",
   "execution_count": 29,
   "metadata": {},
   "outputs": [
    {
     "data": {
      "text/html": [
       "<div>\n",
       "<style scoped>\n",
       "    .dataframe tbody tr th:only-of-type {\n",
       "        vertical-align: middle;\n",
       "    }\n",
       "\n",
       "    .dataframe tbody tr th {\n",
       "        vertical-align: top;\n",
       "    }\n",
       "\n",
       "    .dataframe thead th {\n",
       "        text-align: right;\n",
       "    }\n",
       "</style>\n",
       "<table border=\"1\" class=\"dataframe\">\n",
       "  <thead>\n",
       "    <tr style=\"text-align: right;\">\n",
       "      <th></th>\n",
       "      <th>video_id</th>\n",
       "      <th>trending_date</th>\n",
       "      <th>title</th>\n",
       "      <th>channel_title</th>\n",
       "      <th>category_id</th>\n",
       "      <th>publish_time</th>\n",
       "      <th>tags</th>\n",
       "      <th>views</th>\n",
       "      <th>likes</th>\n",
       "      <th>dislikes</th>\n",
       "      <th>comment_count</th>\n",
       "      <th>thumbnail_link</th>\n",
       "      <th>comments_disabled</th>\n",
       "      <th>ratings_disabled</th>\n",
       "      <th>video_error_or_removed</th>\n",
       "      <th>description</th>\n",
       "      <th>state</th>\n",
       "      <th>lat</th>\n",
       "      <th>lon</th>\n",
       "      <th>geometry</th>\n",
       "    </tr>\n",
       "  </thead>\n",
       "  <tbody>\n",
       "    <tr>\n",
       "      <th>15174</th>\n",
       "      <td>6irGLKAIgbc</td>\n",
       "      <td>18.30.01</td>\n",
       "      <td>SUBMЕRGЕNCЕ Official Trailer (2018) James McAvoy, Alicia Vikander Survival Movie HD</td>\n",
       "      <td>ONE Media</td>\n",
       "      <td>1</td>\n",
       "      <td>2018-01-29T14:50:24.000Z</td>\n",
       "      <td>Cinema\"|\"Trailer\"|\"Official\"|\"Movie\"|\"Film\"|\"James McAvoy\"|\"Alicia Vikander</td>\n",
       "      <td>11.845856</td>\n",
       "      <td>7.027315</td>\n",
       "      <td>3.850148</td>\n",
       "      <td>4.043051</td>\n",
       "      <td>https://i.ytimg.com/vi/6irGLKAIgbc/default.jpg</td>\n",
       "      <td>False</td>\n",
       "      <td>False</td>\n",
       "      <td>False</td>\n",
       "      <td>SUBMЕRGЕNCЕ Trailer (2018) James McAvoy, Alicia Vikander Movie HD\\n© 2018 - LG\\n\\nComedy, Kids, Family and Animated Film, Blockbuster,  Action Cinema, Blockbuster, Scifi Movie or Fantasy film, Drama...   We keep you in the know! \\n\\nSubscribe now to catch the best movie trailers 2017 and the latest official movie trailer, film clip, scene, review, interview.</td>\n",
       "      <td>Bourgogne</td>\n",
       "      <td>46.983733</td>\n",
       "      <td>3.166669</td>\n",
       "      <td>POINT (3.166669473 46.98373293)</td>\n",
       "    </tr>\n",
       "    <tr>\n",
       "      <th>38013</th>\n",
       "      <td>BacnICPYak0</td>\n",
       "      <td>18.01.06</td>\n",
       "      <td>قناة الجزيرة تكشف الأسباب الحقيقية لإستقالة زيدان وهوية المدرب الجديد</td>\n",
       "      <td>Dima Tv Sport</td>\n",
       "      <td>17</td>\n",
       "      <td>2018-05-31T14:24:15.000Z</td>\n",
       "      <td>زين الدين زيدان|\"زين الدين زيدان يصلي\"|\"زين الدين زيدان فرنسا\"|\"زين الدين زيدان في ريال مدريد\"|\"زين الدين زيدان زيزو\"|\"زين الدين زيدان يتكلم عربي\"|\"زين الدين زيدان يلعب كرة\"|\"زين الدين زيدان يتكلم عن محمد صلاح\"|\"زين الدين زيدان وبوفون\"|\"زين الدين زيدان والبرازيل\"|\"زين الدين زيدان والشوالي\"|\"زين الدين زيدان ومحمد صلاح\"|\"هدف زين الدين زيدان\"|\"زين الدين زيدان نهائي كاس العالم\"|\"استقالة زيدان\"|\"تقرير استقالة زيدان\"|\"خبر استقالة زيدان\"|\"استقالة زين الدين زيدان\"</td>\n",
       "      <td>13.189179</td>\n",
       "      <td>7.899153</td>\n",
       "      <td>6.144186</td>\n",
       "      <td>6.432940</td>\n",
       "      <td>https://i.ytimg.com/vi/BacnICPYak0/default.jpg</td>\n",
       "      <td>False</td>\n",
       "      <td>False</td>\n",
       "      <td>False</td>\n",
       "      <td>قناة الجزيرة تكشف الأسباب الحقيقية لإستقالة زين الذين زيدان وهوية المدرب الجديد لفريق ريال مدريد الاسباني</td>\n",
       "      <td>Bretagne</td>\n",
       "      <td>48.516663</td>\n",
       "      <td>-2.783303</td>\n",
       "      <td>POINT (-2.783303265 48.51666262)</td>\n",
       "    </tr>\n",
       "    <tr>\n",
       "      <th>19249</th>\n",
       "      <td>4yG7mB_uY3E</td>\n",
       "      <td>18.20.02</td>\n",
       "      <td>[AMA SUPERCROSS 2018] Etape 07: Arlington (intégral)</td>\n",
       "      <td>AB Moteurs</td>\n",
       "      <td>2</td>\n",
       "      <td>2018-02-19T12:05:58.000Z</td>\n",
       "      <td>AB Moteurs\"|\"AB Moteur\"|\"circuit\"|\"ama supercross\"|\"ama sx us\"|\"marvin musquin\"|\"mm25\"|\"eli tomac\"|\"cole seely\"|\"anderson\"|\"ktm racing factory\"|\"honda\"|\"yamaha\"|\"ken roczen\"|\"3 finales\"|\"elie tomac vainqueur\"|\"2018\"|\"plessinger\"|\"Barcia\"|\"cooper webb\"|\"chad reed\"|\"shane mcelrath\"|\"triple crown\"|\"dylan ferrandis\"|\"ferrandis\"|\"supercross arlington\"|\"east cost\"|\"sx arlington\"|\"chute dylan ferrandis\"|\"arlington 2018\"|\"ama supercross arlington 2018\"|\"ama supercross 2018\"|\"ama supercross 2018 arlington 450 main</td>\n",
       "      <td>9.351406</td>\n",
       "      <td>5.023881</td>\n",
       "      <td>1.791759</td>\n",
       "      <td>2.890372</td>\n",
       "      <td>https://i.ytimg.com/vi/4yG7mB_uY3E/default.jpg</td>\n",
       "      <td>False</td>\n",
       "      <td>False</td>\n",
       "      <td>False</td>\n",
       "      <td>Après le départ à la retraite du « Roi » du SX Ryan Dungey , la bataille va être très serrée cette année pour tenter de remporter le championnat !\\nEn 450cc, tous les meilleurs challengers seront sur la grille de départ:  \\nEli Tomac, Ken Roczen, Jason Anderson, David Millsaps, Cole Seely, Dean Wilson, Chad Reed, Cooper Webb… et surtout notre frenchie Marvin Musquin, qui compte bien réitérer son exploit de 2017, voire décrocher le trophée !\\n\\n✅ Rejoins-nous pour découvrir tout l'univers AB Moteurs:\\n\\n▶️ Facebook: https://www.facebook.com/ABMoteursTV\\n▶️ Twitter: https://twitter.com/ABMoteursTV\\n▶️ Site: http://www.abmoteurs.fr/</td>\n",
       "      <td>Haute Normandie</td>\n",
       "      <td>49.933734</td>\n",
       "      <td>1.083334</td>\n",
       "      <td>POINT (1.083334105 49.93373374)</td>\n",
       "    </tr>\n",
       "  </tbody>\n",
       "</table>\n",
       "</div>"
      ],
      "text/plain": [
       "          video_id trending_date  \\\n",
       "15174  6irGLKAIgbc      18.30.01   \n",
       "38013  BacnICPYak0      18.01.06   \n",
       "19249  4yG7mB_uY3E      18.20.02   \n",
       "\n",
       "                                                                                     title  \\\n",
       "15174  SUBMЕRGЕNCЕ Official Trailer (2018) James McAvoy, Alicia Vikander Survival Movie HD   \n",
       "38013                قناة الجزيرة تكشف الأسباب الحقيقية لإستقالة زيدان وهوية المدرب الجديد   \n",
       "19249                                 [AMA SUPERCROSS 2018] Etape 07: Arlington (intégral)   \n",
       "\n",
       "       channel_title  category_id              publish_time  \\\n",
       "15174      ONE Media            1  2018-01-29T14:50:24.000Z   \n",
       "38013  Dima Tv Sport           17  2018-05-31T14:24:15.000Z   \n",
       "19249     AB Moteurs            2  2018-02-19T12:05:58.000Z   \n",
       "\n",
       "                                                                                                                                                                                                                                                                                                                                                                                                                                                                                                                                 tags  \\\n",
       "15174                                                                                                                                                                                                                                                                                                                                                                                                                                                     Cinema\"|\"Trailer\"|\"Official\"|\"Movie\"|\"Film\"|\"James McAvoy\"|\"Alicia Vikander   \n",
       "38013                                                    زين الدين زيدان|\"زين الدين زيدان يصلي\"|\"زين الدين زيدان فرنسا\"|\"زين الدين زيدان في ريال مدريد\"|\"زين الدين زيدان زيزو\"|\"زين الدين زيدان يتكلم عربي\"|\"زين الدين زيدان يلعب كرة\"|\"زين الدين زيدان يتكلم عن محمد صلاح\"|\"زين الدين زيدان وبوفون\"|\"زين الدين زيدان والبرازيل\"|\"زين الدين زيدان والشوالي\"|\"زين الدين زيدان ومحمد صلاح\"|\"هدف زين الدين زيدان\"|\"زين الدين زيدان نهائي كاس العالم\"|\"استقالة زيدان\"|\"تقرير استقالة زيدان\"|\"خبر استقالة زيدان\"|\"استقالة زين الدين زيدان\"   \n",
       "19249  AB Moteurs\"|\"AB Moteur\"|\"circuit\"|\"ama supercross\"|\"ama sx us\"|\"marvin musquin\"|\"mm25\"|\"eli tomac\"|\"cole seely\"|\"anderson\"|\"ktm racing factory\"|\"honda\"|\"yamaha\"|\"ken roczen\"|\"3 finales\"|\"elie tomac vainqueur\"|\"2018\"|\"plessinger\"|\"Barcia\"|\"cooper webb\"|\"chad reed\"|\"shane mcelrath\"|\"triple crown\"|\"dylan ferrandis\"|\"ferrandis\"|\"supercross arlington\"|\"east cost\"|\"sx arlington\"|\"chute dylan ferrandis\"|\"arlington 2018\"|\"ama supercross arlington 2018\"|\"ama supercross 2018\"|\"ama supercross 2018 arlington 450 main   \n",
       "\n",
       "           views     likes  dislikes  comment_count  \\\n",
       "15174  11.845856  7.027315  3.850148       4.043051   \n",
       "38013  13.189179  7.899153  6.144186       6.432940   \n",
       "19249   9.351406  5.023881  1.791759       2.890372   \n",
       "\n",
       "                                       thumbnail_link  comments_disabled  \\\n",
       "15174  https://i.ytimg.com/vi/6irGLKAIgbc/default.jpg              False   \n",
       "38013  https://i.ytimg.com/vi/BacnICPYak0/default.jpg              False   \n",
       "19249  https://i.ytimg.com/vi/4yG7mB_uY3E/default.jpg              False   \n",
       "\n",
       "       ratings_disabled  video_error_or_removed  \\\n",
       "15174             False                   False   \n",
       "38013             False                   False   \n",
       "19249             False                   False   \n",
       "\n",
       "                                                                                                                                                                                                                                                                                                                                                                                                                                                                                                                                                                                                                                                         description  \\\n",
       "15174                                                                                                                                                                                                                                                                                       SUBMЕRGЕNCЕ Trailer (2018) James McAvoy, Alicia Vikander Movie HD\\n© 2018 - LG\\n\\nComedy, Kids, Family and Animated Film, Blockbuster,  Action Cinema, Blockbuster, Scifi Movie or Fantasy film, Drama...   We keep you in the know! \\n\\nSubscribe now to catch the best movie trailers 2017 and the latest official movie trailer, film clip, scene, review, interview.   \n",
       "38013                                                                                                                                                                                                                                                                                                                                                                                                                                                                                                                                                      قناة الجزيرة تكشف الأسباب الحقيقية لإستقالة زين الذين زيدان وهوية المدرب الجديد لفريق ريال مدريد الاسباني   \n",
       "19249  Après le départ à la retraite du « Roi » du SX Ryan Dungey , la bataille va être très serrée cette année pour tenter de remporter le championnat !\\nEn 450cc, tous les meilleurs challengers seront sur la grille de départ:  \\nEli Tomac, Ken Roczen, Jason Anderson, David Millsaps, Cole Seely, Dean Wilson, Chad Reed, Cooper Webb… et surtout notre frenchie Marvin Musquin, qui compte bien réitérer son exploit de 2017, voire décrocher le trophée !\\n\\n✅ Rejoins-nous pour découvrir tout l'univers AB Moteurs:\\n\\n▶️ Facebook: https://www.facebook.com/ABMoteursTV\\n▶️ Twitter: https://twitter.com/ABMoteursTV\\n▶️ Site: http://www.abmoteurs.fr/   \n",
       "\n",
       "                 state        lat       lon                          geometry  \n",
       "15174        Bourgogne  46.983733  3.166669   POINT (3.166669473 46.98373293)  \n",
       "38013         Bretagne  48.516663 -2.783303  POINT (-2.783303265 48.51666262)  \n",
       "19249  Haute Normandie  49.933734  1.083334   POINT (1.083334105 49.93373374)  "
      ]
     },
     "execution_count": 29,
     "metadata": {},
     "output_type": "execute_result"
    }
   ],
   "source": [
    "FR_df.sample(3)\n",
    "\n",
    "\n"
   ]
  }
 ],
 "metadata": {
  "kernelspec": {
   "display_name": "Python 3",
   "language": "python",
   "name": "python3"
  },
  "language_info": {
   "codemirror_mode": {
    "name": "ipython",
    "version": 3
   },
   "file_extension": ".py",
   "mimetype": "text/x-python",
   "name": "python",
   "nbconvert_exporter": "python",
   "pygments_lexer": "ipython3",
   "version": "3.12.0"
  },
  "orig_nbformat": 4
 },
 "nbformat": 4,
 "nbformat_minor": 2
}
